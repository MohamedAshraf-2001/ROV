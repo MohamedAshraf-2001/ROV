{
  "nbformat": 4,
  "nbformat_minor": 0,
  "metadata": {
    "colab": {
      "provenance": []
    },
    "kernelspec": {
      "name": "python3",
      "display_name": "Python 3"
    },
    "language_info": {
      "name": "python"
    },
    "widgets": {
      "application/vnd.jupyter.widget-state+json": {
        "54cd2ed8ceb8476490b8aca459abfd54": {
          "model_module": "@jupyter-widgets/controls",
          "model_name": "HBoxModel",
          "model_module_version": "1.5.0",
          "state": {
            "_dom_classes": [],
            "_model_module": "@jupyter-widgets/controls",
            "_model_module_version": "1.5.0",
            "_model_name": "HBoxModel",
            "_view_count": null,
            "_view_module": "@jupyter-widgets/controls",
            "_view_module_version": "1.5.0",
            "_view_name": "HBoxView",
            "box_style": "",
            "children": [
              "IPY_MODEL_1f7316f4f7c84a04860da23ddea05217",
              "IPY_MODEL_21c8075b54ad4c06a01345b84a9eb02e",
              "IPY_MODEL_3ddb180dcb2d446ca6d259882528ac24"
            ],
            "layout": "IPY_MODEL_4d7d5f675ebe48fcad23dd6d95128ee9"
          }
        },
        "1f7316f4f7c84a04860da23ddea05217": {
          "model_module": "@jupyter-widgets/controls",
          "model_name": "HTMLModel",
          "model_module_version": "1.5.0",
          "state": {
            "_dom_classes": [],
            "_model_module": "@jupyter-widgets/controls",
            "_model_module_version": "1.5.0",
            "_model_name": "HTMLModel",
            "_view_count": null,
            "_view_module": "@jupyter-widgets/controls",
            "_view_module_version": "1.5.0",
            "_view_name": "HTMLView",
            "description": "",
            "description_tooltip": null,
            "layout": "IPY_MODEL_2ed40df2001d4b96948f5d08878d6df8",
            "placeholder": "​",
            "style": "IPY_MODEL_ea7d6c64d9f949ee9113e087d8e8aa38",
            "value": "100%"
          }
        },
        "21c8075b54ad4c06a01345b84a9eb02e": {
          "model_module": "@jupyter-widgets/controls",
          "model_name": "FloatProgressModel",
          "model_module_version": "1.5.0",
          "state": {
            "_dom_classes": [],
            "_model_module": "@jupyter-widgets/controls",
            "_model_module_version": "1.5.0",
            "_model_name": "FloatProgressModel",
            "_view_count": null,
            "_view_module": "@jupyter-widgets/controls",
            "_view_module_version": "1.5.0",
            "_view_name": "ProgressView",
            "bar_style": "success",
            "description": "",
            "description_tooltip": null,
            "layout": "IPY_MODEL_919a88b1788848fc8df834f53ec284e7",
            "max": 9912422,
            "min": 0,
            "orientation": "horizontal",
            "style": "IPY_MODEL_8e518b2790d94229ab4126869f116fee",
            "value": 9912422
          }
        },
        "3ddb180dcb2d446ca6d259882528ac24": {
          "model_module": "@jupyter-widgets/controls",
          "model_name": "HTMLModel",
          "model_module_version": "1.5.0",
          "state": {
            "_dom_classes": [],
            "_model_module": "@jupyter-widgets/controls",
            "_model_module_version": "1.5.0",
            "_model_name": "HTMLModel",
            "_view_count": null,
            "_view_module": "@jupyter-widgets/controls",
            "_view_module_version": "1.5.0",
            "_view_name": "HTMLView",
            "description": "",
            "description_tooltip": null,
            "layout": "IPY_MODEL_2666b3ec7b754a598124277d67edd44f",
            "placeholder": "​",
            "style": "IPY_MODEL_85de6a8f958a49eaabdf86921f4a7113",
            "value": " 9912422/9912422 [00:00&lt;00:00, 231984015.25it/s]"
          }
        },
        "4d7d5f675ebe48fcad23dd6d95128ee9": {
          "model_module": "@jupyter-widgets/base",
          "model_name": "LayoutModel",
          "model_module_version": "1.2.0",
          "state": {
            "_model_module": "@jupyter-widgets/base",
            "_model_module_version": "1.2.0",
            "_model_name": "LayoutModel",
            "_view_count": null,
            "_view_module": "@jupyter-widgets/base",
            "_view_module_version": "1.2.0",
            "_view_name": "LayoutView",
            "align_content": null,
            "align_items": null,
            "align_self": null,
            "border": null,
            "bottom": null,
            "display": null,
            "flex": null,
            "flex_flow": null,
            "grid_area": null,
            "grid_auto_columns": null,
            "grid_auto_flow": null,
            "grid_auto_rows": null,
            "grid_column": null,
            "grid_gap": null,
            "grid_row": null,
            "grid_template_areas": null,
            "grid_template_columns": null,
            "grid_template_rows": null,
            "height": null,
            "justify_content": null,
            "justify_items": null,
            "left": null,
            "margin": null,
            "max_height": null,
            "max_width": null,
            "min_height": null,
            "min_width": null,
            "object_fit": null,
            "object_position": null,
            "order": null,
            "overflow": null,
            "overflow_x": null,
            "overflow_y": null,
            "padding": null,
            "right": null,
            "top": null,
            "visibility": null,
            "width": null
          }
        },
        "2ed40df2001d4b96948f5d08878d6df8": {
          "model_module": "@jupyter-widgets/base",
          "model_name": "LayoutModel",
          "model_module_version": "1.2.0",
          "state": {
            "_model_module": "@jupyter-widgets/base",
            "_model_module_version": "1.2.0",
            "_model_name": "LayoutModel",
            "_view_count": null,
            "_view_module": "@jupyter-widgets/base",
            "_view_module_version": "1.2.0",
            "_view_name": "LayoutView",
            "align_content": null,
            "align_items": null,
            "align_self": null,
            "border": null,
            "bottom": null,
            "display": null,
            "flex": null,
            "flex_flow": null,
            "grid_area": null,
            "grid_auto_columns": null,
            "grid_auto_flow": null,
            "grid_auto_rows": null,
            "grid_column": null,
            "grid_gap": null,
            "grid_row": null,
            "grid_template_areas": null,
            "grid_template_columns": null,
            "grid_template_rows": null,
            "height": null,
            "justify_content": null,
            "justify_items": null,
            "left": null,
            "margin": null,
            "max_height": null,
            "max_width": null,
            "min_height": null,
            "min_width": null,
            "object_fit": null,
            "object_position": null,
            "order": null,
            "overflow": null,
            "overflow_x": null,
            "overflow_y": null,
            "padding": null,
            "right": null,
            "top": null,
            "visibility": null,
            "width": null
          }
        },
        "ea7d6c64d9f949ee9113e087d8e8aa38": {
          "model_module": "@jupyter-widgets/controls",
          "model_name": "DescriptionStyleModel",
          "model_module_version": "1.5.0",
          "state": {
            "_model_module": "@jupyter-widgets/controls",
            "_model_module_version": "1.5.0",
            "_model_name": "DescriptionStyleModel",
            "_view_count": null,
            "_view_module": "@jupyter-widgets/base",
            "_view_module_version": "1.2.0",
            "_view_name": "StyleView",
            "description_width": ""
          }
        },
        "919a88b1788848fc8df834f53ec284e7": {
          "model_module": "@jupyter-widgets/base",
          "model_name": "LayoutModel",
          "model_module_version": "1.2.0",
          "state": {
            "_model_module": "@jupyter-widgets/base",
            "_model_module_version": "1.2.0",
            "_model_name": "LayoutModel",
            "_view_count": null,
            "_view_module": "@jupyter-widgets/base",
            "_view_module_version": "1.2.0",
            "_view_name": "LayoutView",
            "align_content": null,
            "align_items": null,
            "align_self": null,
            "border": null,
            "bottom": null,
            "display": null,
            "flex": null,
            "flex_flow": null,
            "grid_area": null,
            "grid_auto_columns": null,
            "grid_auto_flow": null,
            "grid_auto_rows": null,
            "grid_column": null,
            "grid_gap": null,
            "grid_row": null,
            "grid_template_areas": null,
            "grid_template_columns": null,
            "grid_template_rows": null,
            "height": null,
            "justify_content": null,
            "justify_items": null,
            "left": null,
            "margin": null,
            "max_height": null,
            "max_width": null,
            "min_height": null,
            "min_width": null,
            "object_fit": null,
            "object_position": null,
            "order": null,
            "overflow": null,
            "overflow_x": null,
            "overflow_y": null,
            "padding": null,
            "right": null,
            "top": null,
            "visibility": null,
            "width": null
          }
        },
        "8e518b2790d94229ab4126869f116fee": {
          "model_module": "@jupyter-widgets/controls",
          "model_name": "ProgressStyleModel",
          "model_module_version": "1.5.0",
          "state": {
            "_model_module": "@jupyter-widgets/controls",
            "_model_module_version": "1.5.0",
            "_model_name": "ProgressStyleModel",
            "_view_count": null,
            "_view_module": "@jupyter-widgets/base",
            "_view_module_version": "1.2.0",
            "_view_name": "StyleView",
            "bar_color": null,
            "description_width": ""
          }
        },
        "2666b3ec7b754a598124277d67edd44f": {
          "model_module": "@jupyter-widgets/base",
          "model_name": "LayoutModel",
          "model_module_version": "1.2.0",
          "state": {
            "_model_module": "@jupyter-widgets/base",
            "_model_module_version": "1.2.0",
            "_model_name": "LayoutModel",
            "_view_count": null,
            "_view_module": "@jupyter-widgets/base",
            "_view_module_version": "1.2.0",
            "_view_name": "LayoutView",
            "align_content": null,
            "align_items": null,
            "align_self": null,
            "border": null,
            "bottom": null,
            "display": null,
            "flex": null,
            "flex_flow": null,
            "grid_area": null,
            "grid_auto_columns": null,
            "grid_auto_flow": null,
            "grid_auto_rows": null,
            "grid_column": null,
            "grid_gap": null,
            "grid_row": null,
            "grid_template_areas": null,
            "grid_template_columns": null,
            "grid_template_rows": null,
            "height": null,
            "justify_content": null,
            "justify_items": null,
            "left": null,
            "margin": null,
            "max_height": null,
            "max_width": null,
            "min_height": null,
            "min_width": null,
            "object_fit": null,
            "object_position": null,
            "order": null,
            "overflow": null,
            "overflow_x": null,
            "overflow_y": null,
            "padding": null,
            "right": null,
            "top": null,
            "visibility": null,
            "width": null
          }
        },
        "85de6a8f958a49eaabdf86921f4a7113": {
          "model_module": "@jupyter-widgets/controls",
          "model_name": "DescriptionStyleModel",
          "model_module_version": "1.5.0",
          "state": {
            "_model_module": "@jupyter-widgets/controls",
            "_model_module_version": "1.5.0",
            "_model_name": "DescriptionStyleModel",
            "_view_count": null,
            "_view_module": "@jupyter-widgets/base",
            "_view_module_version": "1.2.0",
            "_view_name": "StyleView",
            "description_width": ""
          }
        },
        "69ffea5f9a894efda30ee67cab3f34fb": {
          "model_module": "@jupyter-widgets/controls",
          "model_name": "HBoxModel",
          "model_module_version": "1.5.0",
          "state": {
            "_dom_classes": [],
            "_model_module": "@jupyter-widgets/controls",
            "_model_module_version": "1.5.0",
            "_model_name": "HBoxModel",
            "_view_count": null,
            "_view_module": "@jupyter-widgets/controls",
            "_view_module_version": "1.5.0",
            "_view_name": "HBoxView",
            "box_style": "",
            "children": [
              "IPY_MODEL_ad2696069d7c4638abc7f15d22d2dabd",
              "IPY_MODEL_189eee1ea8a248bb931932a582625848",
              "IPY_MODEL_eae4f2543c9b4b859ff445a7910c9780"
            ],
            "layout": "IPY_MODEL_d2ac3371895b4bc5800093c5c1765dc6"
          }
        },
        "ad2696069d7c4638abc7f15d22d2dabd": {
          "model_module": "@jupyter-widgets/controls",
          "model_name": "HTMLModel",
          "model_module_version": "1.5.0",
          "state": {
            "_dom_classes": [],
            "_model_module": "@jupyter-widgets/controls",
            "_model_module_version": "1.5.0",
            "_model_name": "HTMLModel",
            "_view_count": null,
            "_view_module": "@jupyter-widgets/controls",
            "_view_module_version": "1.5.0",
            "_view_name": "HTMLView",
            "description": "",
            "description_tooltip": null,
            "layout": "IPY_MODEL_b1e1412152da42b79b3fa79082af1570",
            "placeholder": "​",
            "style": "IPY_MODEL_e2e8e7738c854c80becfdf5df0119ac5",
            "value": "100%"
          }
        },
        "189eee1ea8a248bb931932a582625848": {
          "model_module": "@jupyter-widgets/controls",
          "model_name": "FloatProgressModel",
          "model_module_version": "1.5.0",
          "state": {
            "_dom_classes": [],
            "_model_module": "@jupyter-widgets/controls",
            "_model_module_version": "1.5.0",
            "_model_name": "FloatProgressModel",
            "_view_count": null,
            "_view_module": "@jupyter-widgets/controls",
            "_view_module_version": "1.5.0",
            "_view_name": "ProgressView",
            "bar_style": "success",
            "description": "",
            "description_tooltip": null,
            "layout": "IPY_MODEL_4390d025c0734a4f8c448b3eaa73f0fc",
            "max": 28881,
            "min": 0,
            "orientation": "horizontal",
            "style": "IPY_MODEL_fe86813a71344962a1122981a3a1ae35",
            "value": 28881
          }
        },
        "eae4f2543c9b4b859ff445a7910c9780": {
          "model_module": "@jupyter-widgets/controls",
          "model_name": "HTMLModel",
          "model_module_version": "1.5.0",
          "state": {
            "_dom_classes": [],
            "_model_module": "@jupyter-widgets/controls",
            "_model_module_version": "1.5.0",
            "_model_name": "HTMLModel",
            "_view_count": null,
            "_view_module": "@jupyter-widgets/controls",
            "_view_module_version": "1.5.0",
            "_view_name": "HTMLView",
            "description": "",
            "description_tooltip": null,
            "layout": "IPY_MODEL_b804e67cd9d144d5b7808927edad3d6a",
            "placeholder": "​",
            "style": "IPY_MODEL_e87eadc3197542c0b3ff2da1ab5e1888",
            "value": " 28881/28881 [00:00&lt;00:00, 1798573.05it/s]"
          }
        },
        "d2ac3371895b4bc5800093c5c1765dc6": {
          "model_module": "@jupyter-widgets/base",
          "model_name": "LayoutModel",
          "model_module_version": "1.2.0",
          "state": {
            "_model_module": "@jupyter-widgets/base",
            "_model_module_version": "1.2.0",
            "_model_name": "LayoutModel",
            "_view_count": null,
            "_view_module": "@jupyter-widgets/base",
            "_view_module_version": "1.2.0",
            "_view_name": "LayoutView",
            "align_content": null,
            "align_items": null,
            "align_self": null,
            "border": null,
            "bottom": null,
            "display": null,
            "flex": null,
            "flex_flow": null,
            "grid_area": null,
            "grid_auto_columns": null,
            "grid_auto_flow": null,
            "grid_auto_rows": null,
            "grid_column": null,
            "grid_gap": null,
            "grid_row": null,
            "grid_template_areas": null,
            "grid_template_columns": null,
            "grid_template_rows": null,
            "height": null,
            "justify_content": null,
            "justify_items": null,
            "left": null,
            "margin": null,
            "max_height": null,
            "max_width": null,
            "min_height": null,
            "min_width": null,
            "object_fit": null,
            "object_position": null,
            "order": null,
            "overflow": null,
            "overflow_x": null,
            "overflow_y": null,
            "padding": null,
            "right": null,
            "top": null,
            "visibility": null,
            "width": null
          }
        },
        "b1e1412152da42b79b3fa79082af1570": {
          "model_module": "@jupyter-widgets/base",
          "model_name": "LayoutModel",
          "model_module_version": "1.2.0",
          "state": {
            "_model_module": "@jupyter-widgets/base",
            "_model_module_version": "1.2.0",
            "_model_name": "LayoutModel",
            "_view_count": null,
            "_view_module": "@jupyter-widgets/base",
            "_view_module_version": "1.2.0",
            "_view_name": "LayoutView",
            "align_content": null,
            "align_items": null,
            "align_self": null,
            "border": null,
            "bottom": null,
            "display": null,
            "flex": null,
            "flex_flow": null,
            "grid_area": null,
            "grid_auto_columns": null,
            "grid_auto_flow": null,
            "grid_auto_rows": null,
            "grid_column": null,
            "grid_gap": null,
            "grid_row": null,
            "grid_template_areas": null,
            "grid_template_columns": null,
            "grid_template_rows": null,
            "height": null,
            "justify_content": null,
            "justify_items": null,
            "left": null,
            "margin": null,
            "max_height": null,
            "max_width": null,
            "min_height": null,
            "min_width": null,
            "object_fit": null,
            "object_position": null,
            "order": null,
            "overflow": null,
            "overflow_x": null,
            "overflow_y": null,
            "padding": null,
            "right": null,
            "top": null,
            "visibility": null,
            "width": null
          }
        },
        "e2e8e7738c854c80becfdf5df0119ac5": {
          "model_module": "@jupyter-widgets/controls",
          "model_name": "DescriptionStyleModel",
          "model_module_version": "1.5.0",
          "state": {
            "_model_module": "@jupyter-widgets/controls",
            "_model_module_version": "1.5.0",
            "_model_name": "DescriptionStyleModel",
            "_view_count": null,
            "_view_module": "@jupyter-widgets/base",
            "_view_module_version": "1.2.0",
            "_view_name": "StyleView",
            "description_width": ""
          }
        },
        "4390d025c0734a4f8c448b3eaa73f0fc": {
          "model_module": "@jupyter-widgets/base",
          "model_name": "LayoutModel",
          "model_module_version": "1.2.0",
          "state": {
            "_model_module": "@jupyter-widgets/base",
            "_model_module_version": "1.2.0",
            "_model_name": "LayoutModel",
            "_view_count": null,
            "_view_module": "@jupyter-widgets/base",
            "_view_module_version": "1.2.0",
            "_view_name": "LayoutView",
            "align_content": null,
            "align_items": null,
            "align_self": null,
            "border": null,
            "bottom": null,
            "display": null,
            "flex": null,
            "flex_flow": null,
            "grid_area": null,
            "grid_auto_columns": null,
            "grid_auto_flow": null,
            "grid_auto_rows": null,
            "grid_column": null,
            "grid_gap": null,
            "grid_row": null,
            "grid_template_areas": null,
            "grid_template_columns": null,
            "grid_template_rows": null,
            "height": null,
            "justify_content": null,
            "justify_items": null,
            "left": null,
            "margin": null,
            "max_height": null,
            "max_width": null,
            "min_height": null,
            "min_width": null,
            "object_fit": null,
            "object_position": null,
            "order": null,
            "overflow": null,
            "overflow_x": null,
            "overflow_y": null,
            "padding": null,
            "right": null,
            "top": null,
            "visibility": null,
            "width": null
          }
        },
        "fe86813a71344962a1122981a3a1ae35": {
          "model_module": "@jupyter-widgets/controls",
          "model_name": "ProgressStyleModel",
          "model_module_version": "1.5.0",
          "state": {
            "_model_module": "@jupyter-widgets/controls",
            "_model_module_version": "1.5.0",
            "_model_name": "ProgressStyleModel",
            "_view_count": null,
            "_view_module": "@jupyter-widgets/base",
            "_view_module_version": "1.2.0",
            "_view_name": "StyleView",
            "bar_color": null,
            "description_width": ""
          }
        },
        "b804e67cd9d144d5b7808927edad3d6a": {
          "model_module": "@jupyter-widgets/base",
          "model_name": "LayoutModel",
          "model_module_version": "1.2.0",
          "state": {
            "_model_module": "@jupyter-widgets/base",
            "_model_module_version": "1.2.0",
            "_model_name": "LayoutModel",
            "_view_count": null,
            "_view_module": "@jupyter-widgets/base",
            "_view_module_version": "1.2.0",
            "_view_name": "LayoutView",
            "align_content": null,
            "align_items": null,
            "align_self": null,
            "border": null,
            "bottom": null,
            "display": null,
            "flex": null,
            "flex_flow": null,
            "grid_area": null,
            "grid_auto_columns": null,
            "grid_auto_flow": null,
            "grid_auto_rows": null,
            "grid_column": null,
            "grid_gap": null,
            "grid_row": null,
            "grid_template_areas": null,
            "grid_template_columns": null,
            "grid_template_rows": null,
            "height": null,
            "justify_content": null,
            "justify_items": null,
            "left": null,
            "margin": null,
            "max_height": null,
            "max_width": null,
            "min_height": null,
            "min_width": null,
            "object_fit": null,
            "object_position": null,
            "order": null,
            "overflow": null,
            "overflow_x": null,
            "overflow_y": null,
            "padding": null,
            "right": null,
            "top": null,
            "visibility": null,
            "width": null
          }
        },
        "e87eadc3197542c0b3ff2da1ab5e1888": {
          "model_module": "@jupyter-widgets/controls",
          "model_name": "DescriptionStyleModel",
          "model_module_version": "1.5.0",
          "state": {
            "_model_module": "@jupyter-widgets/controls",
            "_model_module_version": "1.5.0",
            "_model_name": "DescriptionStyleModel",
            "_view_count": null,
            "_view_module": "@jupyter-widgets/base",
            "_view_module_version": "1.2.0",
            "_view_name": "StyleView",
            "description_width": ""
          }
        },
        "d3db2bf5bfbd4abe95e531ab81811ed6": {
          "model_module": "@jupyter-widgets/controls",
          "model_name": "HBoxModel",
          "model_module_version": "1.5.0",
          "state": {
            "_dom_classes": [],
            "_model_module": "@jupyter-widgets/controls",
            "_model_module_version": "1.5.0",
            "_model_name": "HBoxModel",
            "_view_count": null,
            "_view_module": "@jupyter-widgets/controls",
            "_view_module_version": "1.5.0",
            "_view_name": "HBoxView",
            "box_style": "",
            "children": [
              "IPY_MODEL_82c5de3c52e948b79d5b87d1e2a59198",
              "IPY_MODEL_b2e42b852f67439eb3f4a7d67df7761d",
              "IPY_MODEL_72c7bf69914f49f6abbc0dedfdc0533c"
            ],
            "layout": "IPY_MODEL_a3231eba5436434799284c1b3a311afc"
          }
        },
        "82c5de3c52e948b79d5b87d1e2a59198": {
          "model_module": "@jupyter-widgets/controls",
          "model_name": "HTMLModel",
          "model_module_version": "1.5.0",
          "state": {
            "_dom_classes": [],
            "_model_module": "@jupyter-widgets/controls",
            "_model_module_version": "1.5.0",
            "_model_name": "HTMLModel",
            "_view_count": null,
            "_view_module": "@jupyter-widgets/controls",
            "_view_module_version": "1.5.0",
            "_view_name": "HTMLView",
            "description": "",
            "description_tooltip": null,
            "layout": "IPY_MODEL_c72d8762f8074a2fa32c912260de7442",
            "placeholder": "​",
            "style": "IPY_MODEL_73acee6cf1bb4b908225a3190776062a",
            "value": "100%"
          }
        },
        "b2e42b852f67439eb3f4a7d67df7761d": {
          "model_module": "@jupyter-widgets/controls",
          "model_name": "FloatProgressModel",
          "model_module_version": "1.5.0",
          "state": {
            "_dom_classes": [],
            "_model_module": "@jupyter-widgets/controls",
            "_model_module_version": "1.5.0",
            "_model_name": "FloatProgressModel",
            "_view_count": null,
            "_view_module": "@jupyter-widgets/controls",
            "_view_module_version": "1.5.0",
            "_view_name": "ProgressView",
            "bar_style": "success",
            "description": "",
            "description_tooltip": null,
            "layout": "IPY_MODEL_15c62eb6603d44cea847980bc86acd6d",
            "max": 1648877,
            "min": 0,
            "orientation": "horizontal",
            "style": "IPY_MODEL_d431a1450fd64556a7ff184f757a1121",
            "value": 1648877
          }
        },
        "72c7bf69914f49f6abbc0dedfdc0533c": {
          "model_module": "@jupyter-widgets/controls",
          "model_name": "HTMLModel",
          "model_module_version": "1.5.0",
          "state": {
            "_dom_classes": [],
            "_model_module": "@jupyter-widgets/controls",
            "_model_module_version": "1.5.0",
            "_model_name": "HTMLModel",
            "_view_count": null,
            "_view_module": "@jupyter-widgets/controls",
            "_view_module_version": "1.5.0",
            "_view_name": "HTMLView",
            "description": "",
            "description_tooltip": null,
            "layout": "IPY_MODEL_9ccc91dc1e1b4e4cbd1a2fb8b27f17d0",
            "placeholder": "​",
            "style": "IPY_MODEL_6d481a7b824641819b7c7687dd8970c2",
            "value": " 1648877/1648877 [00:00&lt;00:00, 55348384.95it/s]"
          }
        },
        "a3231eba5436434799284c1b3a311afc": {
          "model_module": "@jupyter-widgets/base",
          "model_name": "LayoutModel",
          "model_module_version": "1.2.0",
          "state": {
            "_model_module": "@jupyter-widgets/base",
            "_model_module_version": "1.2.0",
            "_model_name": "LayoutModel",
            "_view_count": null,
            "_view_module": "@jupyter-widgets/base",
            "_view_module_version": "1.2.0",
            "_view_name": "LayoutView",
            "align_content": null,
            "align_items": null,
            "align_self": null,
            "border": null,
            "bottom": null,
            "display": null,
            "flex": null,
            "flex_flow": null,
            "grid_area": null,
            "grid_auto_columns": null,
            "grid_auto_flow": null,
            "grid_auto_rows": null,
            "grid_column": null,
            "grid_gap": null,
            "grid_row": null,
            "grid_template_areas": null,
            "grid_template_columns": null,
            "grid_template_rows": null,
            "height": null,
            "justify_content": null,
            "justify_items": null,
            "left": null,
            "margin": null,
            "max_height": null,
            "max_width": null,
            "min_height": null,
            "min_width": null,
            "object_fit": null,
            "object_position": null,
            "order": null,
            "overflow": null,
            "overflow_x": null,
            "overflow_y": null,
            "padding": null,
            "right": null,
            "top": null,
            "visibility": null,
            "width": null
          }
        },
        "c72d8762f8074a2fa32c912260de7442": {
          "model_module": "@jupyter-widgets/base",
          "model_name": "LayoutModel",
          "model_module_version": "1.2.0",
          "state": {
            "_model_module": "@jupyter-widgets/base",
            "_model_module_version": "1.2.0",
            "_model_name": "LayoutModel",
            "_view_count": null,
            "_view_module": "@jupyter-widgets/base",
            "_view_module_version": "1.2.0",
            "_view_name": "LayoutView",
            "align_content": null,
            "align_items": null,
            "align_self": null,
            "border": null,
            "bottom": null,
            "display": null,
            "flex": null,
            "flex_flow": null,
            "grid_area": null,
            "grid_auto_columns": null,
            "grid_auto_flow": null,
            "grid_auto_rows": null,
            "grid_column": null,
            "grid_gap": null,
            "grid_row": null,
            "grid_template_areas": null,
            "grid_template_columns": null,
            "grid_template_rows": null,
            "height": null,
            "justify_content": null,
            "justify_items": null,
            "left": null,
            "margin": null,
            "max_height": null,
            "max_width": null,
            "min_height": null,
            "min_width": null,
            "object_fit": null,
            "object_position": null,
            "order": null,
            "overflow": null,
            "overflow_x": null,
            "overflow_y": null,
            "padding": null,
            "right": null,
            "top": null,
            "visibility": null,
            "width": null
          }
        },
        "73acee6cf1bb4b908225a3190776062a": {
          "model_module": "@jupyter-widgets/controls",
          "model_name": "DescriptionStyleModel",
          "model_module_version": "1.5.0",
          "state": {
            "_model_module": "@jupyter-widgets/controls",
            "_model_module_version": "1.5.0",
            "_model_name": "DescriptionStyleModel",
            "_view_count": null,
            "_view_module": "@jupyter-widgets/base",
            "_view_module_version": "1.2.0",
            "_view_name": "StyleView",
            "description_width": ""
          }
        },
        "15c62eb6603d44cea847980bc86acd6d": {
          "model_module": "@jupyter-widgets/base",
          "model_name": "LayoutModel",
          "model_module_version": "1.2.0",
          "state": {
            "_model_module": "@jupyter-widgets/base",
            "_model_module_version": "1.2.0",
            "_model_name": "LayoutModel",
            "_view_count": null,
            "_view_module": "@jupyter-widgets/base",
            "_view_module_version": "1.2.0",
            "_view_name": "LayoutView",
            "align_content": null,
            "align_items": null,
            "align_self": null,
            "border": null,
            "bottom": null,
            "display": null,
            "flex": null,
            "flex_flow": null,
            "grid_area": null,
            "grid_auto_columns": null,
            "grid_auto_flow": null,
            "grid_auto_rows": null,
            "grid_column": null,
            "grid_gap": null,
            "grid_row": null,
            "grid_template_areas": null,
            "grid_template_columns": null,
            "grid_template_rows": null,
            "height": null,
            "justify_content": null,
            "justify_items": null,
            "left": null,
            "margin": null,
            "max_height": null,
            "max_width": null,
            "min_height": null,
            "min_width": null,
            "object_fit": null,
            "object_position": null,
            "order": null,
            "overflow": null,
            "overflow_x": null,
            "overflow_y": null,
            "padding": null,
            "right": null,
            "top": null,
            "visibility": null,
            "width": null
          }
        },
        "d431a1450fd64556a7ff184f757a1121": {
          "model_module": "@jupyter-widgets/controls",
          "model_name": "ProgressStyleModel",
          "model_module_version": "1.5.0",
          "state": {
            "_model_module": "@jupyter-widgets/controls",
            "_model_module_version": "1.5.0",
            "_model_name": "ProgressStyleModel",
            "_view_count": null,
            "_view_module": "@jupyter-widgets/base",
            "_view_module_version": "1.2.0",
            "_view_name": "StyleView",
            "bar_color": null,
            "description_width": ""
          }
        },
        "9ccc91dc1e1b4e4cbd1a2fb8b27f17d0": {
          "model_module": "@jupyter-widgets/base",
          "model_name": "LayoutModel",
          "model_module_version": "1.2.0",
          "state": {
            "_model_module": "@jupyter-widgets/base",
            "_model_module_version": "1.2.0",
            "_model_name": "LayoutModel",
            "_view_count": null,
            "_view_module": "@jupyter-widgets/base",
            "_view_module_version": "1.2.0",
            "_view_name": "LayoutView",
            "align_content": null,
            "align_items": null,
            "align_self": null,
            "border": null,
            "bottom": null,
            "display": null,
            "flex": null,
            "flex_flow": null,
            "grid_area": null,
            "grid_auto_columns": null,
            "grid_auto_flow": null,
            "grid_auto_rows": null,
            "grid_column": null,
            "grid_gap": null,
            "grid_row": null,
            "grid_template_areas": null,
            "grid_template_columns": null,
            "grid_template_rows": null,
            "height": null,
            "justify_content": null,
            "justify_items": null,
            "left": null,
            "margin": null,
            "max_height": null,
            "max_width": null,
            "min_height": null,
            "min_width": null,
            "object_fit": null,
            "object_position": null,
            "order": null,
            "overflow": null,
            "overflow_x": null,
            "overflow_y": null,
            "padding": null,
            "right": null,
            "top": null,
            "visibility": null,
            "width": null
          }
        },
        "6d481a7b824641819b7c7687dd8970c2": {
          "model_module": "@jupyter-widgets/controls",
          "model_name": "DescriptionStyleModel",
          "model_module_version": "1.5.0",
          "state": {
            "_model_module": "@jupyter-widgets/controls",
            "_model_module_version": "1.5.0",
            "_model_name": "DescriptionStyleModel",
            "_view_count": null,
            "_view_module": "@jupyter-widgets/base",
            "_view_module_version": "1.2.0",
            "_view_name": "StyleView",
            "description_width": ""
          }
        },
        "d5521143c45e422cb59841d9e44d646e": {
          "model_module": "@jupyter-widgets/controls",
          "model_name": "HBoxModel",
          "model_module_version": "1.5.0",
          "state": {
            "_dom_classes": [],
            "_model_module": "@jupyter-widgets/controls",
            "_model_module_version": "1.5.0",
            "_model_name": "HBoxModel",
            "_view_count": null,
            "_view_module": "@jupyter-widgets/controls",
            "_view_module_version": "1.5.0",
            "_view_name": "HBoxView",
            "box_style": "",
            "children": [
              "IPY_MODEL_ec21a37c5dea470d8dfeab604d383dcd",
              "IPY_MODEL_cac8002ca77f4045be8929dd404ae06e",
              "IPY_MODEL_a5f01b63008d4b509e14b589dce0e6fb"
            ],
            "layout": "IPY_MODEL_9186ba7f010846fe8e0092abefaa5784"
          }
        },
        "ec21a37c5dea470d8dfeab604d383dcd": {
          "model_module": "@jupyter-widgets/controls",
          "model_name": "HTMLModel",
          "model_module_version": "1.5.0",
          "state": {
            "_dom_classes": [],
            "_model_module": "@jupyter-widgets/controls",
            "_model_module_version": "1.5.0",
            "_model_name": "HTMLModel",
            "_view_count": null,
            "_view_module": "@jupyter-widgets/controls",
            "_view_module_version": "1.5.0",
            "_view_name": "HTMLView",
            "description": "",
            "description_tooltip": null,
            "layout": "IPY_MODEL_661d409c29df46ecae9f6c63800c50d0",
            "placeholder": "​",
            "style": "IPY_MODEL_5807557bc8394712a10e0d37415653fc",
            "value": "100%"
          }
        },
        "cac8002ca77f4045be8929dd404ae06e": {
          "model_module": "@jupyter-widgets/controls",
          "model_name": "FloatProgressModel",
          "model_module_version": "1.5.0",
          "state": {
            "_dom_classes": [],
            "_model_module": "@jupyter-widgets/controls",
            "_model_module_version": "1.5.0",
            "_model_name": "FloatProgressModel",
            "_view_count": null,
            "_view_module": "@jupyter-widgets/controls",
            "_view_module_version": "1.5.0",
            "_view_name": "ProgressView",
            "bar_style": "success",
            "description": "",
            "description_tooltip": null,
            "layout": "IPY_MODEL_53d1d53d36f54574ae59e1e032af3145",
            "max": 4542,
            "min": 0,
            "orientation": "horizontal",
            "style": "IPY_MODEL_7021d5305941420985bcdda6bc74c18b",
            "value": 4542
          }
        },
        "a5f01b63008d4b509e14b589dce0e6fb": {
          "model_module": "@jupyter-widgets/controls",
          "model_name": "HTMLModel",
          "model_module_version": "1.5.0",
          "state": {
            "_dom_classes": [],
            "_model_module": "@jupyter-widgets/controls",
            "_model_module_version": "1.5.0",
            "_model_name": "HTMLModel",
            "_view_count": null,
            "_view_module": "@jupyter-widgets/controls",
            "_view_module_version": "1.5.0",
            "_view_name": "HTMLView",
            "description": "",
            "description_tooltip": null,
            "layout": "IPY_MODEL_bb4b954646354804bcdc08c4a457d53e",
            "placeholder": "​",
            "style": "IPY_MODEL_c4b1e48b23f74c588942fc456c89d5f7",
            "value": " 4542/4542 [00:00&lt;00:00, 53621.92it/s]"
          }
        },
        "9186ba7f010846fe8e0092abefaa5784": {
          "model_module": "@jupyter-widgets/base",
          "model_name": "LayoutModel",
          "model_module_version": "1.2.0",
          "state": {
            "_model_module": "@jupyter-widgets/base",
            "_model_module_version": "1.2.0",
            "_model_name": "LayoutModel",
            "_view_count": null,
            "_view_module": "@jupyter-widgets/base",
            "_view_module_version": "1.2.0",
            "_view_name": "LayoutView",
            "align_content": null,
            "align_items": null,
            "align_self": null,
            "border": null,
            "bottom": null,
            "display": null,
            "flex": null,
            "flex_flow": null,
            "grid_area": null,
            "grid_auto_columns": null,
            "grid_auto_flow": null,
            "grid_auto_rows": null,
            "grid_column": null,
            "grid_gap": null,
            "grid_row": null,
            "grid_template_areas": null,
            "grid_template_columns": null,
            "grid_template_rows": null,
            "height": null,
            "justify_content": null,
            "justify_items": null,
            "left": null,
            "margin": null,
            "max_height": null,
            "max_width": null,
            "min_height": null,
            "min_width": null,
            "object_fit": null,
            "object_position": null,
            "order": null,
            "overflow": null,
            "overflow_x": null,
            "overflow_y": null,
            "padding": null,
            "right": null,
            "top": null,
            "visibility": null,
            "width": null
          }
        },
        "661d409c29df46ecae9f6c63800c50d0": {
          "model_module": "@jupyter-widgets/base",
          "model_name": "LayoutModel",
          "model_module_version": "1.2.0",
          "state": {
            "_model_module": "@jupyter-widgets/base",
            "_model_module_version": "1.2.0",
            "_model_name": "LayoutModel",
            "_view_count": null,
            "_view_module": "@jupyter-widgets/base",
            "_view_module_version": "1.2.0",
            "_view_name": "LayoutView",
            "align_content": null,
            "align_items": null,
            "align_self": null,
            "border": null,
            "bottom": null,
            "display": null,
            "flex": null,
            "flex_flow": null,
            "grid_area": null,
            "grid_auto_columns": null,
            "grid_auto_flow": null,
            "grid_auto_rows": null,
            "grid_column": null,
            "grid_gap": null,
            "grid_row": null,
            "grid_template_areas": null,
            "grid_template_columns": null,
            "grid_template_rows": null,
            "height": null,
            "justify_content": null,
            "justify_items": null,
            "left": null,
            "margin": null,
            "max_height": null,
            "max_width": null,
            "min_height": null,
            "min_width": null,
            "object_fit": null,
            "object_position": null,
            "order": null,
            "overflow": null,
            "overflow_x": null,
            "overflow_y": null,
            "padding": null,
            "right": null,
            "top": null,
            "visibility": null,
            "width": null
          }
        },
        "5807557bc8394712a10e0d37415653fc": {
          "model_module": "@jupyter-widgets/controls",
          "model_name": "DescriptionStyleModel",
          "model_module_version": "1.5.0",
          "state": {
            "_model_module": "@jupyter-widgets/controls",
            "_model_module_version": "1.5.0",
            "_model_name": "DescriptionStyleModel",
            "_view_count": null,
            "_view_module": "@jupyter-widgets/base",
            "_view_module_version": "1.2.0",
            "_view_name": "StyleView",
            "description_width": ""
          }
        },
        "53d1d53d36f54574ae59e1e032af3145": {
          "model_module": "@jupyter-widgets/base",
          "model_name": "LayoutModel",
          "model_module_version": "1.2.0",
          "state": {
            "_model_module": "@jupyter-widgets/base",
            "_model_module_version": "1.2.0",
            "_model_name": "LayoutModel",
            "_view_count": null,
            "_view_module": "@jupyter-widgets/base",
            "_view_module_version": "1.2.0",
            "_view_name": "LayoutView",
            "align_content": null,
            "align_items": null,
            "align_self": null,
            "border": null,
            "bottom": null,
            "display": null,
            "flex": null,
            "flex_flow": null,
            "grid_area": null,
            "grid_auto_columns": null,
            "grid_auto_flow": null,
            "grid_auto_rows": null,
            "grid_column": null,
            "grid_gap": null,
            "grid_row": null,
            "grid_template_areas": null,
            "grid_template_columns": null,
            "grid_template_rows": null,
            "height": null,
            "justify_content": null,
            "justify_items": null,
            "left": null,
            "margin": null,
            "max_height": null,
            "max_width": null,
            "min_height": null,
            "min_width": null,
            "object_fit": null,
            "object_position": null,
            "order": null,
            "overflow": null,
            "overflow_x": null,
            "overflow_y": null,
            "padding": null,
            "right": null,
            "top": null,
            "visibility": null,
            "width": null
          }
        },
        "7021d5305941420985bcdda6bc74c18b": {
          "model_module": "@jupyter-widgets/controls",
          "model_name": "ProgressStyleModel",
          "model_module_version": "1.5.0",
          "state": {
            "_model_module": "@jupyter-widgets/controls",
            "_model_module_version": "1.5.0",
            "_model_name": "ProgressStyleModel",
            "_view_count": null,
            "_view_module": "@jupyter-widgets/base",
            "_view_module_version": "1.2.0",
            "_view_name": "StyleView",
            "bar_color": null,
            "description_width": ""
          }
        },
        "bb4b954646354804bcdc08c4a457d53e": {
          "model_module": "@jupyter-widgets/base",
          "model_name": "LayoutModel",
          "model_module_version": "1.2.0",
          "state": {
            "_model_module": "@jupyter-widgets/base",
            "_model_module_version": "1.2.0",
            "_model_name": "LayoutModel",
            "_view_count": null,
            "_view_module": "@jupyter-widgets/base",
            "_view_module_version": "1.2.0",
            "_view_name": "LayoutView",
            "align_content": null,
            "align_items": null,
            "align_self": null,
            "border": null,
            "bottom": null,
            "display": null,
            "flex": null,
            "flex_flow": null,
            "grid_area": null,
            "grid_auto_columns": null,
            "grid_auto_flow": null,
            "grid_auto_rows": null,
            "grid_column": null,
            "grid_gap": null,
            "grid_row": null,
            "grid_template_areas": null,
            "grid_template_columns": null,
            "grid_template_rows": null,
            "height": null,
            "justify_content": null,
            "justify_items": null,
            "left": null,
            "margin": null,
            "max_height": null,
            "max_width": null,
            "min_height": null,
            "min_width": null,
            "object_fit": null,
            "object_position": null,
            "order": null,
            "overflow": null,
            "overflow_x": null,
            "overflow_y": null,
            "padding": null,
            "right": null,
            "top": null,
            "visibility": null,
            "width": null
          }
        },
        "c4b1e48b23f74c588942fc456c89d5f7": {
          "model_module": "@jupyter-widgets/controls",
          "model_name": "DescriptionStyleModel",
          "model_module_version": "1.5.0",
          "state": {
            "_model_module": "@jupyter-widgets/controls",
            "_model_module_version": "1.5.0",
            "_model_name": "DescriptionStyleModel",
            "_view_count": null,
            "_view_module": "@jupyter-widgets/base",
            "_view_module_version": "1.2.0",
            "_view_name": "StyleView",
            "description_width": ""
          }
        }
      }
    }
  },
  "cells": [
    {
      "cell_type": "markdown",
      "source": [
        "# 1) Import Libraries "
      ],
      "metadata": {
        "id": "6GXg4zrb_0dF"
      }
    },
    {
      "cell_type": "code",
      "source": [
        "import torch \n",
        "import torchvision\n",
        "import torchvision.transforms as transforms \n",
        "import torch.optim as optim \n",
        "import torch.nn as nn \n",
        "\n",
        "import time "
      ],
      "metadata": {
        "id": "pWrXsk7a_3l7"
      },
      "execution_count": 3,
      "outputs": []
    },
    {
      "cell_type": "markdown",
      "source": [
        "## Check if using GPU "
      ],
      "metadata": {
        "id": "73oEPP1bAMVt"
      }
    },
    {
      "cell_type": "code",
      "source": [
        "print('GPU AVAILABLE: {}'.format(torch.cuda.is_available()))"
      ],
      "metadata": {
        "colab": {
          "base_uri": "https://localhost:8080/"
        },
        "id": "ZG3PoqALAKl6",
        "outputId": "94592465-8273-427d-b25d-cc3abd01ea86"
      },
      "execution_count": 4,
      "outputs": [
        {
          "output_type": "stream",
          "name": "stdout",
          "text": [
            "GPU AVAILABLE: False\n"
          ]
        }
      ]
    },
    {
      "cell_type": "code",
      "source": [
        "if torch.cuda.is_available():\n",
        "  device = 'cuda'\n",
        "else:\n",
        "  device = 'cpu'"
      ],
      "metadata": {
        "id": "bfW-p4LJAeAq"
      },
      "execution_count": 5,
      "outputs": []
    },
    {
      "cell_type": "markdown",
      "source": [
        "# 2) Loading Dataset"
      ],
      "metadata": {
        "id": "mFj8SW080Gdi"
      }
    },
    {
      "cell_type": "code",
      "source": [
        "#Transform to a pytorch tensors and normalize our values between -1 and 1\n",
        "transform = transforms.Compose([transforms.ToTensor(),\n",
        "                                transforms.Normalize((0.5), (0.5))])"
      ],
      "metadata": {
        "id": "pDlbq5YCBVJr"
      },
      "execution_count": 6,
      "outputs": []
    },
    {
      "cell_type": "code",
      "source": [
        "#Load our training data and specify what transform to use when loading \n",
        "train_set = torchvision.datasets.MNIST('mnist',\n",
        "                                       train = True,\n",
        "                                       download = True, \n",
        "                                       transform = transform)\n",
        "\n",
        "#Load our test data and specify what transform to use when loading \n",
        "test_set = torchvision.datasets.MNIST('mnist',\n",
        "                                     train = False, \n",
        "                                     download = True,\n",
        "                                     transform = transform)"
      ],
      "metadata": {
        "colab": {
          "base_uri": "https://localhost:8080/",
          "height": 471,
          "referenced_widgets": [
            "54cd2ed8ceb8476490b8aca459abfd54",
            "1f7316f4f7c84a04860da23ddea05217",
            "21c8075b54ad4c06a01345b84a9eb02e",
            "3ddb180dcb2d446ca6d259882528ac24",
            "4d7d5f675ebe48fcad23dd6d95128ee9",
            "2ed40df2001d4b96948f5d08878d6df8",
            "ea7d6c64d9f949ee9113e087d8e8aa38",
            "919a88b1788848fc8df834f53ec284e7",
            "8e518b2790d94229ab4126869f116fee",
            "2666b3ec7b754a598124277d67edd44f",
            "85de6a8f958a49eaabdf86921f4a7113",
            "69ffea5f9a894efda30ee67cab3f34fb",
            "ad2696069d7c4638abc7f15d22d2dabd",
            "189eee1ea8a248bb931932a582625848",
            "eae4f2543c9b4b859ff445a7910c9780",
            "d2ac3371895b4bc5800093c5c1765dc6",
            "b1e1412152da42b79b3fa79082af1570",
            "e2e8e7738c854c80becfdf5df0119ac5",
            "4390d025c0734a4f8c448b3eaa73f0fc",
            "fe86813a71344962a1122981a3a1ae35",
            "b804e67cd9d144d5b7808927edad3d6a",
            "e87eadc3197542c0b3ff2da1ab5e1888",
            "d3db2bf5bfbd4abe95e531ab81811ed6",
            "82c5de3c52e948b79d5b87d1e2a59198",
            "b2e42b852f67439eb3f4a7d67df7761d",
            "72c7bf69914f49f6abbc0dedfdc0533c",
            "a3231eba5436434799284c1b3a311afc",
            "c72d8762f8074a2fa32c912260de7442",
            "73acee6cf1bb4b908225a3190776062a",
            "15c62eb6603d44cea847980bc86acd6d",
            "d431a1450fd64556a7ff184f757a1121",
            "9ccc91dc1e1b4e4cbd1a2fb8b27f17d0",
            "6d481a7b824641819b7c7687dd8970c2",
            "d5521143c45e422cb59841d9e44d646e",
            "ec21a37c5dea470d8dfeab604d383dcd",
            "cac8002ca77f4045be8929dd404ae06e",
            "a5f01b63008d4b509e14b589dce0e6fb",
            "9186ba7f010846fe8e0092abefaa5784",
            "661d409c29df46ecae9f6c63800c50d0",
            "5807557bc8394712a10e0d37415653fc",
            "53d1d53d36f54574ae59e1e032af3145",
            "7021d5305941420985bcdda6bc74c18b",
            "bb4b954646354804bcdc08c4a457d53e",
            "c4b1e48b23f74c588942fc456c89d5f7"
          ]
        },
        "id": "lGDjgFevCWBL",
        "outputId": "bc15f7f3-95d9-45f1-90f6-3baea2a1b79f"
      },
      "execution_count": 7,
      "outputs": [
        {
          "output_type": "stream",
          "name": "stdout",
          "text": [
            "Downloading http://yann.lecun.com/exdb/mnist/train-images-idx3-ubyte.gz\n",
            "Downloading http://yann.lecun.com/exdb/mnist/train-images-idx3-ubyte.gz to mnist/MNIST/raw/train-images-idx3-ubyte.gz\n"
          ]
        },
        {
          "output_type": "display_data",
          "data": {
            "text/plain": [
              "  0%|          | 0/9912422 [00:00<?, ?it/s]"
            ],
            "application/vnd.jupyter.widget-view+json": {
              "version_major": 2,
              "version_minor": 0,
              "model_id": "54cd2ed8ceb8476490b8aca459abfd54"
            }
          },
          "metadata": {}
        },
        {
          "output_type": "stream",
          "name": "stdout",
          "text": [
            "Extracting mnist/MNIST/raw/train-images-idx3-ubyte.gz to mnist/MNIST/raw\n",
            "\n",
            "Downloading http://yann.lecun.com/exdb/mnist/train-labels-idx1-ubyte.gz\n",
            "Downloading http://yann.lecun.com/exdb/mnist/train-labels-idx1-ubyte.gz to mnist/MNIST/raw/train-labels-idx1-ubyte.gz\n"
          ]
        },
        {
          "output_type": "display_data",
          "data": {
            "text/plain": [
              "  0%|          | 0/28881 [00:00<?, ?it/s]"
            ],
            "application/vnd.jupyter.widget-view+json": {
              "version_major": 2,
              "version_minor": 0,
              "model_id": "69ffea5f9a894efda30ee67cab3f34fb"
            }
          },
          "metadata": {}
        },
        {
          "output_type": "stream",
          "name": "stdout",
          "text": [
            "Extracting mnist/MNIST/raw/train-labels-idx1-ubyte.gz to mnist/MNIST/raw\n",
            "\n",
            "Downloading http://yann.lecun.com/exdb/mnist/t10k-images-idx3-ubyte.gz\n",
            "Downloading http://yann.lecun.com/exdb/mnist/t10k-images-idx3-ubyte.gz to mnist/MNIST/raw/t10k-images-idx3-ubyte.gz\n"
          ]
        },
        {
          "output_type": "display_data",
          "data": {
            "text/plain": [
              "  0%|          | 0/1648877 [00:00<?, ?it/s]"
            ],
            "application/vnd.jupyter.widget-view+json": {
              "version_major": 2,
              "version_minor": 0,
              "model_id": "d3db2bf5bfbd4abe95e531ab81811ed6"
            }
          },
          "metadata": {}
        },
        {
          "output_type": "stream",
          "name": "stdout",
          "text": [
            "Extracting mnist/MNIST/raw/t10k-images-idx3-ubyte.gz to mnist/MNIST/raw\n",
            "\n",
            "Downloading http://yann.lecun.com/exdb/mnist/t10k-labels-idx1-ubyte.gz\n",
            "Downloading http://yann.lecun.com/exdb/mnist/t10k-labels-idx1-ubyte.gz to mnist/MNIST/raw/t10k-labels-idx1-ubyte.gz\n"
          ]
        },
        {
          "output_type": "display_data",
          "data": {
            "text/plain": [
              "  0%|          | 0/4542 [00:00<?, ?it/s]"
            ],
            "application/vnd.jupyter.widget-view+json": {
              "version_major": 2,
              "version_minor": 0,
              "model_id": "d5521143c45e422cb59841d9e44d646e"
            }
          },
          "metadata": {}
        },
        {
          "output_type": "stream",
          "name": "stdout",
          "text": [
            "Extracting mnist/MNIST/raw/t10k-labels-idx1-ubyte.gz to mnist/MNIST/raw\n",
            "\n"
          ]
        }
      ]
    },
    {
      "cell_type": "code",
      "source": [
        "print(train_set.data.shape)\n",
        "print(test_set.data.shape)"
      ],
      "metadata": {
        "colab": {
          "base_uri": "https://localhost:8080/"
        },
        "id": "j4mUv7qhDckW",
        "outputId": "f82dc289-bd88-47f4-b2d7-aea89ca22898"
      },
      "execution_count": 8,
      "outputs": [
        {
          "output_type": "stream",
          "name": "stdout",
          "text": [
            "torch.Size([60000, 28, 28])\n",
            "torch.Size([10000, 28, 28])\n"
          ]
        }
      ]
    },
    {
      "cell_type": "markdown",
      "source": [
        "# 3) Visualize Dataset"
      ],
      "metadata": {
        "id": "SccsNaWM0Kq2"
      }
    },
    {
      "cell_type": "code",
      "source": [
        "# Let's view the 50 first images of the MNIST training dataset\n",
        "import matplotlib.pyplot as plt\n",
        "\n",
        "figure = plt.figure()\n",
        "num_of_images = 50 \n",
        "\n",
        "for index in range(1, num_of_images + 1):\n",
        "    plt.subplot(5, 10, index)\n",
        "    plt.axis('off')\n",
        "    plt.imshow(train_set.data[index], cmap='gray_r')"
      ],
      "metadata": {
        "colab": {
          "base_uri": "https://localhost:8080/",
          "height": 239
        },
        "id": "9P19kTIBEabc",
        "outputId": "84a2722c-68e6-4354-9ba8-006dd21424e0"
      },
      "execution_count": 9,
      "outputs": [
        {
          "output_type": "display_data",
          "data": {
            "text/plain": [
              "<Figure size 432x288 with 50 Axes>"
            ],
            "image/png": "[encoded data removed]"
          },
          "metadata": {
            "needs_background": "light"
          }
        }
      ]
    },
    {
      "cell_type": "markdown",
      "source": [
        "# 4) Preprocessing "
      ],
      "metadata": {
        "id": "Rr2bpBbb0Umi"
      }
    },
    {
      "cell_type": "code",
      "source": [
        "trainLoader = torch.utils.data.DataLoader(train_set, \n",
        "                                           batch_size = 128,\n",
        "                                           shuffle = True, \n",
        "                                           num_workers = 0)\n",
        "\n",
        "testLoader = torch.utils.data.DataLoader(test_set, \n",
        "                                         batch_size = 128,\n",
        "                                         shuffle = False,\n",
        "                                         num_workers = 0)"
      ],
      "metadata": {
        "id": "wgZgDZBgG8Fl"
      },
      "execution_count": 10,
      "outputs": []
    },
    {
      "cell_type": "code",
      "source": [
        "#Using iter() and Next() for loading batches \n",
        "#We use the python function iter() to return an iterator for our train_loader object \n",
        "dataiter = iter(trainLoader)\n",
        "\n",
        "#we use next to get the fisrt batch of data from our iterator \n",
        "images, labels = next(dataiter)\n",
        "print(images.shape)\n",
        "print(labels.shape)"
      ],
      "metadata": {
        "colab": {
          "base_uri": "https://localhost:8080/"
        },
        "id": "YzMZmZ3XIqhy",
        "outputId": "7a65ec22-0712-4835-df42-9a5729b062ab"
      },
      "execution_count": 11,
      "outputs": [
        {
          "output_type": "stream",
          "name": "stdout",
          "text": [
            "torch.Size([128, 1, 28, 28])\n",
            "torch.Size([128])\n"
          ]
        }
      ]
    },
    {
      "cell_type": "code",
      "source": [
        "images[0].shape"
      ],
      "metadata": {
        "colab": {
          "base_uri": "https://localhost:8080/"
        },
        "id": "4qldJT1HJ-a3",
        "outputId": "d911d631-0e40-4200-9c10-5fd8734775f2"
      },
      "execution_count": 12,
      "outputs": [
        {
          "output_type": "execute_result",
          "data": {
            "text/plain": [
              "torch.Size([1, 28, 28])"
            ]
          },
          "metadata": {},
          "execution_count": 12
        }
      ]
    },
    {
      "cell_type": "code",
      "source": [
        "import matplotlib.pyplot as plt\n",
        "\n",
        "fig = plt.figure()\n",
        "for i in range(6):\n",
        "  plt.subplot(2,3,i+1)\n",
        "  plt.tight_layout()\n",
        "  plt.imshow(images[i][0], cmap='gray', interpolation='none')\n",
        "  plt.title(\"Ground Truth: {}\".format(labels[i]))\n",
        "  plt.xticks([])\n",
        "  plt.yticks([])\n",
        "fig"
      ],
      "metadata": {
        "colab": {
          "base_uri": "https://localhost:8080/",
          "height": 551
        },
        "id": "K-c2BZ30KmCJ",
        "outputId": "3bb1e368-d3d0-4aa0-880f-888230141b60"
      },
      "execution_count": 13,
      "outputs": [
        {
          "output_type": "execute_result",
          "data": {
            "text/plain": [
              "<Figure size 432x288 with 6 Axes>"
            ],
            "image/png": "[encoded data removed]"
          },
          "metadata": {},
          "execution_count": 13
        },
        {
          "output_type": "display_data",
          "data": {
            "text/plain": [
              "<Figure size 432x288 with 6 Axes>"
            ],
            "image/png": "[encoded data removed]"
          },
          "metadata": {}
        }
      ]
    },
    {
      "cell_type": "markdown",
      "source": [
        "# 5) Building Convolutional Neural Network"
      ],
      "metadata": {
        "id": "mBBj4a6K0dnd"
      }
    },
    {
      "cell_type": "code",
      "source": [
        "import torch.nn as nn\n",
        "import torch.nn.functional as F\n",
        "\n",
        "class Net(nn.Module):\n",
        "    def __init__(self):\n",
        "        super(Net, self).__init__()\n",
        "        self.conv1 = nn.Conv2d(1, 32, 3)\n",
        "        self.conv2 = nn.Conv2d(32, 64, 3)\n",
        "        self.pool = nn.MaxPool2d(2, 2)\n",
        "        self.fc1 = nn.Linear(64 * 12 * 12, 128)\n",
        "        self.fc2 = nn.Linear(128, 10)\n",
        "\n",
        "    def forward(self, x):\n",
        "        x = F.relu(self.conv1(x))\n",
        "        x = self.pool(F.relu(self.conv2(x)))\n",
        "        x = x.view(-1, 64 * 12 * 12)\n",
        "        x = F.relu(self.fc1(x))\n",
        "        x = self.fc2(x)\n",
        "        return x\n",
        "\n",
        "net = Net()\n",
        "net.to(device)"
      ],
      "metadata": {
        "colab": {
          "base_uri": "https://localhost:8080/"
        },
        "id": "oIOFpC9OLKmy",
        "outputId": "16faa880-27f6-48e0-b099-fc0deb28a8b8"
      },
      "execution_count": 14,
      "outputs": [
        {
          "output_type": "execute_result",
          "data": {
            "text/plain": [
              "Net(\n",
              "  (conv1): Conv2d(1, 32, kernel_size=(3, 3), stride=(1, 1))\n",
              "  (conv2): Conv2d(32, 64, kernel_size=(3, 3), stride=(1, 1))\n",
              "  (pool): MaxPool2d(kernel_size=2, stride=2, padding=0, dilation=1, ceil_mode=False)\n",
              "  (fc1): Linear(in_features=9216, out_features=128, bias=True)\n",
              "  (fc2): Linear(in_features=128, out_features=10, bias=True)\n",
              ")"
            ]
          },
          "metadata": {},
          "execution_count": 14
        }
      ]
    },
    {
      "cell_type": "code",
      "source": [
        "import torch.optim as optim\n",
        "\n",
        "#Loss Function \n",
        "criterion = nn.CrossEntropyLoss()\n",
        "\n",
        "optimizer = optim.SGD(net.parameters(), lr=0.001)"
      ],
      "metadata": {
        "id": "egIQt3tONRPG"
      },
      "execution_count": 15,
      "outputs": []
    },
    {
      "cell_type": "markdown",
      "source": [
        "# 6) Training The Model"
      ],
      "metadata": {
        "id": "8o7P0loc0kpk"
      }
    },
    {
      "cell_type": "code",
      "source": [
        "epochs = 25\n",
        "\n",
        "import time\n",
        "\n",
        "start = time.time()\n",
        "\n",
        "# Create some empty arrays to store logs \n",
        "epoch_log = []\n",
        "loss_log = []\n",
        "accuracy_log = []\n",
        "\n",
        "# Iterate for a specified number of epochs\n",
        "for epoch in range(epochs):  \n",
        "    print(f'Starting Epoch: {epoch+1}...')\n",
        "\n",
        "    # We keep adding or accumulating our loss after each mini-batch in running_loss\n",
        "    running_loss = 0.0\n",
        "\n",
        "    # We iterate through our trainloader iterator\n",
        "    # Each cycle is a minibatch\n",
        "    for i, data in enumerate(trainLoader, 0):\n",
        "        # get the inputs; data is a list of [inputs, labels]\n",
        "        inputs, labels = data\n",
        "\n",
        "        # Move our data to GPU\n",
        "        inputs = inputs.to(device)\n",
        "        labels = labels.to(device)\n",
        "\n",
        "        # Clear the gradients before training by setting to zero\n",
        "        # Required for a fresh start\n",
        "        optimizer.zero_grad()\n",
        "\n",
        "        # Forward -> backprop + optimize\n",
        "        outputs = net(inputs) # Forward Propagation \n",
        "        loss = criterion(outputs, labels) # Get Loss (quantify the difference between the results and predictions)\n",
        "        loss.backward() # Back propagate to obtain the new gradients for all nodes\n",
        "        optimizer.step() # Update the gradients/weights\n",
        "\n",
        "        # Print Training statistics - Epoch/Iterations/Loss/Accuracy\n",
        "        running_loss += loss.item()\n",
        "        if i % 50 == 49:    # show our loss every 50 mini-batches\n",
        "            correct = 0 # Initialize our variable to hold the count for the correct predictions\n",
        "            total = 0 # Initialize our variable to hold the count of the number of labels iterated\n",
        "\n",
        "            # We don't need gradients for validation, so wrap in \n",
        "            # no_grad to save memory\n",
        "            with torch.no_grad():\n",
        "                # Iterate through the testloader iterator\n",
        "                for data in testLoader:\n",
        "                    images, labels = data\n",
        "                    # Move our data to GPU\n",
        "                    images = images.to(device)\n",
        "                    labels = labels.to(device)\n",
        "                    \n",
        "                    # Foward propagate our test data batch through our model\n",
        "                    outputs = net(images)\n",
        "\n",
        "                     # Get predictions from the maximum value of the predicted output tensor\n",
        "                     # we set dim = 1 as it specifies the number of dimensions to reduce\n",
        "                    _, predicted = torch.max(outputs.data, dim = 1)\n",
        "                    # Keep adding the label size or length to the total variable\n",
        "                    total += labels.size(0)\n",
        "                    # Keep a running total of the number of predictions predicted correctly\n",
        "                    correct += (predicted == labels).sum().item()\n",
        "\n",
        "                accuracy = 100 * correct / total\n",
        "                epoch_num = epoch + 1\n",
        "                actual_loss = running_loss / 50\n",
        "                print(f'Epoch: {epoch_num}, Mini-Batches Completed: {(i+1)}, Loss: {actual_loss:.3f}, Test Accuracy = {accuracy:.3f}%')\n",
        "                running_loss = 0.0\n",
        "\n",
        "    # Store training stats after each epoch\n",
        "    epoch_log.append(epoch_num)\n",
        "    loss_log.append(actual_loss)\n",
        "    accuracy_log.append(accuracy)\n",
        "\n",
        "print('Finished Training')\n",
        "print(\"Total time: \", time.time() - start, \"seconds\") "
      ],
      "metadata": {
        "colab": {
          "base_uri": "https://localhost:8080/"
        },
        "id": "hdUey8YFrcbU",
        "outputId": "3cfc9d99-73cb-4f28-9411-bb0c588c4c22"
      },
      "execution_count": 16,
      "outputs": [
        {
          "output_type": "stream",
          "name": "stdout",
          "text": [
            "Starting Epoch: 1...\n",
            "Epoch: 1, Mini-Batches Completed: 50, Loss: 2.294, Test Accuracy = 11.390%\n",
            "Epoch: 1, Mini-Batches Completed: 100, Loss: 2.278, Test Accuracy = 14.700%\n",
            "Epoch: 1, Mini-Batches Completed: 150, Loss: 2.261, Test Accuracy = 18.830%\n",
            "Epoch: 1, Mini-Batches Completed: 200, Loss: 2.245, Test Accuracy = 32.990%\n",
            "Epoch: 1, Mini-Batches Completed: 250, Loss: 2.225, Test Accuracy = 35.310%\n",
            "Epoch: 1, Mini-Batches Completed: 300, Loss: 2.207, Test Accuracy = 33.960%\n",
            "Epoch: 1, Mini-Batches Completed: 350, Loss: 2.186, Test Accuracy = 45.940%\n",
            "Epoch: 1, Mini-Batches Completed: 400, Loss: 2.163, Test Accuracy = 52.630%\n",
            "Epoch: 1, Mini-Batches Completed: 450, Loss: 2.138, Test Accuracy = 56.880%\n",
            "Starting Epoch: 2...\n",
            "Epoch: 2, Mini-Batches Completed: 50, Loss: 2.094, Test Accuracy = 61.480%\n",
            "Epoch: 2, Mini-Batches Completed: 100, Loss: 2.058, Test Accuracy = 62.030%\n",
            "Epoch: 2, Mini-Batches Completed: 150, Loss: 2.014, Test Accuracy = 64.320%\n",
            "Epoch: 2, Mini-Batches Completed: 200, Loss: 1.969, Test Accuracy = 65.930%\n",
            "Epoch: 2, Mini-Batches Completed: 250, Loss: 1.917, Test Accuracy = 68.580%\n",
            "Epoch: 2, Mini-Batches Completed: 300, Loss: 1.855, Test Accuracy = 68.760%\n",
            "Epoch: 2, Mini-Batches Completed: 350, Loss: 1.789, Test Accuracy = 71.220%\n",
            "Epoch: 2, Mini-Batches Completed: 400, Loss: 1.712, Test Accuracy = 72.750%\n",
            "Epoch: 2, Mini-Batches Completed: 450, Loss: 1.623, Test Accuracy = 73.760%\n",
            "Starting Epoch: 3...\n",
            "Epoch: 3, Mini-Batches Completed: 50, Loss: 1.495, Test Accuracy = 74.930%\n",
            "Epoch: 3, Mini-Batches Completed: 100, Loss: 1.402, Test Accuracy = 77.080%\n",
            "Epoch: 3, Mini-Batches Completed: 150, Loss: 1.307, Test Accuracy = 77.750%\n",
            "Epoch: 3, Mini-Batches Completed: 200, Loss: 1.203, Test Accuracy = 78.320%\n",
            "Epoch: 3, Mini-Batches Completed: 250, Loss: 1.116, Test Accuracy = 80.180%\n",
            "Epoch: 3, Mini-Batches Completed: 300, Loss: 1.035, Test Accuracy = 81.140%\n",
            "Epoch: 3, Mini-Batches Completed: 350, Loss: 0.973, Test Accuracy = 81.350%\n",
            "Epoch: 3, Mini-Batches Completed: 400, Loss: 0.886, Test Accuracy = 81.730%\n",
            "Epoch: 3, Mini-Batches Completed: 450, Loss: 0.830, Test Accuracy = 82.550%\n",
            "Starting Epoch: 4...\n",
            "Epoch: 4, Mini-Batches Completed: 50, Loss: 0.765, Test Accuracy = 82.940%\n",
            "Epoch: 4, Mini-Batches Completed: 100, Loss: 0.732, Test Accuracy = 83.730%\n",
            "Epoch: 4, Mini-Batches Completed: 150, Loss: 0.695, Test Accuracy = 84.200%\n",
            "Epoch: 4, Mini-Batches Completed: 200, Loss: 0.657, Test Accuracy = 84.540%\n",
            "Epoch: 4, Mini-Batches Completed: 250, Loss: 0.630, Test Accuracy = 84.740%\n",
            "Epoch: 4, Mini-Batches Completed: 300, Loss: 0.595, Test Accuracy = 85.520%\n",
            "Epoch: 4, Mini-Batches Completed: 350, Loss: 0.593, Test Accuracy = 85.920%\n",
            "Epoch: 4, Mini-Batches Completed: 400, Loss: 0.555, Test Accuracy = 86.140%\n",
            "Epoch: 4, Mini-Batches Completed: 450, Loss: 0.548, Test Accuracy = 86.660%\n",
            "Starting Epoch: 5...\n",
            "Epoch: 5, Mini-Batches Completed: 50, Loss: 0.534, Test Accuracy = 86.920%\n",
            "Epoch: 5, Mini-Batches Completed: 100, Loss: 0.508, Test Accuracy = 87.380%\n",
            "Epoch: 5, Mini-Batches Completed: 150, Loss: 0.498, Test Accuracy = 87.410%\n",
            "Epoch: 5, Mini-Batches Completed: 200, Loss: 0.484, Test Accuracy = 87.270%\n",
            "Epoch: 5, Mini-Batches Completed: 250, Loss: 0.486, Test Accuracy = 87.270%\n",
            "Epoch: 5, Mini-Batches Completed: 300, Loss: 0.466, Test Accuracy = 88.060%\n",
            "Epoch: 5, Mini-Batches Completed: 350, Loss: 0.465, Test Accuracy = 88.030%\n",
            "Epoch: 5, Mini-Batches Completed: 400, Loss: 0.446, Test Accuracy = 88.340%\n",
            "Epoch: 5, Mini-Batches Completed: 450, Loss: 0.449, Test Accuracy = 88.320%\n",
            "Starting Epoch: 6...\n",
            "Epoch: 6, Mini-Batches Completed: 50, Loss: 0.453, Test Accuracy = 88.730%\n",
            "Epoch: 6, Mini-Batches Completed: 100, Loss: 0.423, Test Accuracy = 88.730%\n",
            "Epoch: 6, Mini-Batches Completed: 150, Loss: 0.414, Test Accuracy = 88.900%\n",
            "Epoch: 6, Mini-Batches Completed: 200, Loss: 0.413, Test Accuracy = 88.930%\n",
            "Epoch: 6, Mini-Batches Completed: 250, Loss: 0.429, Test Accuracy = 88.990%\n",
            "Epoch: 6, Mini-Batches Completed: 300, Loss: 0.410, Test Accuracy = 89.230%\n",
            "Epoch: 6, Mini-Batches Completed: 350, Loss: 0.404, Test Accuracy = 89.260%\n",
            "Epoch: 6, Mini-Batches Completed: 400, Loss: 0.394, Test Accuracy = 89.270%\n",
            "Epoch: 6, Mini-Batches Completed: 450, Loss: 0.399, Test Accuracy = 89.150%\n",
            "Starting Epoch: 7...\n",
            "Epoch: 7, Mini-Batches Completed: 50, Loss: 0.387, Test Accuracy = 89.650%\n",
            "Epoch: 7, Mini-Batches Completed: 100, Loss: 0.403, Test Accuracy = 89.570%\n",
            "Epoch: 7, Mini-Batches Completed: 150, Loss: 0.367, Test Accuracy = 89.650%\n",
            "Epoch: 7, Mini-Batches Completed: 200, Loss: 0.367, Test Accuracy = 89.820%\n",
            "Epoch: 7, Mini-Batches Completed: 250, Loss: 0.377, Test Accuracy = 89.990%\n",
            "Epoch: 7, Mini-Batches Completed: 300, Loss: 0.399, Test Accuracy = 89.940%\n",
            "Epoch: 7, Mini-Batches Completed: 350, Loss: 0.363, Test Accuracy = 89.940%\n",
            "Epoch: 7, Mini-Batches Completed: 400, Loss: 0.375, Test Accuracy = 90.030%\n",
            "Epoch: 7, Mini-Batches Completed: 450, Loss: 0.370, Test Accuracy = 90.140%\n",
            "Starting Epoch: 8...\n",
            "Epoch: 8, Mini-Batches Completed: 50, Loss: 0.369, Test Accuracy = 90.200%\n",
            "Epoch: 8, Mini-Batches Completed: 100, Loss: 0.370, Test Accuracy = 90.140%\n",
            "Epoch: 8, Mini-Batches Completed: 150, Loss: 0.346, Test Accuracy = 90.290%\n",
            "Epoch: 8, Mini-Batches Completed: 200, Loss: 0.348, Test Accuracy = 90.250%\n",
            "Epoch: 8, Mini-Batches Completed: 250, Loss: 0.376, Test Accuracy = 90.320%\n",
            "Epoch: 8, Mini-Batches Completed: 300, Loss: 0.337, Test Accuracy = 90.520%\n",
            "Epoch: 8, Mini-Batches Completed: 350, Loss: 0.345, Test Accuracy = 90.390%\n",
            "Epoch: 8, Mini-Batches Completed: 400, Loss: 0.358, Test Accuracy = 90.450%\n",
            "Epoch: 8, Mini-Batches Completed: 450, Loss: 0.332, Test Accuracy = 90.380%\n",
            "Starting Epoch: 9...\n",
            "Epoch: 9, Mini-Batches Completed: 50, Loss: 0.343, Test Accuracy = 90.630%\n",
            "Epoch: 9, Mini-Batches Completed: 100, Loss: 0.324, Test Accuracy = 90.480%\n",
            "Epoch: 9, Mini-Batches Completed: 150, Loss: 0.340, Test Accuracy = 90.560%\n",
            "Epoch: 9, Mini-Batches Completed: 200, Loss: 0.330, Test Accuracy = 90.660%\n",
            "Epoch: 9, Mini-Batches Completed: 250, Loss: 0.336, Test Accuracy = 90.770%\n",
            "Epoch: 9, Mini-Batches Completed: 300, Loss: 0.326, Test Accuracy = 90.760%\n",
            "Epoch: 9, Mini-Batches Completed: 350, Loss: 0.338, Test Accuracy = 90.970%\n",
            "Epoch: 9, Mini-Batches Completed: 400, Loss: 0.359, Test Accuracy = 90.880%\n",
            "Epoch: 9, Mini-Batches Completed: 450, Loss: 0.334, Test Accuracy = 91.000%\n",
            "Starting Epoch: 10...\n",
            "Epoch: 10, Mini-Batches Completed: 50, Loss: 0.318, Test Accuracy = 91.050%\n",
            "Epoch: 10, Mini-Batches Completed: 100, Loss: 0.330, Test Accuracy = 91.060%\n",
            "Epoch: 10, Mini-Batches Completed: 150, Loss: 0.329, Test Accuracy = 91.100%\n",
            "Epoch: 10, Mini-Batches Completed: 200, Loss: 0.323, Test Accuracy = 91.280%\n",
            "Epoch: 10, Mini-Batches Completed: 250, Loss: 0.330, Test Accuracy = 91.190%\n",
            "Epoch: 10, Mini-Batches Completed: 300, Loss: 0.331, Test Accuracy = 91.130%\n",
            "Epoch: 10, Mini-Batches Completed: 350, Loss: 0.302, Test Accuracy = 91.320%\n",
            "Epoch: 10, Mini-Batches Completed: 400, Loss: 0.318, Test Accuracy = 91.060%\n",
            "Epoch: 10, Mini-Batches Completed: 450, Loss: 0.308, Test Accuracy = 91.230%\n",
            "Starting Epoch: 11...\n",
            "Epoch: 11, Mini-Batches Completed: 50, Loss: 0.313, Test Accuracy = 91.270%\n",
            "Epoch: 11, Mini-Batches Completed: 100, Loss: 0.309, Test Accuracy = 91.270%\n",
            "Epoch: 11, Mini-Batches Completed: 150, Loss: 0.292, Test Accuracy = 91.330%\n",
            "Epoch: 11, Mini-Batches Completed: 200, Loss: 0.308, Test Accuracy = 91.360%\n",
            "Epoch: 11, Mini-Batches Completed: 250, Loss: 0.305, Test Accuracy = 91.410%\n",
            "Epoch: 11, Mini-Batches Completed: 300, Loss: 0.315, Test Accuracy = 91.540%\n",
            "Epoch: 11, Mini-Batches Completed: 350, Loss: 0.319, Test Accuracy = 91.580%\n",
            "Epoch: 11, Mini-Batches Completed: 400, Loss: 0.311, Test Accuracy = 91.570%\n",
            "Epoch: 11, Mini-Batches Completed: 450, Loss: 0.302, Test Accuracy = 91.540%\n",
            "Starting Epoch: 12...\n",
            "Epoch: 12, Mini-Batches Completed: 50, Loss: 0.306, Test Accuracy = 91.660%\n",
            "Epoch: 12, Mini-Batches Completed: 100, Loss: 0.310, Test Accuracy = 91.600%\n",
            "Epoch: 12, Mini-Batches Completed: 150, Loss: 0.294, Test Accuracy = 91.760%\n",
            "Epoch: 12, Mini-Batches Completed: 200, Loss: 0.302, Test Accuracy = 91.770%\n",
            "Epoch: 12, Mini-Batches Completed: 250, Loss: 0.313, Test Accuracy = 91.760%\n",
            "Epoch: 12, Mini-Batches Completed: 300, Loss: 0.301, Test Accuracy = 91.880%\n",
            "Epoch: 12, Mini-Batches Completed: 350, Loss: 0.295, Test Accuracy = 91.900%\n",
            "Epoch: 12, Mini-Batches Completed: 400, Loss: 0.293, Test Accuracy = 91.990%\n",
            "Epoch: 12, Mini-Batches Completed: 450, Loss: 0.279, Test Accuracy = 91.920%\n",
            "Starting Epoch: 13...\n",
            "Epoch: 13, Mini-Batches Completed: 50, Loss: 0.295, Test Accuracy = 91.960%\n",
            "Epoch: 13, Mini-Batches Completed: 100, Loss: 0.300, Test Accuracy = 91.970%\n",
            "Epoch: 13, Mini-Batches Completed: 150, Loss: 0.281, Test Accuracy = 92.060%\n",
            "Epoch: 13, Mini-Batches Completed: 200, Loss: 0.294, Test Accuracy = 91.980%\n",
            "Epoch: 13, Mini-Batches Completed: 250, Loss: 0.278, Test Accuracy = 92.060%\n",
            "Epoch: 13, Mini-Batches Completed: 300, Loss: 0.273, Test Accuracy = 92.130%\n",
            "Epoch: 13, Mini-Batches Completed: 350, Loss: 0.301, Test Accuracy = 92.160%\n",
            "Epoch: 13, Mini-Batches Completed: 400, Loss: 0.282, Test Accuracy = 92.110%\n",
            "Epoch: 13, Mini-Batches Completed: 450, Loss: 0.298, Test Accuracy = 92.170%\n",
            "Starting Epoch: 14...\n",
            "Epoch: 14, Mini-Batches Completed: 50, Loss: 0.288, Test Accuracy = 91.910%\n",
            "Epoch: 14, Mini-Batches Completed: 100, Loss: 0.283, Test Accuracy = 92.240%\n",
            "Epoch: 14, Mini-Batches Completed: 150, Loss: 0.287, Test Accuracy = 92.370%\n",
            "Epoch: 14, Mini-Batches Completed: 200, Loss: 0.273, Test Accuracy = 92.060%\n",
            "Epoch: 14, Mini-Batches Completed: 250, Loss: 0.274, Test Accuracy = 92.300%\n",
            "Epoch: 14, Mini-Batches Completed: 300, Loss: 0.276, Test Accuracy = 92.260%\n",
            "Epoch: 14, Mini-Batches Completed: 350, Loss: 0.288, Test Accuracy = 92.540%\n",
            "Epoch: 14, Mini-Batches Completed: 400, Loss: 0.281, Test Accuracy = 92.290%\n",
            "Epoch: 14, Mini-Batches Completed: 450, Loss: 0.266, Test Accuracy = 92.420%\n",
            "Starting Epoch: 15...\n",
            "Epoch: 15, Mini-Batches Completed: 50, Loss: 0.265, Test Accuracy = 92.350%\n",
            "Epoch: 15, Mini-Batches Completed: 100, Loss: 0.274, Test Accuracy = 92.460%\n",
            "Epoch: 15, Mini-Batches Completed: 150, Loss: 0.270, Test Accuracy = 92.410%\n",
            "Epoch: 15, Mini-Batches Completed: 200, Loss: 0.257, Test Accuracy = 92.560%\n",
            "Epoch: 15, Mini-Batches Completed: 250, Loss: 0.261, Test Accuracy = 92.350%\n",
            "Epoch: 15, Mini-Batches Completed: 300, Loss: 0.298, Test Accuracy = 92.540%\n",
            "Epoch: 15, Mini-Batches Completed: 350, Loss: 0.268, Test Accuracy = 92.730%\n",
            "Epoch: 15, Mini-Batches Completed: 400, Loss: 0.281, Test Accuracy = 92.670%\n",
            "Epoch: 15, Mini-Batches Completed: 450, Loss: 0.271, Test Accuracy = 92.510%\n",
            "Starting Epoch: 16...\n",
            "Epoch: 16, Mini-Batches Completed: 50, Loss: 0.281, Test Accuracy = 92.780%\n",
            "Epoch: 16, Mini-Batches Completed: 100, Loss: 0.267, Test Accuracy = 92.900%\n",
            "Epoch: 16, Mini-Batches Completed: 150, Loss: 0.277, Test Accuracy = 92.650%\n",
            "Epoch: 16, Mini-Batches Completed: 200, Loss: 0.260, Test Accuracy = 92.800%\n",
            "Epoch: 16, Mini-Batches Completed: 250, Loss: 0.265, Test Accuracy = 92.820%\n",
            "Epoch: 16, Mini-Batches Completed: 300, Loss: 0.248, Test Accuracy = 92.660%\n",
            "Epoch: 16, Mini-Batches Completed: 350, Loss: 0.263, Test Accuracy = 92.490%\n",
            "Epoch: 16, Mini-Batches Completed: 400, Loss: 0.251, Test Accuracy = 92.940%\n",
            "Epoch: 16, Mini-Batches Completed: 450, Loss: 0.244, Test Accuracy = 92.710%\n",
            "Starting Epoch: 17...\n",
            "Epoch: 17, Mini-Batches Completed: 50, Loss: 0.254, Test Accuracy = 92.980%\n",
            "Epoch: 17, Mini-Batches Completed: 100, Loss: 0.245, Test Accuracy = 92.790%\n",
            "Epoch: 17, Mini-Batches Completed: 150, Loss: 0.256, Test Accuracy = 92.930%\n",
            "Epoch: 17, Mini-Batches Completed: 200, Loss: 0.251, Test Accuracy = 93.070%\n",
            "Epoch: 17, Mini-Batches Completed: 250, Loss: 0.260, Test Accuracy = 92.960%\n",
            "Epoch: 17, Mini-Batches Completed: 300, Loss: 0.242, Test Accuracy = 92.780%\n",
            "Epoch: 17, Mini-Batches Completed: 350, Loss: 0.262, Test Accuracy = 93.130%\n",
            "Epoch: 17, Mini-Batches Completed: 400, Loss: 0.272, Test Accuracy = 92.970%\n",
            "Epoch: 17, Mini-Batches Completed: 450, Loss: 0.263, Test Accuracy = 93.090%\n",
            "Starting Epoch: 18...\n",
            "Epoch: 18, Mini-Batches Completed: 50, Loss: 0.248, Test Accuracy = 93.260%\n",
            "Epoch: 18, Mini-Batches Completed: 100, Loss: 0.256, Test Accuracy = 93.300%\n",
            "Epoch: 18, Mini-Batches Completed: 150, Loss: 0.254, Test Accuracy = 93.260%\n",
            "Epoch: 18, Mini-Batches Completed: 200, Loss: 0.242, Test Accuracy = 93.210%\n",
            "Epoch: 18, Mini-Batches Completed: 250, Loss: 0.232, Test Accuracy = 93.270%\n",
            "Epoch: 18, Mini-Batches Completed: 300, Loss: 0.249, Test Accuracy = 93.320%\n",
            "Epoch: 18, Mini-Batches Completed: 350, Loss: 0.250, Test Accuracy = 93.190%\n",
            "Epoch: 18, Mini-Batches Completed: 400, Loss: 0.230, Test Accuracy = 93.190%\n",
            "Epoch: 18, Mini-Batches Completed: 450, Loss: 0.263, Test Accuracy = 93.210%\n",
            "Starting Epoch: 19...\n",
            "Epoch: 19, Mini-Batches Completed: 50, Loss: 0.242, Test Accuracy = 93.040%\n",
            "Epoch: 19, Mini-Batches Completed: 100, Loss: 0.243, Test Accuracy = 93.380%\n",
            "Epoch: 19, Mini-Batches Completed: 150, Loss: 0.248, Test Accuracy = 93.550%\n",
            "Epoch: 19, Mini-Batches Completed: 200, Loss: 0.231, Test Accuracy = 93.290%\n",
            "Epoch: 19, Mini-Batches Completed: 250, Loss: 0.234, Test Accuracy = 93.230%\n",
            "Epoch: 19, Mini-Batches Completed: 300, Loss: 0.258, Test Accuracy = 93.220%\n",
            "Epoch: 19, Mini-Batches Completed: 350, Loss: 0.229, Test Accuracy = 93.410%\n",
            "Epoch: 19, Mini-Batches Completed: 400, Loss: 0.244, Test Accuracy = 93.430%\n",
            "Epoch: 19, Mini-Batches Completed: 450, Loss: 0.228, Test Accuracy = 93.590%\n",
            "Starting Epoch: 20...\n",
            "Epoch: 20, Mini-Batches Completed: 50, Loss: 0.226, Test Accuracy = 93.630%\n",
            "Epoch: 20, Mini-Batches Completed: 100, Loss: 0.258, Test Accuracy = 93.620%\n",
            "Epoch: 20, Mini-Batches Completed: 150, Loss: 0.232, Test Accuracy = 93.410%\n",
            "Epoch: 20, Mini-Batches Completed: 200, Loss: 0.229, Test Accuracy = 93.510%\n",
            "Epoch: 20, Mini-Batches Completed: 250, Loss: 0.231, Test Accuracy = 93.530%\n",
            "Epoch: 20, Mini-Batches Completed: 300, Loss: 0.231, Test Accuracy = 93.590%\n",
            "Epoch: 20, Mini-Batches Completed: 350, Loss: 0.232, Test Accuracy = 93.600%\n",
            "Epoch: 20, Mini-Batches Completed: 400, Loss: 0.238, Test Accuracy = 93.540%\n",
            "Epoch: 20, Mini-Batches Completed: 450, Loss: 0.220, Test Accuracy = 93.510%\n",
            "Starting Epoch: 21...\n",
            "Epoch: 21, Mini-Batches Completed: 50, Loss: 0.249, Test Accuracy = 93.750%\n",
            "Epoch: 21, Mini-Batches Completed: 100, Loss: 0.220, Test Accuracy = 93.810%\n",
            "Epoch: 21, Mini-Batches Completed: 150, Loss: 0.215, Test Accuracy = 93.790%\n",
            "Epoch: 21, Mini-Batches Completed: 200, Loss: 0.235, Test Accuracy = 93.730%\n",
            "Epoch: 21, Mini-Batches Completed: 250, Loss: 0.222, Test Accuracy = 93.810%\n",
            "Epoch: 21, Mini-Batches Completed: 300, Loss: 0.224, Test Accuracy = 93.900%\n",
            "Epoch: 21, Mini-Batches Completed: 350, Loss: 0.223, Test Accuracy = 93.930%\n",
            "Epoch: 21, Mini-Batches Completed: 400, Loss: 0.236, Test Accuracy = 93.820%\n",
            "Epoch: 21, Mini-Batches Completed: 450, Loss: 0.227, Test Accuracy = 93.970%\n",
            "Starting Epoch: 22...\n",
            "Epoch: 22, Mini-Batches Completed: 50, Loss: 0.227, Test Accuracy = 94.010%\n",
            "Epoch: 22, Mini-Batches Completed: 100, Loss: 0.218, Test Accuracy = 94.010%\n",
            "Epoch: 22, Mini-Batches Completed: 150, Loss: 0.224, Test Accuracy = 93.860%\n",
            "Epoch: 22, Mini-Batches Completed: 200, Loss: 0.229, Test Accuracy = 93.790%\n",
            "Epoch: 22, Mini-Batches Completed: 250, Loss: 0.219, Test Accuracy = 93.800%\n",
            "Epoch: 22, Mini-Batches Completed: 300, Loss: 0.225, Test Accuracy = 93.910%\n",
            "Epoch: 22, Mini-Batches Completed: 350, Loss: 0.214, Test Accuracy = 93.960%\n",
            "Epoch: 22, Mini-Batches Completed: 400, Loss: 0.211, Test Accuracy = 94.010%\n",
            "Epoch: 22, Mini-Batches Completed: 450, Loss: 0.216, Test Accuracy = 93.990%\n",
            "Starting Epoch: 23...\n",
            "Epoch: 23, Mini-Batches Completed: 50, Loss: 0.220, Test Accuracy = 94.010%\n",
            "Epoch: 23, Mini-Batches Completed: 100, Loss: 0.216, Test Accuracy = 93.790%\n",
            "Epoch: 23, Mini-Batches Completed: 150, Loss: 0.214, Test Accuracy = 93.930%\n",
            "Epoch: 23, Mini-Batches Completed: 200, Loss: 0.218, Test Accuracy = 94.110%\n",
            "Epoch: 23, Mini-Batches Completed: 250, Loss: 0.200, Test Accuracy = 94.090%\n",
            "Epoch: 23, Mini-Batches Completed: 300, Loss: 0.207, Test Accuracy = 93.830%\n",
            "Epoch: 23, Mini-Batches Completed: 350, Loss: 0.210, Test Accuracy = 94.230%\n",
            "Epoch: 23, Mini-Batches Completed: 400, Loss: 0.227, Test Accuracy = 94.130%\n",
            "Epoch: 23, Mini-Batches Completed: 450, Loss: 0.221, Test Accuracy = 93.940%\n",
            "Starting Epoch: 24...\n",
            "Epoch: 24, Mini-Batches Completed: 50, Loss: 0.202, Test Accuracy = 94.220%\n",
            "Epoch: 24, Mini-Batches Completed: 100, Loss: 0.208, Test Accuracy = 94.120%\n",
            "Epoch: 24, Mini-Batches Completed: 150, Loss: 0.232, Test Accuracy = 94.100%\n",
            "Epoch: 24, Mini-Batches Completed: 200, Loss: 0.196, Test Accuracy = 94.190%\n",
            "Epoch: 24, Mini-Batches Completed: 250, Loss: 0.197, Test Accuracy = 94.250%\n",
            "Epoch: 24, Mini-Batches Completed: 300, Loss: 0.211, Test Accuracy = 94.280%\n",
            "Epoch: 24, Mini-Batches Completed: 350, Loss: 0.207, Test Accuracy = 94.390%\n",
            "Epoch: 24, Mini-Batches Completed: 400, Loss: 0.202, Test Accuracy = 94.500%\n",
            "Epoch: 24, Mini-Batches Completed: 450, Loss: 0.212, Test Accuracy = 94.080%\n",
            "Starting Epoch: 25...\n",
            "Epoch: 25, Mini-Batches Completed: 50, Loss: 0.203, Test Accuracy = 94.280%\n",
            "Epoch: 25, Mini-Batches Completed: 100, Loss: 0.205, Test Accuracy = 94.360%\n",
            "Epoch: 25, Mini-Batches Completed: 150, Loss: 0.203, Test Accuracy = 94.520%\n",
            "Epoch: 25, Mini-Batches Completed: 200, Loss: 0.213, Test Accuracy = 94.260%\n",
            "Epoch: 25, Mini-Batches Completed: 250, Loss: 0.193, Test Accuracy = 94.420%\n",
            "Epoch: 25, Mini-Batches Completed: 300, Loss: 0.192, Test Accuracy = 94.430%\n",
            "Epoch: 25, Mini-Batches Completed: 350, Loss: 0.213, Test Accuracy = 94.450%\n",
            "Epoch: 25, Mini-Batches Completed: 400, Loss: 0.196, Test Accuracy = 94.530%\n",
            "Epoch: 25, Mini-Batches Completed: 450, Loss: 0.199, Test Accuracy = 94.340%\n",
            "Finished Training\n",
            "Total time:  3961.6787581443787 seconds\n"
          ]
        }
      ]
    },
    {
      "cell_type": "markdown",
      "source": [
        "# 7) Plotting Training Logs "
      ],
      "metadata": {
        "id": "Zc22Q9_F2nLa"
      }
    },
    {
      "cell_type": "code",
      "source": [
        "# To create a plot with secondary y-axis we need to create a subplot\n",
        "fig, ax1 = plt.subplots()\n",
        "\n",
        "# Set title and x-axis label rotation\n",
        "plt.title(\"Accuracy & Loss vs Epoch\")\n",
        "plt.xticks(rotation=45)\n",
        "\n",
        "# We use twinx to create a plot a secondary y axis\n",
        "ax2 = ax1.twinx()\n",
        "\n",
        "# Create plot for loss_log and accuracy_log\n",
        "ax1.plot(epoch_log, loss_log, 'g-')\n",
        "ax2.plot(epoch_log, accuracy_log, 'b-')\n",
        "\n",
        "# Set labels\n",
        "ax1.set_xlabel('Epochs')\n",
        "ax1.set_ylabel('Loss', color='g')\n",
        "ax2.set_ylabel('Test Accuracy', color='b')\n",
        "\n",
        "plt.show()"
      ],
      "metadata": {
        "colab": {
          "base_uri": "https://localhost:8080/",
          "height": 301
        },
        "id": "eIJ6n6DGzRIF",
        "outputId": "0ef8d844-7778-4538-e025-583a3f9e1446"
      },
      "execution_count": 17,
      "outputs": [
        {
          "output_type": "display_data",
          "data": {
            "text/plain": [
              "<Figure size 432x288 with 2 Axes>"
            ],
            "image/png": "[encoded data removed]"
          },
          "metadata": {
            "needs_background": "light"
          }
        }
      ]
    },
    {
      "cell_type": "markdown",
      "source": [
        "# 8) Plotting Confusion Matrix "
      ],
      "metadata": {
        "id": "Aceo7RIH2ulR"
      }
    },
    {
      "cell_type": "code",
      "source": [
        "nb_classes = 10\n",
        "\n",
        "confusion_matrix = torch.zeros(nb_classes, nb_classes)\n",
        "\n",
        "with torch.no_grad():\n",
        "    for i, (inputs, classes) in enumerate(testLoader):\n",
        "        inputs = inputs.to(device)\n",
        "        classes = classes.to(device)\n",
        "        outputs = net(inputs)\n",
        "        _, preds = torch.max(outputs, 1)\n",
        "        for t, p in zip(classes.view(-1), preds.view(-1)):\n",
        "                confusion_matrix[t.long(), p.long()] += 1"
      ],
      "metadata": {
        "id": "ITBvCluk0yqj"
      },
      "execution_count": 20,
      "outputs": []
    },
    {
      "cell_type": "code",
      "source": [
        "from sklearn.metrics import confusion_matrix\n",
        "import matplotlib.pyplot as plt \n",
        "import seaborn as sns \n",
        "\n",
        "nb_classes = 10\n",
        "\n",
        "# Initialize the prediction and label lists(tensors)\n",
        "predlist=torch.zeros(0,dtype=torch.long, device='cpu')\n",
        "lbllist=torch.zeros(0,dtype=torch.long, device='cpu')\n",
        "\n",
        "with torch.no_grad():\n",
        "    for i, (inputs, classes) in enumerate(testLoader):\n",
        "        inputs = inputs.to(device)\n",
        "        classes = classes.to(device)\n",
        "        outputs = net(inputs)\n",
        "        _, preds = torch.max(outputs, 1)\n",
        "\n",
        "        # Append batch prediction results\n",
        "        predlist=torch.cat([predlist,preds.view(-1).cpu()])\n",
        "        lbllist=torch.cat([lbllist,classes.view(-1).cpu()])\n",
        "\n",
        "# Confusion matrix\n",
        "conf_mat=confusion_matrix(lbllist.numpy(), predlist.numpy())\n",
        "print(conf_mat)\n",
        "\n",
        "# Per-class accuracy\n",
        "class_accuracy=100*conf_mat.diagonal()/conf_mat.sum(1)\n",
        "print(class_accuracy)"
      ],
      "metadata": {
        "colab": {
          "base_uri": "https://localhost:8080/"
        },
        "id": "kDZycH56z75M",
        "outputId": "8816e275-b5dd-40da-dd63-a1c4b65a4518"
      },
      "execution_count": 26,
      "outputs": [
        {
          "output_type": "stream",
          "name": "stdout",
          "text": [
            "[[ 966    0    2    1    0    2    6    1    2    0]\n",
            " [   0 1115    3    2    0    1    4    1    9    0]\n",
            " [   9    1  968    8   11    0    8   10   12    5]\n",
            " [   2    1   19  945    0   10    2   12    7   12]\n",
            " [   1    2    3    0  931    0    9    3    2   31]\n",
            " [   9    2    3   31    4  798   15    5   14   11]\n",
            " [  11    3    4    0   10    6  921    1    2    0]\n",
            " [   2    6   25    4    5    0    0  961    1   24]\n",
            " [  11    4    6   18    9   11   10   10  882   13]\n",
            " [  10    6    1   11   18    5    1   16    3  938]]\n",
            "[98.57142857 98.23788546 93.79844961 93.56435644 94.80651731 89.46188341\n",
            " 96.13778706 93.48249027 90.55441478 92.96333003]\n"
          ]
        }
      ]
    },
    {
      "cell_type": "code",
      "source": [],
      "metadata": {
        "id": "XQmJx8Hs2cMm"
      },
      "execution_count": null,
      "outputs": []
    }
  ]
}