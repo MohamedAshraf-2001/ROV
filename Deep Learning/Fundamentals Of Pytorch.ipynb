{
 "cells": [
  {
   "cell_type": "markdown",
   "id": "4c7ec59b",
   "metadata": {},
   "source": [
    "# PyTorch\n",
    "PyTorch is an open source machine learning library used for developing and training neural network based deep learning models, initially developed by Facebook’s AI research group.\n",
    "\n",
    "Pytorch uses core Python concepts like classes, structures and conditional loops — that are a lot familiar to our eyes, hence a lot more intuitive to understand."
   ]
  },
  {
   "cell_type": "code",
   "execution_count": 19,
   "id": "8413a67b",
   "metadata": {},
   "outputs": [
    {
     "name": "stdout",
     "output_type": "stream",
     "text": [
      "Pytorch version:  1.13.0+cu117\n"
     ]
    }
   ],
   "source": [
    "import torch \n",
    "import numpy as np \n",
    "\n",
    "print('Pytorch version: ', torch.__version__)"
   ]
  },
  {
   "cell_type": "markdown",
   "id": "0f80d9c3",
   "metadata": {},
   "source": [
    "## Creating Tensors in Pytorch\n",
    "**Tensor** : is the primary data structure used by neural network."
   ]
  },
  {
   "cell_type": "code",
   "execution_count": 6,
   "id": "45a78ce3",
   "metadata": {},
   "outputs": [
    {
     "data": {
      "text/plain": [
       "tensor(3)"
      ]
     },
     "execution_count": 6,
     "metadata": {},
     "output_type": "execute_result"
    }
   ],
   "source": [
    "s = 3\n",
    "scalar = torch.tensor(s) #scalar \n",
    "scalar"
   ]
  },
  {
   "cell_type": "code",
   "execution_count": 7,
   "id": "2db4e26e",
   "metadata": {},
   "outputs": [
    {
     "data": {
      "text/plain": [
       "0"
      ]
     },
     "execution_count": 7,
     "metadata": {},
     "output_type": "execute_result"
    }
   ],
   "source": [
    "scalar.ndim"
   ]
  },
  {
   "cell_type": "code",
   "execution_count": 11,
   "id": "7ceab1cd",
   "metadata": {},
   "outputs": [
    {
     "data": {
      "text/plain": [
       "3"
      ]
     },
     "execution_count": 11,
     "metadata": {},
     "output_type": "execute_result"
    }
   ],
   "source": [
    "scalar.item() #only work with one number "
   ]
  },
  {
   "cell_type": "code",
   "execution_count": 14,
   "id": "a6e8ff3c",
   "metadata": {},
   "outputs": [
    {
     "name": "stdout",
     "output_type": "stream",
     "text": [
      "tensor a:  tensor([1, 2, 3])\n",
      "tensor b:  tensor([4, 5, 6], dtype=torch.int32)\n"
     ]
    }
   ],
   "source": [
    "a = [1, 2, 3] \n",
    "b = np.array([4, 5, 6], dtype = np.int32) \n",
    "\n",
    "vector_a = torch.tensor(a) #vector\n",
    "print('tensor a: ', t_a)\n",
    "\n",
    "vector_b = torch.tensor(b) #vector\n",
    "print('tensor b: ', t_b)"
   ]
  },
  {
   "cell_type": "markdown",
   "id": "973e105b",
   "metadata": {},
   "source": [
    "**Axis:** refers to a specific dimension.\n",
    "\n",
    "**Rank:** refers to the no. dimensions present within the tensor.\n",
    "\n",
    "**Shape:** gives us the length of each axis of the tensor."
   ]
  },
  {
   "cell_type": "code",
   "execution_count": 15,
   "id": "1ee37f19",
   "metadata": {},
   "outputs": [
    {
     "name": "stdout",
     "output_type": "stream",
     "text": [
      "Dim of tensor a:  1\n",
      "Shape of tensor a:  torch.Size([3])\n"
     ]
    }
   ],
   "source": [
    "print('Dim of tensor a: ', vector_a.ndim)\n",
    "\n",
    "print('Shape of tensor a: ', vector_a.shape)"
   ]
  },
  {
   "cell_type": "code",
   "execution_count": 3,
   "id": "33d48207",
   "metadata": {},
   "outputs": [
    {
     "data": {
      "text/plain": [
       "(False, True)"
      ]
     },
     "execution_count": 3,
     "metadata": {},
     "output_type": "execute_result"
    }
   ],
   "source": [
    "torch.is_tensor(a), torch.is_tensor(vector_a)"
   ]
  },
  {
   "cell_type": "code",
   "execution_count": 16,
   "id": "e2d3f9bf",
   "metadata": {},
   "outputs": [
    {
     "data": {
      "text/plain": [
       "tensor([[0., 0., 0.],\n",
       "        [0., 0., 0.]])"
      ]
     },
     "execution_count": 16,
     "metadata": {},
     "output_type": "execute_result"
    }
   ],
   "source": [
    "t_zeros = torch.zeros(2,3)\n",
    "t_zeros"
   ]
  },
  {
   "cell_type": "markdown",
   "id": "fe943c11",
   "metadata": {},
   "source": [
    "- A scalar is a **0** dimensional tensor\n",
    "- A vector is a **1** dimensional tensor\n",
    "- A matrix is a **2** dimensional tensor\n",
    "- A nd-array is an **n** dimensional tensor"
   ]
  },
  {
   "cell_type": "code",
   "execution_count": 17,
   "id": "39b2b2aa",
   "metadata": {},
   "outputs": [
    {
     "data": {
      "text/plain": [
       "2"
      ]
     },
     "execution_count": 17,
     "metadata": {},
     "output_type": "execute_result"
    }
   ],
   "source": [
    "t_zeros.ndim #matrix"
   ]
  },
  {
   "cell_type": "code",
   "execution_count": 4,
   "id": "3e28dca4",
   "metadata": {},
   "outputs": [
    {
     "data": {
      "text/plain": [
       "tensor([[1., 1., 1.],\n",
       "        [1., 1., 1.]])"
      ]
     },
     "execution_count": 4,
     "metadata": {},
     "output_type": "execute_result"
    }
   ],
   "source": [
    "t_ones = torch.ones(2,3)\n",
    "t_ones"
   ]
  },
  {
   "cell_type": "code",
   "execution_count": 5,
   "id": "be532733",
   "metadata": {},
   "outputs": [
    {
     "data": {
      "text/plain": [
       "tensor([[0.5158, 0.5249, 0.6735],\n",
       "        [0.1076, 0.0180, 0.6301]])"
      ]
     },
     "execution_count": 5,
     "metadata": {},
     "output_type": "execute_result"
    }
   ],
   "source": [
    "#random tensor\n",
    "rand_tensor = torch.rand(2,3)\n",
    "rand_tensor"
   ]
  },
  {
   "cell_type": "code",
   "execution_count": 21,
   "id": "47520863",
   "metadata": {},
   "outputs": [
    {
     "name": "stdout",
     "output_type": "stream",
     "text": [
      "Matrix: \n",
      " tensor([[1, 2, 3],\n",
      "        [4, 5, 6]])\n",
      "Matrix Rank:  2\n",
      "Matrix shape:  torch.Size([2, 3])\n"
     ]
    }
   ],
   "source": [
    "Matrix = torch.tensor([[1, 2, 3],\n",
    "                       [4, 5, 6]])\n",
    "\n",
    "print('Matrix: \\n', Matrix)\n",
    "print('Matrix Rank: ', Matrix.ndim)\n",
    "print('Matrix shape: ', Matrix.shape)"
   ]
  },
  {
   "cell_type": "markdown",
   "id": "810b2236",
   "metadata": {},
   "source": [
    "## Manipulating the data type and shape of a tensor"
   ]
  },
  {
   "cell_type": "code",
   "execution_count": 23,
   "id": "40346ac4",
   "metadata": {},
   "outputs": [
    {
     "data": {
      "text/plain": [
       "torch.int64"
      ]
     },
     "execution_count": 23,
     "metadata": {},
     "output_type": "execute_result"
    }
   ],
   "source": [
    "vector_a_new = vector_a.to(torch.int64)\n",
    "vector_a_new.dtype"
   ]
  },
  {
   "cell_type": "code",
   "execution_count": 32,
   "id": "d0eec57c",
   "metadata": {},
   "outputs": [
    {
     "name": "stdout",
     "output_type": "stream",
     "text": [
      "torch.Size([5, 6])\n"
     ]
    }
   ],
   "source": [
    "t = torch.zeros(30)\n",
    "\n",
    "t_reshape = t.reshape(5, 6)\n",
    "print(t_reshape.shape)"
   ]
  },
  {
   "cell_type": "markdown",
   "id": "c3d02dea",
   "metadata": {},
   "source": [
    "**Squeezing:** a tensor removes the dimensions or axes that have a length of one. \n",
    "\n",
    "**Unsqueezing:** a tensor adds a dimension with a length of one."
   ]
  },
  {
   "cell_type": "code",
   "execution_count": 44,
   "id": "dc765a1f",
   "metadata": {},
   "outputs": [
    {
     "name": "stdout",
     "output_type": "stream",
     "text": [
      "Tensor before Squeezing: \n",
      " torch.Size([1, 12])\n",
      "tensor([[1., 1., 1., 1., 2., 2., 2., 2., 3., 3., 3., 3.]]) \n",
      "\n",
      "Tnesor after Squeezing: \n",
      " torch.Size([12])\n",
      "tensor([1., 1., 1., 1., 2., 2., 2., 2., 3., 3., 3., 3.]) \n",
      "\n"
     ]
    }
   ],
   "source": [
    "t = torch.tensor([[1., 1., 1., 1., 2., 2., 2., 2., 3., 3., 3., 3.]])\n",
    "print('Tensor before Squeezing: \\n', t.shape)\n",
    "print(t,'\\n')\n",
    "t_sqz = torch.squeeze(t)\n",
    "print('Tnesor after Squeezing: \\n', t_sqz.shape)\n",
    "print(t_sqz,'\\n')"
   ]
  },
  {
   "cell_type": "markdown",
   "id": "c4d90083",
   "metadata": {},
   "source": [
    "## Random Tensor"
   ]
  },
  {
   "cell_type": "code",
   "execution_count": 46,
   "id": "4f2ff6b9",
   "metadata": {},
   "outputs": [
    {
     "data": {
      "text/plain": [
       "(tensor([[0.3922, 0.2395, 0.7743, 0.4131, 0.0291],\n",
       "         [0.2647, 0.5665, 0.7526, 0.3133, 0.9013],\n",
       "         [0.0427, 0.3200, 0.8076, 0.2154, 0.7629],\n",
       "         [0.8414, 0.4784, 0.4156, 0.0627, 0.6901]]),\n",
       " torch.float32)"
      ]
     },
     "execution_count": 46,
     "metadata": {},
     "output_type": "execute_result"
    }
   ],
   "source": [
    "random_tensor = torch.rand(size=(4, 5))\n",
    "random_tensor ,random_tensor.dtype "
   ]
  },
  {
   "cell_type": "code",
   "execution_count": 47,
   "id": "e777bcf1",
   "metadata": {},
   "outputs": [
    {
     "data": {
      "text/plain": [
       "device(type='cpu')"
      ]
     },
     "execution_count": 47,
     "metadata": {},
     "output_type": "execute_result"
    }
   ],
   "source": [
    "#we can see the device type on which tensor is stored: \n",
    "random_tensor.device"
   ]
  },
  {
   "cell_type": "code",
   "execution_count": 51,
   "id": "ac59fc27",
   "metadata": {},
   "outputs": [
    {
     "data": {
      "text/plain": [
       "(torch.Size([224, 224, 3]), 3)"
      ]
     },
     "execution_count": 51,
     "metadata": {},
     "output_type": "execute_result"
    }
   ],
   "source": [
    "rand1 = torch.rand(size=(224, 224, 3))\n",
    "rand1.shape, rand1.ndim"
   ]
  },
  {
   "cell_type": "code",
   "execution_count": 52,
   "id": "b894cf89",
   "metadata": {},
   "outputs": [
    {
     "name": "stdout",
     "output_type": "stream",
     "text": [
      "torch.Size([3, 5]) --> torch.Size([5, 3])\n"
     ]
    }
   ],
   "source": [
    "t = torch.rand(3, 5)\n",
    "\n",
    "t_trans = torch.transpose(t, 0, 1)\n",
    "print(t.shape, '-->', t_trans.shape)"
   ]
  },
  {
   "cell_type": "markdown",
   "id": "3f31ed5c",
   "metadata": {},
   "source": [
    "## Create range in tensors"
   ]
  },
  {
   "cell_type": "code",
   "execution_count": 53,
   "id": "ca5cec59",
   "metadata": {},
   "outputs": [
    {
     "data": {
      "text/plain": [
       "tensor([0, 1, 2, 3, 4, 5, 6, 7, 8, 9])"
      ]
     },
     "execution_count": 53,
     "metadata": {},
     "output_type": "execute_result"
    }
   ],
   "source": [
    "range1 = torch.arange(0, 10)\n",
    "range1"
   ]
  },
  {
   "cell_type": "code",
   "execution_count": 55,
   "id": "3e462f84",
   "metadata": {},
   "outputs": [
    {
     "data": {
      "text/plain": [
       "tensor([0, 3, 6, 9])"
      ]
     },
     "execution_count": 55,
     "metadata": {},
     "output_type": "execute_result"
    }
   ],
   "source": [
    "range2 = torch.arange(0, 10, 3)\n",
    "range2"
   ]
  },
  {
   "cell_type": "code",
   "execution_count": 56,
   "id": "bc7d8ce0",
   "metadata": {},
   "outputs": [
    {
     "data": {
      "text/plain": [
       "tensor([0, 0, 0, 0])"
      ]
     },
     "execution_count": 56,
     "metadata": {},
     "output_type": "execute_result"
    }
   ],
   "source": [
    "#we can also create a tensor of zeros similar to another tensor\n",
    "zeros = torch.zeros_like(input=range2) #will have the same shape \n",
    "zeros "
   ]
  },
  {
   "cell_type": "code",
   "execution_count": 59,
   "id": "831c0570",
   "metadata": {},
   "outputs": [
    {
     "data": {
      "text/plain": [
       "(torch.Size([3]), torch.float32, device(type='cpu'))"
      ]
     },
     "execution_count": 59,
     "metadata": {},
     "output_type": "execute_result"
    }
   ],
   "source": [
    "float_tensor = torch.tensor([3.0, 5.0, 7.0], \n",
    "                           dtype = None, #defaults to None, which is torch.float32 or whatever datatype is passed\n",
    "                           device = None, #defaults to None, which uses the default tensor device\n",
    "                           requires_grad = False #if True, operations perfromed on the tensor are recorded\n",
    "                           )\n",
    "float_tensor.shape, float_tensor.dtype, float_tensor.device"
   ]
  },
  {
   "cell_type": "markdown",
   "id": "c662d5ae",
   "metadata": {},
   "source": [
    "## Tensor Operations"
   ]
  },
  {
   "cell_type": "code",
   "execution_count": 61,
   "id": "3097954c",
   "metadata": {},
   "outputs": [
    {
     "data": {
      "text/plain": [
       "tensor([11, 13, 15])"
      ]
     },
     "execution_count": 61,
     "metadata": {},
     "output_type": "execute_result"
    }
   ],
   "source": [
    "tensor = torch.tensor([1, 3, 5])\n",
    "tensor + 10, tensor*10"
   ]
  },
  {
   "cell_type": "code",
   "execution_count": 62,
   "id": "2456c236",
   "metadata": {},
   "outputs": [
    {
     "data": {
      "text/plain": [
       "tensor([10, 30, 50])"
      ]
     },
     "execution_count": 62,
     "metadata": {},
     "output_type": "execute_result"
    }
   ],
   "source": [
    "# We can also use torch.mul() / torch.multiply()\n",
    "torch.mul(tensor, 10)"
   ]
  },
  {
   "cell_type": "code",
   "execution_count": 65,
   "id": "1fd4857e",
   "metadata": {},
   "outputs": [
    {
     "data": {
      "text/plain": [
       "tensor([[ 0.5153, -0.4414],\n",
       "        [-0.1939,  0.4694],\n",
       "        [-0.9414,  0.5997],\n",
       "        [-0.2057,  0.5087],\n",
       "        [ 0.1390, -0.1224]])"
      ]
     },
     "execution_count": 65,
     "metadata": {},
     "output_type": "execute_result"
    }
   ],
   "source": [
    "torch.manual_seed(1)\n",
    "\n",
    "t1 = 2 * torch.rand(5, 2) - 1\n",
    "t1"
   ]
  },
  {
   "cell_type": "code",
   "execution_count": 66,
   "id": "39d3cfe8",
   "metadata": {},
   "outputs": [
    {
     "data": {
      "text/plain": [
       "tensor([[ 0.8590,  0.7056],\n",
       "        [-0.3406, -1.2720],\n",
       "        [-1.1948,  0.0250],\n",
       "        [-0.7627,  1.3969],\n",
       "        [-0.3245,  0.2879]])"
      ]
     },
     "execution_count": 66,
     "metadata": {},
     "output_type": "execute_result"
    }
   ],
   "source": [
    "t2 = torch.normal(mean = 0, std = 1, size = (5,2))\n",
    "t2"
   ]
  },
  {
   "cell_type": "code",
   "execution_count": 72,
   "id": "f4c1519a",
   "metadata": {},
   "outputs": [
    {
     "data": {
      "text/plain": [
       "tensor([0.6785, 0.5078, 1.1162, 0.5488, 0.1853])"
      ]
     },
     "execution_count": 72,
     "metadata": {},
     "output_type": "execute_result"
    }
   ],
   "source": [
    "norm_t1 = torch.linalg.norm(t1, ord=2, dim=1)\n",
    "norm_t1"
   ]
  },
  {
   "cell_type": "markdown",
   "id": "9cc0ceb8",
   "metadata": {},
   "source": [
    "## Find the min, max, mean and sum "
   ]
  },
  {
   "cell_type": "code",
   "execution_count": 74,
   "id": "499fc176",
   "metadata": {},
   "outputs": [
    {
     "data": {
      "text/plain": [
       "tensor([ 0, 10, 20, 30, 40, 50, 60, 70, 80, 90])"
      ]
     },
     "execution_count": 74,
     "metadata": {},
     "output_type": "execute_result"
    }
   ],
   "source": [
    "x = torch.arange(0, 100, 10)\n",
    "x"
   ]
  },
  {
   "cell_type": "code",
   "execution_count": 75,
   "id": "131cda10",
   "metadata": {},
   "outputs": [
    {
     "name": "stdout",
     "output_type": "stream",
     "text": [
      "Minimum: 0\n",
      "Maximum: 90\n",
      "Sum: 450\n"
     ]
    }
   ],
   "source": [
    "print(f'Minimum: {x.min()}')\n",
    "print(f'Maximum: {x.max()}')\n",
    "print(f'Sum: {x.sum()}')"
   ]
  },
  {
   "cell_type": "code",
   "execution_count": 76,
   "id": "f8209a86",
   "metadata": {},
   "outputs": [
    {
     "data": {
      "text/plain": [
       "(tensor(0), tensor(90), tensor(450), tensor(45.))"
      ]
     },
     "execution_count": 76,
     "metadata": {},
     "output_type": "execute_result"
    }
   ],
   "source": [
    "# We can also calculate min, max, sum, mean as below\n",
    "torch.min(x), torch.max(x), torch.sum(x), torch.mean(x.type(torch.float32))"
   ]
  },
  {
   "cell_type": "code",
   "execution_count": 78,
   "id": "3df56d6b",
   "metadata": {},
   "outputs": [
    {
     "name": "stdout",
     "output_type": "stream",
     "text": [
      "Mean: 45.0\n"
     ]
    }
   ],
   "source": [
    "print(f'Mean: {x.type(torch.float32).mean()}')"
   ]
  },
  {
   "cell_type": "markdown",
   "id": "66dcf901",
   "metadata": {},
   "source": [
    "## Split, Stack and concatenate"
   ]
  },
  {
   "cell_type": "code",
   "execution_count": 84,
   "id": "48c94118",
   "metadata": {},
   "outputs": [
    {
     "name": "stdout",
     "output_type": "stream",
     "text": [
      "Tensor:  tensor([0.7576, 0.2793, 0.4031, 0.7347, 0.0293, 0.7999])\n"
     ]
    },
    {
     "data": {
      "text/plain": [
       "[array([0.7576316], dtype=float32),\n",
       " array([0.27931088], dtype=float32),\n",
       " array([0.40306926], dtype=float32),\n",
       " array([0.73468447], dtype=float32),\n",
       " array([0.02928156], dtype=float32),\n",
       " array([0.7998586], dtype=float32)]"
      ]
     },
     "execution_count": 84,
     "metadata": {},
     "output_type": "execute_result"
    }
   ],
   "source": [
    "torch.manual_seed(1)\n",
    "\n",
    "t = torch.rand(6)\n",
    "print('Tensor: ', t)\n",
    "\n",
    "t_splits = torch.chunk(t, 6) #6 splits\n",
    "[item.numpy() for item in t_splits]"
   ]
  },
  {
   "cell_type": "code",
   "execution_count": 90,
   "id": "5af46385",
   "metadata": {},
   "outputs": [
    {
     "name": "stdout",
     "output_type": "stream",
     "text": [
      "Tensor:  tensor([0.7576, 0.2793, 0.4031, 0.7347, 0.0293])\n"
     ]
    },
    {
     "data": {
      "text/plain": [
       "(tensor([0.7576, 0.2793, 0.4031]), tensor([0.7347, 0.0293]))"
      ]
     },
     "execution_count": 90,
     "metadata": {},
     "output_type": "execute_result"
    }
   ],
   "source": [
    "torch.manual_seed(1)\n",
    "\n",
    "t = torch.rand(5)\n",
    "print('Tensor: ', t)\n",
    "\n",
    "t_splits = torch.split(t, split_size_or_sections=(3, 2))\n",
    "t_splits"
   ]
  },
  {
   "cell_type": "code",
   "execution_count": 92,
   "id": "7a7cba2f",
   "metadata": {},
   "outputs": [
    {
     "data": {
      "text/plain": [
       "(tensor([1., 1., 1.]), tensor([0., 0., 0.]))"
      ]
     },
     "execution_count": 92,
     "metadata": {},
     "output_type": "execute_result"
    }
   ],
   "source": [
    "A = torch.ones(3)\n",
    "B = torch.zeros(3)\n",
    "\n",
    "A, B"
   ]
  },
  {
   "cell_type": "code",
   "execution_count": 93,
   "id": "2c5864bb",
   "metadata": {},
   "outputs": [
    {
     "data": {
      "text/plain": [
       "tensor([1., 1., 1., 0., 0., 0.])"
      ]
     },
     "execution_count": 93,
     "metadata": {},
     "output_type": "execute_result"
    }
   ],
   "source": [
    "torch.cat([A, B])"
   ]
  },
  {
   "cell_type": "code",
   "execution_count": 96,
   "id": "1d71794d",
   "metadata": {},
   "outputs": [
    {
     "data": {
      "text/plain": [
       "tensor([1., 1., 1., 0., 0., 0.])"
      ]
     },
     "execution_count": 96,
     "metadata": {},
     "output_type": "execute_result"
    }
   ],
   "source": [
    "torch.cat([A, B], axis=0)"
   ]
  },
  {
   "cell_type": "code",
   "execution_count": 98,
   "id": "727003f7",
   "metadata": {},
   "outputs": [
    {
     "data": {
      "text/plain": [
       "tensor([[1., 1., 1.],\n",
       "        [0., 0., 0.]])"
      ]
     },
     "execution_count": 98,
     "metadata": {},
     "output_type": "execute_result"
    }
   ],
   "source": [
    "torch.stack([A, B], axis = 0)"
   ]
  },
  {
   "cell_type": "code",
   "execution_count": 110,
   "id": "340243e3",
   "metadata": {},
   "outputs": [
    {
     "data": {
      "text/plain": [
       "tensor([[1., 1., 1.],\n",
       "        [0., 0., 0.]])"
      ]
     },
     "execution_count": 110,
     "metadata": {},
     "output_type": "execute_result"
    }
   ],
   "source": [
    "torch.stack([A, B], dim = 0)"
   ]
  },
  {
   "cell_type": "code",
   "execution_count": 99,
   "id": "ada71e83",
   "metadata": {},
   "outputs": [
    {
     "data": {
      "text/plain": [
       "tensor([[1., 0.],\n",
       "        [1., 0.],\n",
       "        [1., 0.]])"
      ]
     },
     "execution_count": 99,
     "metadata": {},
     "output_type": "execute_result"
    }
   ],
   "source": [
    "torch.stack([A, B], axis = 1)"
   ]
  },
  {
   "cell_type": "code",
   "execution_count": 100,
   "id": "7edda5c2",
   "metadata": {},
   "outputs": [
    {
     "data": {
      "text/plain": [
       "tensor([[1., 1., 1.],\n",
       "        [0., 0., 0.]])"
      ]
     },
     "execution_count": 100,
     "metadata": {},
     "output_type": "execute_result"
    }
   ],
   "source": [
    "torch.vstack((A,B))"
   ]
  },
  {
   "cell_type": "code",
   "execution_count": 101,
   "id": "52799204",
   "metadata": {},
   "outputs": [
    {
     "data": {
      "text/plain": [
       "tensor([1., 1., 1., 0., 0., 0.])"
      ]
     },
     "execution_count": 101,
     "metadata": {},
     "output_type": "execute_result"
    }
   ],
   "source": [
    "torch.hstack((A,B))"
   ]
  },
  {
   "cell_type": "markdown",
   "id": "a0e63140",
   "metadata": {},
   "source": [
    "### Flatten A Tensor\n",
    "A flatten operation on a tensor reshapes the tensor to have a shape that is equal to the number of elements contained in the tensor. This is the same thing as a 1d-array of elements."
   ]
  },
  {
   "cell_type": "code",
   "execution_count": 107,
   "id": "136f6acc",
   "metadata": {},
   "outputs": [
    {
     "name": "stdout",
     "output_type": "stream",
     "text": [
      "Before Flatting: \n",
      " tensor([[1., 1., 1.],\n",
      "        [1., 1., 1.],\n",
      "        [1., 1., 1.],\n",
      "        [1., 1., 1.]])\n",
      "torch.Size([4, 3])\n",
      "After Flatten:  tensor([1., 1., 1., 1., 1., 1., 1., 1., 1., 1., 1., 1.])\n",
      "torch.Size([12])\n"
     ]
    }
   ],
   "source": [
    "def flatten(t):\n",
    "    t = t.reshape(1, -1)\n",
    "    t = t.squeeze()\n",
    "    return t\n",
    "\n",
    "t = torch.ones(4, 3)\n",
    "print('Before Flatting: \\n', t)\n",
    "print(t.shape)\n",
    "\n",
    "print('After Flatten: ',flatten(t))\n",
    "print(flatten(t).shape)"
   ]
  },
  {
   "cell_type": "code",
   "execution_count": 108,
   "id": "dadc6390",
   "metadata": {},
   "outputs": [
    {
     "data": {
      "text/plain": [
       "tensor([1., 1., 1., 1., 1., 1., 1., 1., 1., 1., 1., 1.])"
      ]
     },
     "execution_count": 108,
     "metadata": {},
     "output_type": "execute_result"
    }
   ],
   "source": [
    "#Or\n",
    "torch.flatten(t)"
   ]
  },
  {
   "cell_type": "markdown",
   "id": "4b9776d1",
   "metadata": {},
   "source": [
    "## Element-Wise Tensor Operations \n",
    "operates on corresponding elements between tensors."
   ]
  },
  {
   "cell_type": "code",
   "execution_count": 171,
   "id": "d7d7f4c7",
   "metadata": {},
   "outputs": [],
   "source": [
    "t = torch.tensor([\n",
    "    [0,5,0],\n",
    "    [6,0,7],\n",
    "    [0,8,0]\n",
    "          ], dtype=torch.float32)"
   ]
  },
  {
   "cell_type": "code",
   "execution_count": 173,
   "id": "1ce05134",
   "metadata": {},
   "outputs": [
    {
     "data": {
      "text/plain": [
       "tensor([[ True, False,  True],\n",
       "        [False,  True, False],\n",
       "        [ True, False,  True]])"
      ]
     },
     "execution_count": 173,
     "metadata": {},
     "output_type": "execute_result"
    }
   ],
   "source": [
    "t.eq(0)"
   ]
  },
  {
   "cell_type": "code",
   "execution_count": 175,
   "id": "19cd7e90",
   "metadata": {},
   "outputs": [
    {
     "data": {
      "text/plain": [
       "tensor([[True, True, True],\n",
       "        [True, True, True],\n",
       "        [True, True, True]])"
      ]
     },
     "execution_count": 175,
     "metadata": {},
     "output_type": "execute_result"
    }
   ],
   "source": [
    "t.ge(0)"
   ]
  },
  {
   "cell_type": "code",
   "execution_count": 176,
   "id": "90ec19e9",
   "metadata": {},
   "outputs": [
    {
     "data": {
      "text/plain": [
       "tensor([[False,  True, False],\n",
       "        [ True, False,  True],\n",
       "        [False,  True, False]])"
      ]
     },
     "execution_count": 176,
     "metadata": {},
     "output_type": "execute_result"
    }
   ],
   "source": [
    "t.gt(0)"
   ]
  },
  {
   "cell_type": "code",
   "execution_count": 177,
   "id": "33cbbde6",
   "metadata": {},
   "outputs": [
    {
     "data": {
      "text/plain": [
       "tensor([[False, False, False],\n",
       "        [False, False, False],\n",
       "        [False, False, False]])"
      ]
     },
     "execution_count": 177,
     "metadata": {},
     "output_type": "execute_result"
    }
   ],
   "source": [
    "t.lt(0)"
   ]
  },
  {
   "cell_type": "markdown",
   "id": "704c5bc0",
   "metadata": {},
   "source": [
    "### Some Terminology\n",
    "There are some other ways to refer to element-wise operations, so I just wanted to mention that all of these mean the same thing:\n",
    "\n",
    "- Element-wise\n",
    "- Component-wise\n",
    "- Point-wise"
   ]
  },
  {
   "cell_type": "markdown",
   "id": "920d3198",
   "metadata": {},
   "source": [
    "## Tensor Reduction Operations:\n",
    "is an operation that reduces the number of elements contained within the tensor. \n",
    "- Tensors give us the ability to manage our data."
   ]
  },
  {
   "cell_type": "code",
   "execution_count": 161,
   "id": "6ad8b1ef",
   "metadata": {},
   "outputs": [],
   "source": [
    "t = torch.tensor([\n",
    "    [1,0,0],\n",
    "    [0,2,0],\n",
    "    [3,0,0]\n",
    "          ], dtype=torch.float32)  #3x3 rank-2 tensor."
   ]
  },
  {
   "cell_type": "markdown",
   "id": "4c86ce43",
   "metadata": {},
   "source": [
    "All of these tensor methods reduce the tensor to a single element scalar valued tensor by operating on all the tensor's elements."
   ]
  },
  {
   "cell_type": "code",
   "execution_count": 162,
   "id": "42892162",
   "metadata": {},
   "outputs": [
    {
     "data": {
      "text/plain": [
       "tensor(6.)"
      ]
     },
     "execution_count": 162,
     "metadata": {},
     "output_type": "execute_result"
    }
   ],
   "source": [
    "t.sum()"
   ]
  },
  {
   "cell_type": "code",
   "execution_count": 163,
   "id": "9dec5bb8",
   "metadata": {},
   "outputs": [
    {
     "data": {
      "text/plain": [
       "9"
      ]
     },
     "execution_count": 163,
     "metadata": {},
     "output_type": "execute_result"
    }
   ],
   "source": [
    "t.numel()"
   ]
  },
  {
   "cell_type": "code",
   "execution_count": 164,
   "id": "4d903f53",
   "metadata": {},
   "outputs": [
    {
     "data": {
      "text/plain": [
       "tensor(0.)"
      ]
     },
     "execution_count": 164,
     "metadata": {},
     "output_type": "execute_result"
    }
   ],
   "source": [
    "t.prod()"
   ]
  },
  {
   "cell_type": "code",
   "execution_count": 165,
   "id": "41b2cade",
   "metadata": {},
   "outputs": [
    {
     "data": {
      "text/plain": [
       "tensor(0.6667)"
      ]
     },
     "execution_count": 165,
     "metadata": {},
     "output_type": "execute_result"
    }
   ],
   "source": [
    "t.mean()"
   ]
  },
  {
   "cell_type": "code",
   "execution_count": 166,
   "id": "036bca47",
   "metadata": {},
   "outputs": [
    {
     "data": {
      "text/plain": [
       "tensor(1.1180)"
      ]
     },
     "execution_count": 166,
     "metadata": {},
     "output_type": "execute_result"
    }
   ],
   "source": [
    "t.std()"
   ]
  },
  {
   "cell_type": "code",
   "execution_count": 167,
   "id": "fce4fe08",
   "metadata": {},
   "outputs": [
    {
     "data": {
      "text/plain": [
       "tensor(6)"
      ]
     },
     "execution_count": 167,
     "metadata": {},
     "output_type": "execute_result"
    }
   ],
   "source": [
    "#Argmax returns the index location of the maximum value inside a tensor.\n",
    "t.argmax()"
   ]
  },
  {
   "cell_type": "code",
   "execution_count": 168,
   "id": "d63a71bb",
   "metadata": {},
   "outputs": [
    {
     "data": {
      "text/plain": [
       "6"
      ]
     },
     "execution_count": 168,
     "metadata": {},
     "output_type": "execute_result"
    }
   ],
   "source": [
    "t.argmax().item()"
   ]
  },
  {
   "cell_type": "code",
   "execution_count": 169,
   "id": "be7503fd",
   "metadata": {},
   "outputs": [
    {
     "data": {
      "text/plain": [
       "tensor([2, 1, 0])"
      ]
     },
     "execution_count": 169,
     "metadata": {},
     "output_type": "execute_result"
    }
   ],
   "source": [
    "t.argmax(dim=0)"
   ]
  },
  {
   "cell_type": "code",
   "execution_count": 170,
   "id": "e721b049",
   "metadata": {},
   "outputs": [
    {
     "data": {
      "text/plain": [
       "tensor([0, 1, 0])"
      ]
     },
     "execution_count": 170,
     "metadata": {},
     "output_type": "execute_result"
    }
   ],
   "source": [
    "t.argmax(dim=1)"
   ]
  },
  {
   "cell_type": "code",
   "execution_count": null,
   "id": "98ac8847",
   "metadata": {},
   "outputs": [],
   "source": []
  }
 ],
 "metadata": {
  "kernelspec": {
   "display_name": "Python 3 (ipykernel)",
   "language": "python",
   "name": "python3"
  },
  "language_info": {
   "codemirror_mode": {
    "name": "ipython",
    "version": 3
   },
   "file_extension": ".py",
   "mimetype": "text/x-python",
   "name": "python",
   "nbconvert_exporter": "python",
   "pygments_lexer": "ipython3",
   "version": "3.7.8"
  }
 },
 "nbformat": 4,
 "nbformat_minor": 5
}
