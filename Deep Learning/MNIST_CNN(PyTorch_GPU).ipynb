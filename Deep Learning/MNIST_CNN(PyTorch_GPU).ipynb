{
  "nbformat": 4,
  "nbformat_minor": 0,
  "metadata": {
    "colab": {
      "provenance": []
    },
    "kernelspec": {
      "name": "python3",
      "display_name": "Python 3"
    },
    "language_info": {
      "name": "python"
    },
    "accelerator": "GPU",
    "gpuClass": "standard",
    "widgets": {
      "application/vnd.jupyter.widget-state+json": {
        "001a36ead26441e6a64bad89fbff62e4": {
          "model_module": "@jupyter-widgets/controls",
          "model_name": "HBoxModel",
          "model_module_version": "1.5.0",
          "state": {
            "_dom_classes": [],
            "_model_module": "@jupyter-widgets/controls",
            "_model_module_version": "1.5.0",
            "_model_name": "HBoxModel",
            "_view_count": null,
            "_view_module": "@jupyter-widgets/controls",
            "_view_module_version": "1.5.0",
            "_view_name": "HBoxView",
            "box_style": "",
            "children": [
              "IPY_MODEL_a06205a7c8c844b48a06105c02310e87",
              "IPY_MODEL_bbb35bdfd7b440049ac5019b81321993",
              "IPY_MODEL_c25cc7fa18d34be79ff1fcd99bbca78a"
            ],
            "layout": "IPY_MODEL_4eb3768f6a5b44d38cb4fd8a6ba57b82"
          }
        },
        "a06205a7c8c844b48a06105c02310e87": {
          "model_module": "@jupyter-widgets/controls",
          "model_name": "HTMLModel",
          "model_module_version": "1.5.0",
          "state": {
            "_dom_classes": [],
            "_model_module": "@jupyter-widgets/controls",
            "_model_module_version": "1.5.0",
            "_model_name": "HTMLModel",
            "_view_count": null,
            "_view_module": "@jupyter-widgets/controls",
            "_view_module_version": "1.5.0",
            "_view_name": "HTMLView",
            "description": "",
            "description_tooltip": null,
            "layout": "IPY_MODEL_2d6ede99d4e7466b8106dd6406c02f73",
            "placeholder": "​",
            "style": "IPY_MODEL_fe20d651893c4e93ab1742c4d0992a41",
            "value": "100%"
          }
        },
        "bbb35bdfd7b440049ac5019b81321993": {
          "model_module": "@jupyter-widgets/controls",
          "model_name": "FloatProgressModel",
          "model_module_version": "1.5.0",
          "state": {
            "_dom_classes": [],
            "_model_module": "@jupyter-widgets/controls",
            "_model_module_version": "1.5.0",
            "_model_name": "FloatProgressModel",
            "_view_count": null,
            "_view_module": "@jupyter-widgets/controls",
            "_view_module_version": "1.5.0",
            "_view_name": "ProgressView",
            "bar_style": "success",
            "description": "",
            "description_tooltip": null,
            "layout": "IPY_MODEL_e8c3e7d6e41640ecbb043ce0cb4238f7",
            "max": 9912422,
            "min": 0,
            "orientation": "horizontal",
            "style": "IPY_MODEL_ec422356b58047b387654ea844f6beaf",
            "value": 9912422
          }
        },
        "c25cc7fa18d34be79ff1fcd99bbca78a": {
          "model_module": "@jupyter-widgets/controls",
          "model_name": "HTMLModel",
          "model_module_version": "1.5.0",
          "state": {
            "_dom_classes": [],
            "_model_module": "@jupyter-widgets/controls",
            "_model_module_version": "1.5.0",
            "_model_name": "HTMLModel",
            "_view_count": null,
            "_view_module": "@jupyter-widgets/controls",
            "_view_module_version": "1.5.0",
            "_view_name": "HTMLView",
            "description": "",
            "description_tooltip": null,
            "layout": "IPY_MODEL_734806486df24ebcbe5aba15d1243aa0",
            "placeholder": "​",
            "style": "IPY_MODEL_de8005c5382340c1a1271bec52e7146e",
            "value": " 9912422/9912422 [00:00&lt;00:00, 130963621.38it/s]"
          }
        },
        "4eb3768f6a5b44d38cb4fd8a6ba57b82": {
          "model_module": "@jupyter-widgets/base",
          "model_name": "LayoutModel",
          "model_module_version": "1.2.0",
          "state": {
            "_model_module": "@jupyter-widgets/base",
            "_model_module_version": "1.2.0",
            "_model_name": "LayoutModel",
            "_view_count": null,
            "_view_module": "@jupyter-widgets/base",
            "_view_module_version": "1.2.0",
            "_view_name": "LayoutView",
            "align_content": null,
            "align_items": null,
            "align_self": null,
            "border": null,
            "bottom": null,
            "display": null,
            "flex": null,
            "flex_flow": null,
            "grid_area": null,
            "grid_auto_columns": null,
            "grid_auto_flow": null,
            "grid_auto_rows": null,
            "grid_column": null,
            "grid_gap": null,
            "grid_row": null,
            "grid_template_areas": null,
            "grid_template_columns": null,
            "grid_template_rows": null,
            "height": null,
            "justify_content": null,
            "justify_items": null,
            "left": null,
            "margin": null,
            "max_height": null,
            "max_width": null,
            "min_height": null,
            "min_width": null,
            "object_fit": null,
            "object_position": null,
            "order": null,
            "overflow": null,
            "overflow_x": null,
            "overflow_y": null,
            "padding": null,
            "right": null,
            "top": null,
            "visibility": null,
            "width": null
          }
        },
        "2d6ede99d4e7466b8106dd6406c02f73": {
          "model_module": "@jupyter-widgets/base",
          "model_name": "LayoutModel",
          "model_module_version": "1.2.0",
          "state": {
            "_model_module": "@jupyter-widgets/base",
            "_model_module_version": "1.2.0",
            "_model_name": "LayoutModel",
            "_view_count": null,
            "_view_module": "@jupyter-widgets/base",
            "_view_module_version": "1.2.0",
            "_view_name": "LayoutView",
            "align_content": null,
            "align_items": null,
            "align_self": null,
            "border": null,
            "bottom": null,
            "display": null,
            "flex": null,
            "flex_flow": null,
            "grid_area": null,
            "grid_auto_columns": null,
            "grid_auto_flow": null,
            "grid_auto_rows": null,
            "grid_column": null,
            "grid_gap": null,
            "grid_row": null,
            "grid_template_areas": null,
            "grid_template_columns": null,
            "grid_template_rows": null,
            "height": null,
            "justify_content": null,
            "justify_items": null,
            "left": null,
            "margin": null,
            "max_height": null,
            "max_width": null,
            "min_height": null,
            "min_width": null,
            "object_fit": null,
            "object_position": null,
            "order": null,
            "overflow": null,
            "overflow_x": null,
            "overflow_y": null,
            "padding": null,
            "right": null,
            "top": null,
            "visibility": null,
            "width": null
          }
        },
        "fe20d651893c4e93ab1742c4d0992a41": {
          "model_module": "@jupyter-widgets/controls",
          "model_name": "DescriptionStyleModel",
          "model_module_version": "1.5.0",
          "state": {
            "_model_module": "@jupyter-widgets/controls",
            "_model_module_version": "1.5.0",
            "_model_name": "DescriptionStyleModel",
            "_view_count": null,
            "_view_module": "@jupyter-widgets/base",
            "_view_module_version": "1.2.0",
            "_view_name": "StyleView",
            "description_width": ""
          }
        },
        "e8c3e7d6e41640ecbb043ce0cb4238f7": {
          "model_module": "@jupyter-widgets/base",
          "model_name": "LayoutModel",
          "model_module_version": "1.2.0",
          "state": {
            "_model_module": "@jupyter-widgets/base",
            "_model_module_version": "1.2.0",
            "_model_name": "LayoutModel",
            "_view_count": null,
            "_view_module": "@jupyter-widgets/base",
            "_view_module_version": "1.2.0",
            "_view_name": "LayoutView",
            "align_content": null,
            "align_items": null,
            "align_self": null,
            "border": null,
            "bottom": null,
            "display": null,
            "flex": null,
            "flex_flow": null,
            "grid_area": null,
            "grid_auto_columns": null,
            "grid_auto_flow": null,
            "grid_auto_rows": null,
            "grid_column": null,
            "grid_gap": null,
            "grid_row": null,
            "grid_template_areas": null,
            "grid_template_columns": null,
            "grid_template_rows": null,
            "height": null,
            "justify_content": null,
            "justify_items": null,
            "left": null,
            "margin": null,
            "max_height": null,
            "max_width": null,
            "min_height": null,
            "min_width": null,
            "object_fit": null,
            "object_position": null,
            "order": null,
            "overflow": null,
            "overflow_x": null,
            "overflow_y": null,
            "padding": null,
            "right": null,
            "top": null,
            "visibility": null,
            "width": null
          }
        },
        "ec422356b58047b387654ea844f6beaf": {
          "model_module": "@jupyter-widgets/controls",
          "model_name": "ProgressStyleModel",
          "model_module_version": "1.5.0",
          "state": {
            "_model_module": "@jupyter-widgets/controls",
            "_model_module_version": "1.5.0",
            "_model_name": "ProgressStyleModel",
            "_view_count": null,
            "_view_module": "@jupyter-widgets/base",
            "_view_module_version": "1.2.0",
            "_view_name": "StyleView",
            "bar_color": null,
            "description_width": ""
          }
        },
        "734806486df24ebcbe5aba15d1243aa0": {
          "model_module": "@jupyter-widgets/base",
          "model_name": "LayoutModel",
          "model_module_version": "1.2.0",
          "state": {
            "_model_module": "@jupyter-widgets/base",
            "_model_module_version": "1.2.0",
            "_model_name": "LayoutModel",
            "_view_count": null,
            "_view_module": "@jupyter-widgets/base",
            "_view_module_version": "1.2.0",
            "_view_name": "LayoutView",
            "align_content": null,
            "align_items": null,
            "align_self": null,
            "border": null,
            "bottom": null,
            "display": null,
            "flex": null,
            "flex_flow": null,
            "grid_area": null,
            "grid_auto_columns": null,
            "grid_auto_flow": null,
            "grid_auto_rows": null,
            "grid_column": null,
            "grid_gap": null,
            "grid_row": null,
            "grid_template_areas": null,
            "grid_template_columns": null,
            "grid_template_rows": null,
            "height": null,
            "justify_content": null,
            "justify_items": null,
            "left": null,
            "margin": null,
            "max_height": null,
            "max_width": null,
            "min_height": null,
            "min_width": null,
            "object_fit": null,
            "object_position": null,
            "order": null,
            "overflow": null,
            "overflow_x": null,
            "overflow_y": null,
            "padding": null,
            "right": null,
            "top": null,
            "visibility": null,
            "width": null
          }
        },
        "de8005c5382340c1a1271bec52e7146e": {
          "model_module": "@jupyter-widgets/controls",
          "model_name": "DescriptionStyleModel",
          "model_module_version": "1.5.0",
          "state": {
            "_model_module": "@jupyter-widgets/controls",
            "_model_module_version": "1.5.0",
            "_model_name": "DescriptionStyleModel",
            "_view_count": null,
            "_view_module": "@jupyter-widgets/base",
            "_view_module_version": "1.2.0",
            "_view_name": "StyleView",
            "description_width": ""
          }
        },
        "7f7f2c6c6d604caca53133c8c339bd85": {
          "model_module": "@jupyter-widgets/controls",
          "model_name": "HBoxModel",
          "model_module_version": "1.5.0",
          "state": {
            "_dom_classes": [],
            "_model_module": "@jupyter-widgets/controls",
            "_model_module_version": "1.5.0",
            "_model_name": "HBoxModel",
            "_view_count": null,
            "_view_module": "@jupyter-widgets/controls",
            "_view_module_version": "1.5.0",
            "_view_name": "HBoxView",
            "box_style": "",
            "children": [
              "IPY_MODEL_57aa21f8d4594c8ab5e57e2cb9a94928",
              "IPY_MODEL_140a7bb6992c4d4dbb1d4c3dcc379113",
              "IPY_MODEL_9ee6374e9c73491795c2663cbdca1f8b"
            ],
            "layout": "IPY_MODEL_c99771a7519a40a98d2d47a513005a38"
          }
        },
        "57aa21f8d4594c8ab5e57e2cb9a94928": {
          "model_module": "@jupyter-widgets/controls",
          "model_name": "HTMLModel",
          "model_module_version": "1.5.0",
          "state": {
            "_dom_classes": [],
            "_model_module": "@jupyter-widgets/controls",
            "_model_module_version": "1.5.0",
            "_model_name": "HTMLModel",
            "_view_count": null,
            "_view_module": "@jupyter-widgets/controls",
            "_view_module_version": "1.5.0",
            "_view_name": "HTMLView",
            "description": "",
            "description_tooltip": null,
            "layout": "IPY_MODEL_f52e7b625db743e78050a4caf0aaae87",
            "placeholder": "​",
            "style": "IPY_MODEL_1193a6a1170043eda4cf7ecb8b4f16de",
            "value": "100%"
          }
        },
        "140a7bb6992c4d4dbb1d4c3dcc379113": {
          "model_module": "@jupyter-widgets/controls",
          "model_name": "FloatProgressModel",
          "model_module_version": "1.5.0",
          "state": {
            "_dom_classes": [],
            "_model_module": "@jupyter-widgets/controls",
            "_model_module_version": "1.5.0",
            "_model_name": "FloatProgressModel",
            "_view_count": null,
            "_view_module": "@jupyter-widgets/controls",
            "_view_module_version": "1.5.0",
            "_view_name": "ProgressView",
            "bar_style": "success",
            "description": "",
            "description_tooltip": null,
            "layout": "IPY_MODEL_0af25a18f7b84d5b82187508fa4ece11",
            "max": 28881,
            "min": 0,
            "orientation": "horizontal",
            "style": "IPY_MODEL_d06e35d0bbec40d8853f5b2f664278ea",
            "value": 28881
          }
        },
        "9ee6374e9c73491795c2663cbdca1f8b": {
          "model_module": "@jupyter-widgets/controls",
          "model_name": "HTMLModel",
          "model_module_version": "1.5.0",
          "state": {
            "_dom_classes": [],
            "_model_module": "@jupyter-widgets/controls",
            "_model_module_version": "1.5.0",
            "_model_name": "HTMLModel",
            "_view_count": null,
            "_view_module": "@jupyter-widgets/controls",
            "_view_module_version": "1.5.0",
            "_view_name": "HTMLView",
            "description": "",
            "description_tooltip": null,
            "layout": "IPY_MODEL_344d1a5b36aa4c99b5fff284576ee726",
            "placeholder": "​",
            "style": "IPY_MODEL_2e548c133e1a48e298443dce01e898f9",
            "value": " 28881/28881 [00:00&lt;00:00, 1162586.44it/s]"
          }
        },
        "c99771a7519a40a98d2d47a513005a38": {
          "model_module": "@jupyter-widgets/base",
          "model_name": "LayoutModel",
          "model_module_version": "1.2.0",
          "state": {
            "_model_module": "@jupyter-widgets/base",
            "_model_module_version": "1.2.0",
            "_model_name": "LayoutModel",
            "_view_count": null,
            "_view_module": "@jupyter-widgets/base",
            "_view_module_version": "1.2.0",
            "_view_name": "LayoutView",
            "align_content": null,
            "align_items": null,
            "align_self": null,
            "border": null,
            "bottom": null,
            "display": null,
            "flex": null,
            "flex_flow": null,
            "grid_area": null,
            "grid_auto_columns": null,
            "grid_auto_flow": null,
            "grid_auto_rows": null,
            "grid_column": null,
            "grid_gap": null,
            "grid_row": null,
            "grid_template_areas": null,
            "grid_template_columns": null,
            "grid_template_rows": null,
            "height": null,
            "justify_content": null,
            "justify_items": null,
            "left": null,
            "margin": null,
            "max_height": null,
            "max_width": null,
            "min_height": null,
            "min_width": null,
            "object_fit": null,
            "object_position": null,
            "order": null,
            "overflow": null,
            "overflow_x": null,
            "overflow_y": null,
            "padding": null,
            "right": null,
            "top": null,
            "visibility": null,
            "width": null
          }
        },
        "f52e7b625db743e78050a4caf0aaae87": {
          "model_module": "@jupyter-widgets/base",
          "model_name": "LayoutModel",
          "model_module_version": "1.2.0",
          "state": {
            "_model_module": "@jupyter-widgets/base",
            "_model_module_version": "1.2.0",
            "_model_name": "LayoutModel",
            "_view_count": null,
            "_view_module": "@jupyter-widgets/base",
            "_view_module_version": "1.2.0",
            "_view_name": "LayoutView",
            "align_content": null,
            "align_items": null,
            "align_self": null,
            "border": null,
            "bottom": null,
            "display": null,
            "flex": null,
            "flex_flow": null,
            "grid_area": null,
            "grid_auto_columns": null,
            "grid_auto_flow": null,
            "grid_auto_rows": null,
            "grid_column": null,
            "grid_gap": null,
            "grid_row": null,
            "grid_template_areas": null,
            "grid_template_columns": null,
            "grid_template_rows": null,
            "height": null,
            "justify_content": null,
            "justify_items": null,
            "left": null,
            "margin": null,
            "max_height": null,
            "max_width": null,
            "min_height": null,
            "min_width": null,
            "object_fit": null,
            "object_position": null,
            "order": null,
            "overflow": null,
            "overflow_x": null,
            "overflow_y": null,
            "padding": null,
            "right": null,
            "top": null,
            "visibility": null,
            "width": null
          }
        },
        "1193a6a1170043eda4cf7ecb8b4f16de": {
          "model_module": "@jupyter-widgets/controls",
          "model_name": "DescriptionStyleModel",
          "model_module_version": "1.5.0",
          "state": {
            "_model_module": "@jupyter-widgets/controls",
            "_model_module_version": "1.5.0",
            "_model_name": "DescriptionStyleModel",
            "_view_count": null,
            "_view_module": "@jupyter-widgets/base",
            "_view_module_version": "1.2.0",
            "_view_name": "StyleView",
            "description_width": ""
          }
        },
        "0af25a18f7b84d5b82187508fa4ece11": {
          "model_module": "@jupyter-widgets/base",
          "model_name": "LayoutModel",
          "model_module_version": "1.2.0",
          "state": {
            "_model_module": "@jupyter-widgets/base",
            "_model_module_version": "1.2.0",
            "_model_name": "LayoutModel",
            "_view_count": null,
            "_view_module": "@jupyter-widgets/base",
            "_view_module_version": "1.2.0",
            "_view_name": "LayoutView",
            "align_content": null,
            "align_items": null,
            "align_self": null,
            "border": null,
            "bottom": null,
            "display": null,
            "flex": null,
            "flex_flow": null,
            "grid_area": null,
            "grid_auto_columns": null,
            "grid_auto_flow": null,
            "grid_auto_rows": null,
            "grid_column": null,
            "grid_gap": null,
            "grid_row": null,
            "grid_template_areas": null,
            "grid_template_columns": null,
            "grid_template_rows": null,
            "height": null,
            "justify_content": null,
            "justify_items": null,
            "left": null,
            "margin": null,
            "max_height": null,
            "max_width": null,
            "min_height": null,
            "min_width": null,
            "object_fit": null,
            "object_position": null,
            "order": null,
            "overflow": null,
            "overflow_x": null,
            "overflow_y": null,
            "padding": null,
            "right": null,
            "top": null,
            "visibility": null,
            "width": null
          }
        },
        "d06e35d0bbec40d8853f5b2f664278ea": {
          "model_module": "@jupyter-widgets/controls",
          "model_name": "ProgressStyleModel",
          "model_module_version": "1.5.0",
          "state": {
            "_model_module": "@jupyter-widgets/controls",
            "_model_module_version": "1.5.0",
            "_model_name": "ProgressStyleModel",
            "_view_count": null,
            "_view_module": "@jupyter-widgets/base",
            "_view_module_version": "1.2.0",
            "_view_name": "StyleView",
            "bar_color": null,
            "description_width": ""
          }
        },
        "344d1a5b36aa4c99b5fff284576ee726": {
          "model_module": "@jupyter-widgets/base",
          "model_name": "LayoutModel",
          "model_module_version": "1.2.0",
          "state": {
            "_model_module": "@jupyter-widgets/base",
            "_model_module_version": "1.2.0",
            "_model_name": "LayoutModel",
            "_view_count": null,
            "_view_module": "@jupyter-widgets/base",
            "_view_module_version": "1.2.0",
            "_view_name": "LayoutView",
            "align_content": null,
            "align_items": null,
            "align_self": null,
            "border": null,
            "bottom": null,
            "display": null,
            "flex": null,
            "flex_flow": null,
            "grid_area": null,
            "grid_auto_columns": null,
            "grid_auto_flow": null,
            "grid_auto_rows": null,
            "grid_column": null,
            "grid_gap": null,
            "grid_row": null,
            "grid_template_areas": null,
            "grid_template_columns": null,
            "grid_template_rows": null,
            "height": null,
            "justify_content": null,
            "justify_items": null,
            "left": null,
            "margin": null,
            "max_height": null,
            "max_width": null,
            "min_height": null,
            "min_width": null,
            "object_fit": null,
            "object_position": null,
            "order": null,
            "overflow": null,
            "overflow_x": null,
            "overflow_y": null,
            "padding": null,
            "right": null,
            "top": null,
            "visibility": null,
            "width": null
          }
        },
        "2e548c133e1a48e298443dce01e898f9": {
          "model_module": "@jupyter-widgets/controls",
          "model_name": "DescriptionStyleModel",
          "model_module_version": "1.5.0",
          "state": {
            "_model_module": "@jupyter-widgets/controls",
            "_model_module_version": "1.5.0",
            "_model_name": "DescriptionStyleModel",
            "_view_count": null,
            "_view_module": "@jupyter-widgets/base",
            "_view_module_version": "1.2.0",
            "_view_name": "StyleView",
            "description_width": ""
          }
        },
        "7c3b65c739364107a007f30e0f2405c3": {
          "model_module": "@jupyter-widgets/controls",
          "model_name": "HBoxModel",
          "model_module_version": "1.5.0",
          "state": {
            "_dom_classes": [],
            "_model_module": "@jupyter-widgets/controls",
            "_model_module_version": "1.5.0",
            "_model_name": "HBoxModel",
            "_view_count": null,
            "_view_module": "@jupyter-widgets/controls",
            "_view_module_version": "1.5.0",
            "_view_name": "HBoxView",
            "box_style": "",
            "children": [
              "IPY_MODEL_9222b84e20bf4ce69dea3d87e41800b6",
              "IPY_MODEL_85b881a153c24020945b47e3467e6a61",
              "IPY_MODEL_375fb1924218458192b77e6e8000b040"
            ],
            "layout": "IPY_MODEL_14ba8a715555468b91d1080eee570631"
          }
        },
        "9222b84e20bf4ce69dea3d87e41800b6": {
          "model_module": "@jupyter-widgets/controls",
          "model_name": "HTMLModel",
          "model_module_version": "1.5.0",
          "state": {
            "_dom_classes": [],
            "_model_module": "@jupyter-widgets/controls",
            "_model_module_version": "1.5.0",
            "_model_name": "HTMLModel",
            "_view_count": null,
            "_view_module": "@jupyter-widgets/controls",
            "_view_module_version": "1.5.0",
            "_view_name": "HTMLView",
            "description": "",
            "description_tooltip": null,
            "layout": "IPY_MODEL_3a8b4719d07d44a29af8d7ad23856059",
            "placeholder": "​",
            "style": "IPY_MODEL_5f992092f8844965a40ed3ca2addac93",
            "value": "100%"
          }
        },
        "85b881a153c24020945b47e3467e6a61": {
          "model_module": "@jupyter-widgets/controls",
          "model_name": "FloatProgressModel",
          "model_module_version": "1.5.0",
          "state": {
            "_dom_classes": [],
            "_model_module": "@jupyter-widgets/controls",
            "_model_module_version": "1.5.0",
            "_model_name": "FloatProgressModel",
            "_view_count": null,
            "_view_module": "@jupyter-widgets/controls",
            "_view_module_version": "1.5.0",
            "_view_name": "ProgressView",
            "bar_style": "success",
            "description": "",
            "description_tooltip": null,
            "layout": "IPY_MODEL_f3a719c2f6394dc2aceccbac8950e521",
            "max": 1648877,
            "min": 0,
            "orientation": "horizontal",
            "style": "IPY_MODEL_2be29cf313f2449cb474d40e5a93f5fb",
            "value": 1648877
          }
        },
        "375fb1924218458192b77e6e8000b040": {
          "model_module": "@jupyter-widgets/controls",
          "model_name": "HTMLModel",
          "model_module_version": "1.5.0",
          "state": {
            "_dom_classes": [],
            "_model_module": "@jupyter-widgets/controls",
            "_model_module_version": "1.5.0",
            "_model_name": "HTMLModel",
            "_view_count": null,
            "_view_module": "@jupyter-widgets/controls",
            "_view_module_version": "1.5.0",
            "_view_name": "HTMLView",
            "description": "",
            "description_tooltip": null,
            "layout": "IPY_MODEL_6f8584ba8d9c4258a9791eff0a567d90",
            "placeholder": "​",
            "style": "IPY_MODEL_07e18a6407b942759071bad451f9245f",
            "value": " 1648877/1648877 [00:00&lt;00:00, 42023755.08it/s]"
          }
        },
        "14ba8a715555468b91d1080eee570631": {
          "model_module": "@jupyter-widgets/base",
          "model_name": "LayoutModel",
          "model_module_version": "1.2.0",
          "state": {
            "_model_module": "@jupyter-widgets/base",
            "_model_module_version": "1.2.0",
            "_model_name": "LayoutModel",
            "_view_count": null,
            "_view_module": "@jupyter-widgets/base",
            "_view_module_version": "1.2.0",
            "_view_name": "LayoutView",
            "align_content": null,
            "align_items": null,
            "align_self": null,
            "border": null,
            "bottom": null,
            "display": null,
            "flex": null,
            "flex_flow": null,
            "grid_area": null,
            "grid_auto_columns": null,
            "grid_auto_flow": null,
            "grid_auto_rows": null,
            "grid_column": null,
            "grid_gap": null,
            "grid_row": null,
            "grid_template_areas": null,
            "grid_template_columns": null,
            "grid_template_rows": null,
            "height": null,
            "justify_content": null,
            "justify_items": null,
            "left": null,
            "margin": null,
            "max_height": null,
            "max_width": null,
            "min_height": null,
            "min_width": null,
            "object_fit": null,
            "object_position": null,
            "order": null,
            "overflow": null,
            "overflow_x": null,
            "overflow_y": null,
            "padding": null,
            "right": null,
            "top": null,
            "visibility": null,
            "width": null
          }
        },
        "3a8b4719d07d44a29af8d7ad23856059": {
          "model_module": "@jupyter-widgets/base",
          "model_name": "LayoutModel",
          "model_module_version": "1.2.0",
          "state": {
            "_model_module": "@jupyter-widgets/base",
            "_model_module_version": "1.2.0",
            "_model_name": "LayoutModel",
            "_view_count": null,
            "_view_module": "@jupyter-widgets/base",
            "_view_module_version": "1.2.0",
            "_view_name": "LayoutView",
            "align_content": null,
            "align_items": null,
            "align_self": null,
            "border": null,
            "bottom": null,
            "display": null,
            "flex": null,
            "flex_flow": null,
            "grid_area": null,
            "grid_auto_columns": null,
            "grid_auto_flow": null,
            "grid_auto_rows": null,
            "grid_column": null,
            "grid_gap": null,
            "grid_row": null,
            "grid_template_areas": null,
            "grid_template_columns": null,
            "grid_template_rows": null,
            "height": null,
            "justify_content": null,
            "justify_items": null,
            "left": null,
            "margin": null,
            "max_height": null,
            "max_width": null,
            "min_height": null,
            "min_width": null,
            "object_fit": null,
            "object_position": null,
            "order": null,
            "overflow": null,
            "overflow_x": null,
            "overflow_y": null,
            "padding": null,
            "right": null,
            "top": null,
            "visibility": null,
            "width": null
          }
        },
        "5f992092f8844965a40ed3ca2addac93": {
          "model_module": "@jupyter-widgets/controls",
          "model_name": "DescriptionStyleModel",
          "model_module_version": "1.5.0",
          "state": {
            "_model_module": "@jupyter-widgets/controls",
            "_model_module_version": "1.5.0",
            "_model_name": "DescriptionStyleModel",
            "_view_count": null,
            "_view_module": "@jupyter-widgets/base",
            "_view_module_version": "1.2.0",
            "_view_name": "StyleView",
            "description_width": ""
          }
        },
        "f3a719c2f6394dc2aceccbac8950e521": {
          "model_module": "@jupyter-widgets/base",
          "model_name": "LayoutModel",
          "model_module_version": "1.2.0",
          "state": {
            "_model_module": "@jupyter-widgets/base",
            "_model_module_version": "1.2.0",
            "_model_name": "LayoutModel",
            "_view_count": null,
            "_view_module": "@jupyter-widgets/base",
            "_view_module_version": "1.2.0",
            "_view_name": "LayoutView",
            "align_content": null,
            "align_items": null,
            "align_self": null,
            "border": null,
            "bottom": null,
            "display": null,
            "flex": null,
            "flex_flow": null,
            "grid_area": null,
            "grid_auto_columns": null,
            "grid_auto_flow": null,
            "grid_auto_rows": null,
            "grid_column": null,
            "grid_gap": null,
            "grid_row": null,
            "grid_template_areas": null,
            "grid_template_columns": null,
            "grid_template_rows": null,
            "height": null,
            "justify_content": null,
            "justify_items": null,
            "left": null,
            "margin": null,
            "max_height": null,
            "max_width": null,
            "min_height": null,
            "min_width": null,
            "object_fit": null,
            "object_position": null,
            "order": null,
            "overflow": null,
            "overflow_x": null,
            "overflow_y": null,
            "padding": null,
            "right": null,
            "top": null,
            "visibility": null,
            "width": null
          }
        },
        "2be29cf313f2449cb474d40e5a93f5fb": {
          "model_module": "@jupyter-widgets/controls",
          "model_name": "ProgressStyleModel",
          "model_module_version": "1.5.0",
          "state": {
            "_model_module": "@jupyter-widgets/controls",
            "_model_module_version": "1.5.0",
            "_model_name": "ProgressStyleModel",
            "_view_count": null,
            "_view_module": "@jupyter-widgets/base",
            "_view_module_version": "1.2.0",
            "_view_name": "StyleView",
            "bar_color": null,
            "description_width": ""
          }
        },
        "6f8584ba8d9c4258a9791eff0a567d90": {
          "model_module": "@jupyter-widgets/base",
          "model_name": "LayoutModel",
          "model_module_version": "1.2.0",
          "state": {
            "_model_module": "@jupyter-widgets/base",
            "_model_module_version": "1.2.0",
            "_model_name": "LayoutModel",
            "_view_count": null,
            "_view_module": "@jupyter-widgets/base",
            "_view_module_version": "1.2.0",
            "_view_name": "LayoutView",
            "align_content": null,
            "align_items": null,
            "align_self": null,
            "border": null,
            "bottom": null,
            "display": null,
            "flex": null,
            "flex_flow": null,
            "grid_area": null,
            "grid_auto_columns": null,
            "grid_auto_flow": null,
            "grid_auto_rows": null,
            "grid_column": null,
            "grid_gap": null,
            "grid_row": null,
            "grid_template_areas": null,
            "grid_template_columns": null,
            "grid_template_rows": null,
            "height": null,
            "justify_content": null,
            "justify_items": null,
            "left": null,
            "margin": null,
            "max_height": null,
            "max_width": null,
            "min_height": null,
            "min_width": null,
            "object_fit": null,
            "object_position": null,
            "order": null,
            "overflow": null,
            "overflow_x": null,
            "overflow_y": null,
            "padding": null,
            "right": null,
            "top": null,
            "visibility": null,
            "width": null
          }
        },
        "07e18a6407b942759071bad451f9245f": {
          "model_module": "@jupyter-widgets/controls",
          "model_name": "DescriptionStyleModel",
          "model_module_version": "1.5.0",
          "state": {
            "_model_module": "@jupyter-widgets/controls",
            "_model_module_version": "1.5.0",
            "_model_name": "DescriptionStyleModel",
            "_view_count": null,
            "_view_module": "@jupyter-widgets/base",
            "_view_module_version": "1.2.0",
            "_view_name": "StyleView",
            "description_width": ""
          }
        },
        "676adce68f2b4c59b391eebbb8e3a2d6": {
          "model_module": "@jupyter-widgets/controls",
          "model_name": "HBoxModel",
          "model_module_version": "1.5.0",
          "state": {
            "_dom_classes": [],
            "_model_module": "@jupyter-widgets/controls",
            "_model_module_version": "1.5.0",
            "_model_name": "HBoxModel",
            "_view_count": null,
            "_view_module": "@jupyter-widgets/controls",
            "_view_module_version": "1.5.0",
            "_view_name": "HBoxView",
            "box_style": "",
            "children": [
              "IPY_MODEL_cc7bca200b1d48d7bb1af2722f2006b8",
              "IPY_MODEL_3b6dd160b57945cda5f5915f28d94526",
              "IPY_MODEL_97260c6ca1c846d0b0557bb049f61e4c"
            ],
            "layout": "IPY_MODEL_7f9f95cc0ddb46e3ad23a73bc352ea9b"
          }
        },
        "cc7bca200b1d48d7bb1af2722f2006b8": {
          "model_module": "@jupyter-widgets/controls",
          "model_name": "HTMLModel",
          "model_module_version": "1.5.0",
          "state": {
            "_dom_classes": [],
            "_model_module": "@jupyter-widgets/controls",
            "_model_module_version": "1.5.0",
            "_model_name": "HTMLModel",
            "_view_count": null,
            "_view_module": "@jupyter-widgets/controls",
            "_view_module_version": "1.5.0",
            "_view_name": "HTMLView",
            "description": "",
            "description_tooltip": null,
            "layout": "IPY_MODEL_245ffd299ef44c2fb5959394845295f6",
            "placeholder": "​",
            "style": "IPY_MODEL_ac2ec04221ac46109216c35d721e8011",
            "value": "100%"
          }
        },
        "3b6dd160b57945cda5f5915f28d94526": {
          "model_module": "@jupyter-widgets/controls",
          "model_name": "FloatProgressModel",
          "model_module_version": "1.5.0",
          "state": {
            "_dom_classes": [],
            "_model_module": "@jupyter-widgets/controls",
            "_model_module_version": "1.5.0",
            "_model_name": "FloatProgressModel",
            "_view_count": null,
            "_view_module": "@jupyter-widgets/controls",
            "_view_module_version": "1.5.0",
            "_view_name": "ProgressView",
            "bar_style": "success",
            "description": "",
            "description_tooltip": null,
            "layout": "IPY_MODEL_c4e89e9e9b4a488a85d09d9bc248e3d7",
            "max": 4542,
            "min": 0,
            "orientation": "horizontal",
            "style": "IPY_MODEL_c52a4b9278a54489916fb481b7d3ef52",
            "value": 4542
          }
        },
        "97260c6ca1c846d0b0557bb049f61e4c": {
          "model_module": "@jupyter-widgets/controls",
          "model_name": "HTMLModel",
          "model_module_version": "1.5.0",
          "state": {
            "_dom_classes": [],
            "_model_module": "@jupyter-widgets/controls",
            "_model_module_version": "1.5.0",
            "_model_name": "HTMLModel",
            "_view_count": null,
            "_view_module": "@jupyter-widgets/controls",
            "_view_module_version": "1.5.0",
            "_view_name": "HTMLView",
            "description": "",
            "description_tooltip": null,
            "layout": "IPY_MODEL_9ada54179a924b5ab30e38cda0c99e52",
            "placeholder": "​",
            "style": "IPY_MODEL_b7a2312f57f44d8aa24b56baf0183853",
            "value": " 4542/4542 [00:00&lt;00:00, 285418.28it/s]"
          }
        },
        "7f9f95cc0ddb46e3ad23a73bc352ea9b": {
          "model_module": "@jupyter-widgets/base",
          "model_name": "LayoutModel",
          "model_module_version": "1.2.0",
          "state": {
            "_model_module": "@jupyter-widgets/base",
            "_model_module_version": "1.2.0",
            "_model_name": "LayoutModel",
            "_view_count": null,
            "_view_module": "@jupyter-widgets/base",
            "_view_module_version": "1.2.0",
            "_view_name": "LayoutView",
            "align_content": null,
            "align_items": null,
            "align_self": null,
            "border": null,
            "bottom": null,
            "display": null,
            "flex": null,
            "flex_flow": null,
            "grid_area": null,
            "grid_auto_columns": null,
            "grid_auto_flow": null,
            "grid_auto_rows": null,
            "grid_column": null,
            "grid_gap": null,
            "grid_row": null,
            "grid_template_areas": null,
            "grid_template_columns": null,
            "grid_template_rows": null,
            "height": null,
            "justify_content": null,
            "justify_items": null,
            "left": null,
            "margin": null,
            "max_height": null,
            "max_width": null,
            "min_height": null,
            "min_width": null,
            "object_fit": null,
            "object_position": null,
            "order": null,
            "overflow": null,
            "overflow_x": null,
            "overflow_y": null,
            "padding": null,
            "right": null,
            "top": null,
            "visibility": null,
            "width": null
          }
        },
        "245ffd299ef44c2fb5959394845295f6": {
          "model_module": "@jupyter-widgets/base",
          "model_name": "LayoutModel",
          "model_module_version": "1.2.0",
          "state": {
            "_model_module": "@jupyter-widgets/base",
            "_model_module_version": "1.2.0",
            "_model_name": "LayoutModel",
            "_view_count": null,
            "_view_module": "@jupyter-widgets/base",
            "_view_module_version": "1.2.0",
            "_view_name": "LayoutView",
            "align_content": null,
            "align_items": null,
            "align_self": null,
            "border": null,
            "bottom": null,
            "display": null,
            "flex": null,
            "flex_flow": null,
            "grid_area": null,
            "grid_auto_columns": null,
            "grid_auto_flow": null,
            "grid_auto_rows": null,
            "grid_column": null,
            "grid_gap": null,
            "grid_row": null,
            "grid_template_areas": null,
            "grid_template_columns": null,
            "grid_template_rows": null,
            "height": null,
            "justify_content": null,
            "justify_items": null,
            "left": null,
            "margin": null,
            "max_height": null,
            "max_width": null,
            "min_height": null,
            "min_width": null,
            "object_fit": null,
            "object_position": null,
            "order": null,
            "overflow": null,
            "overflow_x": null,
            "overflow_y": null,
            "padding": null,
            "right": null,
            "top": null,
            "visibility": null,
            "width": null
          }
        },
        "ac2ec04221ac46109216c35d721e8011": {
          "model_module": "@jupyter-widgets/controls",
          "model_name": "DescriptionStyleModel",
          "model_module_version": "1.5.0",
          "state": {
            "_model_module": "@jupyter-widgets/controls",
            "_model_module_version": "1.5.0",
            "_model_name": "DescriptionStyleModel",
            "_view_count": null,
            "_view_module": "@jupyter-widgets/base",
            "_view_module_version": "1.2.0",
            "_view_name": "StyleView",
            "description_width": ""
          }
        },
        "c4e89e9e9b4a488a85d09d9bc248e3d7": {
          "model_module": "@jupyter-widgets/base",
          "model_name": "LayoutModel",
          "model_module_version": "1.2.0",
          "state": {
            "_model_module": "@jupyter-widgets/base",
            "_model_module_version": "1.2.0",
            "_model_name": "LayoutModel",
            "_view_count": null,
            "_view_module": "@jupyter-widgets/base",
            "_view_module_version": "1.2.0",
            "_view_name": "LayoutView",
            "align_content": null,
            "align_items": null,
            "align_self": null,
            "border": null,
            "bottom": null,
            "display": null,
            "flex": null,
            "flex_flow": null,
            "grid_area": null,
            "grid_auto_columns": null,
            "grid_auto_flow": null,
            "grid_auto_rows": null,
            "grid_column": null,
            "grid_gap": null,
            "grid_row": null,
            "grid_template_areas": null,
            "grid_template_columns": null,
            "grid_template_rows": null,
            "height": null,
            "justify_content": null,
            "justify_items": null,
            "left": null,
            "margin": null,
            "max_height": null,
            "max_width": null,
            "min_height": null,
            "min_width": null,
            "object_fit": null,
            "object_position": null,
            "order": null,
            "overflow": null,
            "overflow_x": null,
            "overflow_y": null,
            "padding": null,
            "right": null,
            "top": null,
            "visibility": null,
            "width": null
          }
        },
        "c52a4b9278a54489916fb481b7d3ef52": {
          "model_module": "@jupyter-widgets/controls",
          "model_name": "ProgressStyleModel",
          "model_module_version": "1.5.0",
          "state": {
            "_model_module": "@jupyter-widgets/controls",
            "_model_module_version": "1.5.0",
            "_model_name": "ProgressStyleModel",
            "_view_count": null,
            "_view_module": "@jupyter-widgets/base",
            "_view_module_version": "1.2.0",
            "_view_name": "StyleView",
            "bar_color": null,
            "description_width": ""
          }
        },
        "9ada54179a924b5ab30e38cda0c99e52": {
          "model_module": "@jupyter-widgets/base",
          "model_name": "LayoutModel",
          "model_module_version": "1.2.0",
          "state": {
            "_model_module": "@jupyter-widgets/base",
            "_model_module_version": "1.2.0",
            "_model_name": "LayoutModel",
            "_view_count": null,
            "_view_module": "@jupyter-widgets/base",
            "_view_module_version": "1.2.0",
            "_view_name": "LayoutView",
            "align_content": null,
            "align_items": null,
            "align_self": null,
            "border": null,
            "bottom": null,
            "display": null,
            "flex": null,
            "flex_flow": null,
            "grid_area": null,
            "grid_auto_columns": null,
            "grid_auto_flow": null,
            "grid_auto_rows": null,
            "grid_column": null,
            "grid_gap": null,
            "grid_row": null,
            "grid_template_areas": null,
            "grid_template_columns": null,
            "grid_template_rows": null,
            "height": null,
            "justify_content": null,
            "justify_items": null,
            "left": null,
            "margin": null,
            "max_height": null,
            "max_width": null,
            "min_height": null,
            "min_width": null,
            "object_fit": null,
            "object_position": null,
            "order": null,
            "overflow": null,
            "overflow_x": null,
            "overflow_y": null,
            "padding": null,
            "right": null,
            "top": null,
            "visibility": null,
            "width": null
          }
        },
        "b7a2312f57f44d8aa24b56baf0183853": {
          "model_module": "@jupyter-widgets/controls",
          "model_name": "DescriptionStyleModel",
          "model_module_version": "1.5.0",
          "state": {
            "_model_module": "@jupyter-widgets/controls",
            "_model_module_version": "1.5.0",
            "_model_name": "DescriptionStyleModel",
            "_view_count": null,
            "_view_module": "@jupyter-widgets/base",
            "_view_module_version": "1.2.0",
            "_view_name": "StyleView",
            "description_width": ""
          }
        }
      }
    }
  },
  "cells": [
    {
      "cell_type": "markdown",
      "source": [
        "# 1) Import Libraries "
      ],
      "metadata": {
        "id": "6GXg4zrb_0dF"
      }
    },
    {
      "cell_type": "code",
      "source": [
        "import torch \n",
        "import torchvision\n",
        "import torchvision.transforms as transforms \n",
        "import torch.optim as optim \n",
        "import torch.nn as nn \n",
        "\n",
        "import time "
      ],
      "metadata": {
        "id": "pWrXsk7a_3l7"
      },
      "execution_count": 1,
      "outputs": []
    },
    {
      "cell_type": "markdown",
      "source": [
        "## Check if using GPU "
      ],
      "metadata": {
        "id": "73oEPP1bAMVt"
      }
    },
    {
      "cell_type": "code",
      "source": [
        "print('GPU AVAILABLE: {}'.format(torch.cuda.is_available()))"
      ],
      "metadata": {
        "colab": {
          "base_uri": "https://localhost:8080/"
        },
        "id": "ZG3PoqALAKl6",
        "outputId": "2933a60d-4717-4d94-d3b7-937188fd1fcf"
      },
      "execution_count": 2,
      "outputs": [
        {
          "output_type": "stream",
          "name": "stdout",
          "text": [
            "GPU AVAILABLE: True\n"
          ]
        }
      ]
    },
    {
      "cell_type": "code",
      "source": [
        "if torch.cuda.is_available():\n",
        "  device = 'cuda'\n",
        "else:\n",
        "  device = 'cpu'"
      ],
      "metadata": {
        "id": "bfW-p4LJAeAq"
      },
      "execution_count": 3,
      "outputs": []
    },
    {
      "cell_type": "markdown",
      "source": [
        "# 2) Loading Dataset"
      ],
      "metadata": {
        "id": "mFj8SW080Gdi"
      }
    },
    {
      "cell_type": "code",
      "source": [
        "#Transform to a pytorch tensors and normalize our values between -1 and 1\n",
        "transform = transforms.Compose([transforms.ToTensor(),\n",
        "                                transforms.Normalize((0.5), (0.5))])"
      ],
      "metadata": {
        "id": "pDlbq5YCBVJr"
      },
      "execution_count": 4,
      "outputs": []
    },
    {
      "cell_type": "code",
      "source": [
        "#Load our training data and specify what transform to use when loading \n",
        "train_set = torchvision.datasets.MNIST('mnist',\n",
        "                                       train = True,\n",
        "                                       download = True, \n",
        "                                       transform = transform)\n",
        "\n",
        "#Load our test data and specify what transform to use when loading \n",
        "test_set = torchvision.datasets.MNIST('mnist',\n",
        "                                     train = False, \n",
        "                                     download = True,\n",
        "                                     transform = transform)"
      ],
      "metadata": {
        "colab": {
          "base_uri": "https://localhost:8080/",
          "height": 471,
          "referenced_widgets": [
            "001a36ead26441e6a64bad89fbff62e4",
            "a06205a7c8c844b48a06105c02310e87",
            "bbb35bdfd7b440049ac5019b81321993",
            "c25cc7fa18d34be79ff1fcd99bbca78a",
            "4eb3768f6a5b44d38cb4fd8a6ba57b82",
            "2d6ede99d4e7466b8106dd6406c02f73",
            "fe20d651893c4e93ab1742c4d0992a41",
            "e8c3e7d6e41640ecbb043ce0cb4238f7",
            "ec422356b58047b387654ea844f6beaf",
            "734806486df24ebcbe5aba15d1243aa0",
            "de8005c5382340c1a1271bec52e7146e",
            "7f7f2c6c6d604caca53133c8c339bd85",
            "57aa21f8d4594c8ab5e57e2cb9a94928",
            "140a7bb6992c4d4dbb1d4c3dcc379113",
            "9ee6374e9c73491795c2663cbdca1f8b",
            "c99771a7519a40a98d2d47a513005a38",
            "f52e7b625db743e78050a4caf0aaae87",
            "1193a6a1170043eda4cf7ecb8b4f16de",
            "0af25a18f7b84d5b82187508fa4ece11",
            "d06e35d0bbec40d8853f5b2f664278ea",
            "344d1a5b36aa4c99b5fff284576ee726",
            "2e548c133e1a48e298443dce01e898f9",
            "7c3b65c739364107a007f30e0f2405c3",
            "9222b84e20bf4ce69dea3d87e41800b6",
            "85b881a153c24020945b47e3467e6a61",
            "375fb1924218458192b77e6e8000b040",
            "14ba8a715555468b91d1080eee570631",
            "3a8b4719d07d44a29af8d7ad23856059",
            "5f992092f8844965a40ed3ca2addac93",
            "f3a719c2f6394dc2aceccbac8950e521",
            "2be29cf313f2449cb474d40e5a93f5fb",
            "6f8584ba8d9c4258a9791eff0a567d90",
            "07e18a6407b942759071bad451f9245f",
            "676adce68f2b4c59b391eebbb8e3a2d6",
            "cc7bca200b1d48d7bb1af2722f2006b8",
            "3b6dd160b57945cda5f5915f28d94526",
            "97260c6ca1c846d0b0557bb049f61e4c",
            "7f9f95cc0ddb46e3ad23a73bc352ea9b",
            "245ffd299ef44c2fb5959394845295f6",
            "ac2ec04221ac46109216c35d721e8011",
            "c4e89e9e9b4a488a85d09d9bc248e3d7",
            "c52a4b9278a54489916fb481b7d3ef52",
            "9ada54179a924b5ab30e38cda0c99e52",
            "b7a2312f57f44d8aa24b56baf0183853"
          ]
        },
        "id": "lGDjgFevCWBL",
        "outputId": "0b4eab24-2338-4394-d432-9b4e07858336"
      },
      "execution_count": 5,
      "outputs": [
        {
          "output_type": "stream",
          "name": "stdout",
          "text": [
            "Downloading http://yann.lecun.com/exdb/mnist/train-images-idx3-ubyte.gz\n",
            "Downloading http://yann.lecun.com/exdb/mnist/train-images-idx3-ubyte.gz to mnist/MNIST/raw/train-images-idx3-ubyte.gz\n"
          ]
        },
        {
          "output_type": "display_data",
          "data": {
            "text/plain": [
              "  0%|          | 0/9912422 [00:00<?, ?it/s]"
            ],
            "application/vnd.jupyter.widget-view+json": {
              "version_major": 2,
              "version_minor": 0,
              "model_id": "001a36ead26441e6a64bad89fbff62e4"
            }
          },
          "metadata": {}
        },
        {
          "output_type": "stream",
          "name": "stdout",
          "text": [
            "Extracting mnist/MNIST/raw/train-images-idx3-ubyte.gz to mnist/MNIST/raw\n",
            "\n",
            "Downloading http://yann.lecun.com/exdb/mnist/train-labels-idx1-ubyte.gz\n",
            "Downloading http://yann.lecun.com/exdb/mnist/train-labels-idx1-ubyte.gz to mnist/MNIST/raw/train-labels-idx1-ubyte.gz\n"
          ]
        },
        {
          "output_type": "display_data",
          "data": {
            "text/plain": [
              "  0%|          | 0/28881 [00:00<?, ?it/s]"
            ],
            "application/vnd.jupyter.widget-view+json": {
              "version_major": 2,
              "version_minor": 0,
              "model_id": "7f7f2c6c6d604caca53133c8c339bd85"
            }
          },
          "metadata": {}
        },
        {
          "output_type": "stream",
          "name": "stdout",
          "text": [
            "Extracting mnist/MNIST/raw/train-labels-idx1-ubyte.gz to mnist/MNIST/raw\n",
            "\n",
            "Downloading http://yann.lecun.com/exdb/mnist/t10k-images-idx3-ubyte.gz\n",
            "Downloading http://yann.lecun.com/exdb/mnist/t10k-images-idx3-ubyte.gz to mnist/MNIST/raw/t10k-images-idx3-ubyte.gz\n"
          ]
        },
        {
          "output_type": "display_data",
          "data": {
            "text/plain": [
              "  0%|          | 0/1648877 [00:00<?, ?it/s]"
            ],
            "application/vnd.jupyter.widget-view+json": {
              "version_major": 2,
              "version_minor": 0,
              "model_id": "7c3b65c739364107a007f30e0f2405c3"
            }
          },
          "metadata": {}
        },
        {
          "output_type": "stream",
          "name": "stdout",
          "text": [
            "Extracting mnist/MNIST/raw/t10k-images-idx3-ubyte.gz to mnist/MNIST/raw\n",
            "\n",
            "Downloading http://yann.lecun.com/exdb/mnist/t10k-labels-idx1-ubyte.gz\n",
            "Downloading http://yann.lecun.com/exdb/mnist/t10k-labels-idx1-ubyte.gz to mnist/MNIST/raw/t10k-labels-idx1-ubyte.gz\n"
          ]
        },
        {
          "output_type": "display_data",
          "data": {
            "text/plain": [
              "  0%|          | 0/4542 [00:00<?, ?it/s]"
            ],
            "application/vnd.jupyter.widget-view+json": {
              "version_major": 2,
              "version_minor": 0,
              "model_id": "676adce68f2b4c59b391eebbb8e3a2d6"
            }
          },
          "metadata": {}
        },
        {
          "output_type": "stream",
          "name": "stdout",
          "text": [
            "Extracting mnist/MNIST/raw/t10k-labels-idx1-ubyte.gz to mnist/MNIST/raw\n",
            "\n"
          ]
        }
      ]
    },
    {
      "cell_type": "code",
      "source": [
        "print(train_set.data.shape)\n",
        "print(test_set.data.shape)"
      ],
      "metadata": {
        "colab": {
          "base_uri": "https://localhost:8080/"
        },
        "id": "j4mUv7qhDckW",
        "outputId": "c4b3995a-8191-4c01-bdc0-4c06d4e9ae0a"
      },
      "execution_count": 6,
      "outputs": [
        {
          "output_type": "stream",
          "name": "stdout",
          "text": [
            "torch.Size([60000, 28, 28])\n",
            "torch.Size([10000, 28, 28])\n"
          ]
        }
      ]
    },
    {
      "cell_type": "markdown",
      "source": [
        "# 3) Visualize Dataset"
      ],
      "metadata": {
        "id": "SccsNaWM0Kq2"
      }
    },
    {
      "cell_type": "code",
      "source": [
        "# Let's view the 50 first images of the MNIST training dataset\n",
        "import matplotlib.pyplot as plt\n",
        "\n",
        "figure = plt.figure()\n",
        "num_of_images = 50 \n",
        "\n",
        "for index in range(1, num_of_images + 1):\n",
        "    plt.subplot(5, 10, index)\n",
        "    plt.axis('off')\n",
        "    plt.imshow(train_set.data[index], cmap='gray_r')"
      ],
      "metadata": {
        "colab": {
          "base_uri": "https://localhost:8080/",
          "height": 239
        },
        "id": "9P19kTIBEabc",
        "outputId": "6e59cb0f-1839-4504-c380-c7929ca8b2e8"
      },
      "execution_count": 7,
      "outputs": [
        {
          "output_type": "display_data",
          "data": {
            "text/plain": [
              "<Figure size 432x288 with 50 Axes>"
            ],
            "image/png": "[encoded data removed]"
          },
          "metadata": {
            "needs_background": "light"
          }
        }
      ]
    },
    {
      "cell_type": "markdown",
      "source": [
        "# 4) Preprocessing "
      ],
      "metadata": {
        "id": "Rr2bpBbb0Umi"
      }
    },
    {
      "cell_type": "code",
      "source": [
        "trainLoader = torch.utils.data.DataLoader(train_set, \n",
        "                                           batch_size = 128,\n",
        "                                           shuffle = True, \n",
        "                                           num_workers = 0)\n",
        "\n",
        "testLoader = torch.utils.data.DataLoader(test_set, \n",
        "                                         batch_size = 128,\n",
        "                                         shuffle = False,\n",
        "                                         num_workers = 0)"
      ],
      "metadata": {
        "id": "wgZgDZBgG8Fl"
      },
      "execution_count": 8,
      "outputs": []
    },
    {
      "cell_type": "code",
      "source": [
        "#Using iter() and Next() for loading batches \n",
        "#We use the python function iter() to return an iterator for our train_loader object \n",
        "dataiter = iter(trainLoader)\n",
        "\n",
        "#we use next to get the fisrt batch of data from our iterator \n",
        "images, labels = next(dataiter)\n",
        "print(images.shape)\n",
        "print(labels.shape)"
      ],
      "metadata": {
        "colab": {
          "base_uri": "https://localhost:8080/"
        },
        "id": "YzMZmZ3XIqhy",
        "outputId": "1db1bb28-4800-4dce-ecc4-43a2e199139d"
      },
      "execution_count": 9,
      "outputs": [
        {
          "output_type": "stream",
          "name": "stdout",
          "text": [
            "torch.Size([128, 1, 28, 28])\n",
            "torch.Size([128])\n"
          ]
        }
      ]
    },
    {
      "cell_type": "code",
      "source": [
        "images[0].shape"
      ],
      "metadata": {
        "colab": {
          "base_uri": "https://localhost:8080/"
        },
        "id": "4qldJT1HJ-a3",
        "outputId": "368e08bf-5fb0-4d10-9b69-7a0ca58aebb3"
      },
      "execution_count": 10,
      "outputs": [
        {
          "output_type": "execute_result",
          "data": {
            "text/plain": [
              "torch.Size([1, 28, 28])"
            ]
          },
          "metadata": {},
          "execution_count": 10
        }
      ]
    },
    {
      "cell_type": "code",
      "source": [
        "import matplotlib.pyplot as plt\n",
        "\n",
        "fig = plt.figure()\n",
        "for i in range(6):\n",
        "  plt.subplot(2,3,i+1)\n",
        "  plt.tight_layout()\n",
        "  plt.imshow(images[i][0], cmap='gray', interpolation='none')\n",
        "  plt.title(\"Ground Truth: {}\".format(labels[i]))\n",
        "  plt.xticks([])\n",
        "  plt.yticks([])\n",
        "fig"
      ],
      "metadata": {
        "colab": {
          "base_uri": "https://localhost:8080/",
          "height": 551
        },
        "id": "K-c2BZ30KmCJ",
        "outputId": "15a04da3-e08f-4867-806f-e22aa8634930"
      },
      "execution_count": 11,
      "outputs": [
        {
          "output_type": "execute_result",
          "data": {
            "text/plain": [
              "<Figure size 432x288 with 6 Axes>"
            ],
            "image/png": "[encoded data removed]"
          },
          "metadata": {},
          "execution_count": 11
        },
        {
          "output_type": "display_data",
          "data": {
            "text/plain": [
              "<Figure size 432x288 with 6 Axes>"
            ],
            "image/png": "[encoded data removed]"
          },
          "metadata": {}
        }
      ]
    },
    {
      "cell_type": "markdown",
      "source": [
        "# 5) Building Convolutional Neural Network"
      ],
      "metadata": {
        "id": "mBBj4a6K0dnd"
      }
    },
    {
      "cell_type": "code",
      "source": [
        "import torch.nn as nn\n",
        "import torch.nn.functional as F\n",
        "\n",
        "class Net(nn.Module):\n",
        "    def __init__(self):\n",
        "        super(Net, self).__init__()\n",
        "        self.conv1 = nn.Conv2d(1, 32, 3)\n",
        "        self.conv2 = nn.Conv2d(32, 64, 3)\n",
        "        self.pool = nn.MaxPool2d(2, 2)\n",
        "        self.fc1 = nn.Linear(64 * 12 * 12, 128)\n",
        "        self.fc2 = nn.Linear(128, 10)\n",
        "\n",
        "    def forward(self, x):\n",
        "        x = F.relu(self.conv1(x))\n",
        "        x = self.pool(F.relu(self.conv2(x)))\n",
        "        x = x.view(-1, 64 * 12 * 12)\n",
        "        x = F.relu(self.fc1(x))\n",
        "        x = self.fc2(x)\n",
        "        return x\n",
        "\n",
        "net = Net()\n",
        "net.to(device)"
      ],
      "metadata": {
        "colab": {
          "base_uri": "https://localhost:8080/"
        },
        "id": "oIOFpC9OLKmy",
        "outputId": "fb6e8954-0651-46e2-f581-c219e1ec3fff"
      },
      "execution_count": 12,
      "outputs": [
        {
          "output_type": "execute_result",
          "data": {
            "text/plain": [
              "Net(\n",
              "  (conv1): Conv2d(1, 32, kernel_size=(3, 3), stride=(1, 1))\n",
              "  (conv2): Conv2d(32, 64, kernel_size=(3, 3), stride=(1, 1))\n",
              "  (pool): MaxPool2d(kernel_size=2, stride=2, padding=0, dilation=1, ceil_mode=False)\n",
              "  (fc1): Linear(in_features=9216, out_features=128, bias=True)\n",
              "  (fc2): Linear(in_features=128, out_features=10, bias=True)\n",
              ")"
            ]
          },
          "metadata": {},
          "execution_count": 12
        }
      ]
    },
    {
      "cell_type": "code",
      "source": [
        "import torch.optim as optim\n",
        "\n",
        "#Loss Function \n",
        "criterion = nn.CrossEntropyLoss()\n",
        "\n",
        "optimizer = optim.SGD(net.parameters(), lr=0.001)"
      ],
      "metadata": {
        "id": "egIQt3tONRPG"
      },
      "execution_count": 13,
      "outputs": []
    },
    {
      "cell_type": "markdown",
      "source": [
        "# 6) Training The Model"
      ],
      "metadata": {
        "id": "8o7P0loc0kpk"
      }
    },
    {
      "cell_type": "code",
      "source": [
        "epochs = 25\n",
        "\n",
        "import time\n",
        "\n",
        "start = time.time()\n",
        "\n",
        "# Create some empty arrays to store logs \n",
        "epoch_log = []\n",
        "loss_log = []\n",
        "accuracy_log = []\n",
        "\n",
        "# Iterate for a specified number of epochs\n",
        "for epoch in range(epochs):  \n",
        "    print(f'Starting Epoch: {epoch+1}...')\n",
        "\n",
        "    # We keep adding or accumulating our loss after each mini-batch in running_loss\n",
        "    running_loss = 0.0\n",
        "\n",
        "    # We iterate through our trainloader iterator\n",
        "    # Each cycle is a minibatch\n",
        "    for i, data in enumerate(trainLoader, 0):\n",
        "        # get the inputs; data is a list of [inputs, labels]\n",
        "        inputs, labels = data\n",
        "\n",
        "        # Move our data to GPU\n",
        "        inputs = inputs.to(device)\n",
        "        labels = labels.to(device)\n",
        "\n",
        "        # Clear the gradients before training by setting to zero\n",
        "        # Required for a fresh start\n",
        "        optimizer.zero_grad()\n",
        "\n",
        "        # Forward -> backprop + optimize\n",
        "        outputs = net(inputs) # Forward Propagation \n",
        "        loss = criterion(outputs, labels) # Get Loss (quantify the difference between the results and predictions)\n",
        "        loss.backward() # Back propagate to obtain the new gradients for all nodes\n",
        "        optimizer.step() # Update the gradients/weights\n",
        "\n",
        "        # Print Training statistics - Epoch/Iterations/Loss/Accuracy\n",
        "        running_loss += loss.item()\n",
        "        if i % 50 == 49:    # show our loss every 50 mini-batches\n",
        "            correct = 0 # Initialize our variable to hold the count for the correct predictions\n",
        "            total = 0 # Initialize our variable to hold the count of the number of labels iterated\n",
        "\n",
        "            # We don't need gradients for validation, so wrap in \n",
        "            # no_grad to save memory\n",
        "            with torch.no_grad():\n",
        "                # Iterate through the testloader iterator\n",
        "                for data in testLoader:\n",
        "                    images, labels = data\n",
        "                    # Move our data to GPU\n",
        "                    images = images.to(device)\n",
        "                    labels = labels.to(device)\n",
        "                    \n",
        "                    # Foward propagate our test data batch through our model\n",
        "                    outputs = net(images)\n",
        "\n",
        "                     # Get predictions from the maximum value of the predicted output tensor\n",
        "                     # we set dim = 1 as it specifies the number of dimensions to reduce\n",
        "                    _, predicted = torch.max(outputs.data, dim = 1)\n",
        "                    # Keep adding the label size or length to the total variable\n",
        "                    total += labels.size(0)\n",
        "                    # Keep a running total of the number of predictions predicted correctly\n",
        "                    correct += (predicted == labels).sum().item()\n",
        "\n",
        "                accuracy = 100 * correct / total\n",
        "                epoch_num = epoch + 1\n",
        "                actual_loss = running_loss / 50\n",
        "                print(f'Epoch: {epoch_num}, Mini-Batches Completed: {(i+1)}, Loss: {actual_loss:.3f}, Test Accuracy = {accuracy:.3f}%')\n",
        "                running_loss = 0.0\n",
        "\n",
        "    # Store training stats after each epoch\n",
        "    epoch_log.append(epoch_num)\n",
        "    loss_log.append(actual_loss)\n",
        "    accuracy_log.append(accuracy)\n",
        "\n",
        "print('Finished Training')\n",
        "print(\"Total time: \", time.time() - start, \"seconds\") "
      ],
      "metadata": {
        "colab": {
          "base_uri": "https://localhost:8080/"
        },
        "id": "hdUey8YFrcbU",
        "outputId": "5a8fd3b3-8473-48e2-bd42-cb8005fedbf8"
      },
      "execution_count": 14,
      "outputs": [
        {
          "output_type": "stream",
          "name": "stdout",
          "text": [
            "Starting Epoch: 1...\n",
            "Epoch: 1, Mini-Batches Completed: 50, Loss: 2.303, Test Accuracy = 12.480%\n",
            "Epoch: 1, Mini-Batches Completed: 100, Loss: 2.291, Test Accuracy = 18.740%\n",
            "Epoch: 1, Mini-Batches Completed: 150, Loss: 2.282, Test Accuracy = 31.190%\n",
            "Epoch: 1, Mini-Batches Completed: 200, Loss: 2.271, Test Accuracy = 36.160%\n",
            "Epoch: 1, Mini-Batches Completed: 250, Loss: 2.262, Test Accuracy = 41.890%\n",
            "Epoch: 1, Mini-Batches Completed: 300, Loss: 2.251, Test Accuracy = 45.420%\n",
            "Epoch: 1, Mini-Batches Completed: 350, Loss: 2.239, Test Accuracy = 47.350%\n",
            "Epoch: 1, Mini-Batches Completed: 400, Loss: 2.225, Test Accuracy = 51.220%\n",
            "Epoch: 1, Mini-Batches Completed: 450, Loss: 2.211, Test Accuracy = 54.700%\n",
            "Starting Epoch: 2...\n",
            "Epoch: 2, Mini-Batches Completed: 50, Loss: 2.188, Test Accuracy = 61.070%\n",
            "Epoch: 2, Mini-Batches Completed: 100, Loss: 2.166, Test Accuracy = 62.760%\n",
            "Epoch: 2, Mini-Batches Completed: 150, Loss: 2.147, Test Accuracy = 63.510%\n",
            "Epoch: 2, Mini-Batches Completed: 200, Loss: 2.122, Test Accuracy = 67.190%\n",
            "Epoch: 2, Mini-Batches Completed: 250, Loss: 2.097, Test Accuracy = 69.500%\n",
            "Epoch: 2, Mini-Batches Completed: 300, Loss: 2.064, Test Accuracy = 70.080%\n",
            "Epoch: 2, Mini-Batches Completed: 350, Loss: 2.028, Test Accuracy = 70.050%\n",
            "Epoch: 2, Mini-Batches Completed: 400, Loss: 1.992, Test Accuracy = 71.050%\n",
            "Epoch: 2, Mini-Batches Completed: 450, Loss: 1.944, Test Accuracy = 72.800%\n",
            "Starting Epoch: 3...\n",
            "Epoch: 3, Mini-Batches Completed: 50, Loss: 1.875, Test Accuracy = 74.030%\n",
            "Epoch: 3, Mini-Batches Completed: 100, Loss: 1.811, Test Accuracy = 74.030%\n",
            "Epoch: 3, Mini-Batches Completed: 150, Loss: 1.745, Test Accuracy = 74.850%\n",
            "Epoch: 3, Mini-Batches Completed: 200, Loss: 1.679, Test Accuracy = 76.010%\n",
            "Epoch: 3, Mini-Batches Completed: 250, Loss: 1.605, Test Accuracy = 76.410%\n",
            "Epoch: 3, Mini-Batches Completed: 300, Loss: 1.509, Test Accuracy = 77.030%\n",
            "Epoch: 3, Mini-Batches Completed: 350, Loss: 1.426, Test Accuracy = 78.330%\n",
            "Epoch: 3, Mini-Batches Completed: 400, Loss: 1.337, Test Accuracy = 80.410%\n",
            "Epoch: 3, Mini-Batches Completed: 450, Loss: 1.260, Test Accuracy = 80.760%\n",
            "Starting Epoch: 4...\n",
            "Epoch: 4, Mini-Batches Completed: 50, Loss: 1.139, Test Accuracy = 80.860%\n",
            "Epoch: 4, Mini-Batches Completed: 100, Loss: 1.056, Test Accuracy = 81.290%\n",
            "Epoch: 4, Mini-Batches Completed: 150, Loss: 0.991, Test Accuracy = 83.420%\n",
            "Epoch: 4, Mini-Batches Completed: 200, Loss: 0.938, Test Accuracy = 83.520%\n",
            "Epoch: 4, Mini-Batches Completed: 250, Loss: 0.867, Test Accuracy = 84.230%\n",
            "Epoch: 4, Mini-Batches Completed: 300, Loss: 0.815, Test Accuracy = 84.280%\n",
            "Epoch: 4, Mini-Batches Completed: 350, Loss: 0.776, Test Accuracy = 84.220%\n",
            "Epoch: 4, Mini-Batches Completed: 400, Loss: 0.722, Test Accuracy = 84.980%\n",
            "Epoch: 4, Mini-Batches Completed: 450, Loss: 0.698, Test Accuracy = 85.080%\n",
            "Starting Epoch: 5...\n",
            "Epoch: 5, Mini-Batches Completed: 50, Loss: 0.656, Test Accuracy = 85.670%\n",
            "Epoch: 5, Mini-Batches Completed: 100, Loss: 0.621, Test Accuracy = 85.700%\n",
            "Epoch: 5, Mini-Batches Completed: 150, Loss: 0.604, Test Accuracy = 85.980%\n",
            "Epoch: 5, Mini-Batches Completed: 200, Loss: 0.587, Test Accuracy = 86.430%\n",
            "Epoch: 5, Mini-Batches Completed: 250, Loss: 0.572, Test Accuracy = 86.500%\n",
            "Epoch: 5, Mini-Batches Completed: 300, Loss: 0.558, Test Accuracy = 86.830%\n",
            "Epoch: 5, Mini-Batches Completed: 350, Loss: 0.532, Test Accuracy = 87.040%\n",
            "Epoch: 5, Mini-Batches Completed: 400, Loss: 0.530, Test Accuracy = 87.030%\n",
            "Epoch: 5, Mini-Batches Completed: 450, Loss: 0.518, Test Accuracy = 87.410%\n",
            "Starting Epoch: 6...\n",
            "Epoch: 6, Mini-Batches Completed: 50, Loss: 0.489, Test Accuracy = 87.670%\n",
            "Epoch: 6, Mini-Batches Completed: 100, Loss: 0.487, Test Accuracy = 87.840%\n",
            "Epoch: 6, Mini-Batches Completed: 150, Loss: 0.490, Test Accuracy = 87.610%\n",
            "Epoch: 6, Mini-Batches Completed: 200, Loss: 0.453, Test Accuracy = 88.270%\n",
            "Epoch: 6, Mini-Batches Completed: 250, Loss: 0.465, Test Accuracy = 88.040%\n",
            "Epoch: 6, Mini-Batches Completed: 300, Loss: 0.457, Test Accuracy = 88.430%\n",
            "Epoch: 6, Mini-Batches Completed: 350, Loss: 0.452, Test Accuracy = 88.660%\n",
            "Epoch: 6, Mini-Batches Completed: 400, Loss: 0.449, Test Accuracy = 88.610%\n",
            "Epoch: 6, Mini-Batches Completed: 450, Loss: 0.433, Test Accuracy = 88.560%\n",
            "Starting Epoch: 7...\n",
            "Epoch: 7, Mini-Batches Completed: 50, Loss: 0.412, Test Accuracy = 88.800%\n",
            "Epoch: 7, Mini-Batches Completed: 100, Loss: 0.451, Test Accuracy = 88.960%\n",
            "Epoch: 7, Mini-Batches Completed: 150, Loss: 0.410, Test Accuracy = 89.100%\n",
            "Epoch: 7, Mini-Batches Completed: 200, Loss: 0.418, Test Accuracy = 89.020%\n",
            "Epoch: 7, Mini-Batches Completed: 250, Loss: 0.412, Test Accuracy = 89.070%\n",
            "Epoch: 7, Mini-Batches Completed: 300, Loss: 0.396, Test Accuracy = 89.330%\n",
            "Epoch: 7, Mini-Batches Completed: 350, Loss: 0.404, Test Accuracy = 89.410%\n",
            "Epoch: 7, Mini-Batches Completed: 400, Loss: 0.393, Test Accuracy = 89.360%\n",
            "Epoch: 7, Mini-Batches Completed: 450, Loss: 0.388, Test Accuracy = 89.540%\n",
            "Starting Epoch: 8...\n",
            "Epoch: 8, Mini-Batches Completed: 50, Loss: 0.397, Test Accuracy = 89.570%\n",
            "Epoch: 8, Mini-Batches Completed: 100, Loss: 0.379, Test Accuracy = 89.670%\n",
            "Epoch: 8, Mini-Batches Completed: 150, Loss: 0.385, Test Accuracy = 89.870%\n",
            "Epoch: 8, Mini-Batches Completed: 200, Loss: 0.383, Test Accuracy = 89.790%\n",
            "Epoch: 8, Mini-Batches Completed: 250, Loss: 0.385, Test Accuracy = 89.860%\n",
            "Epoch: 8, Mini-Batches Completed: 300, Loss: 0.373, Test Accuracy = 89.770%\n",
            "Epoch: 8, Mini-Batches Completed: 350, Loss: 0.374, Test Accuracy = 89.870%\n",
            "Epoch: 8, Mini-Batches Completed: 400, Loss: 0.369, Test Accuracy = 90.020%\n",
            "Epoch: 8, Mini-Batches Completed: 450, Loss: 0.357, Test Accuracy = 90.110%\n",
            "Starting Epoch: 9...\n",
            "Epoch: 9, Mini-Batches Completed: 50, Loss: 0.372, Test Accuracy = 90.050%\n",
            "Epoch: 9, Mini-Batches Completed: 100, Loss: 0.354, Test Accuracy = 90.160%\n",
            "Epoch: 9, Mini-Batches Completed: 150, Loss: 0.366, Test Accuracy = 90.450%\n",
            "Epoch: 9, Mini-Batches Completed: 200, Loss: 0.339, Test Accuracy = 90.470%\n",
            "Epoch: 9, Mini-Batches Completed: 250, Loss: 0.366, Test Accuracy = 90.490%\n",
            "Epoch: 9, Mini-Batches Completed: 300, Loss: 0.358, Test Accuracy = 90.370%\n",
            "Epoch: 9, Mini-Batches Completed: 350, Loss: 0.367, Test Accuracy = 90.490%\n",
            "Epoch: 9, Mini-Batches Completed: 400, Loss: 0.325, Test Accuracy = 90.720%\n",
            "Epoch: 9, Mini-Batches Completed: 450, Loss: 0.344, Test Accuracy = 90.510%\n",
            "Starting Epoch: 10...\n",
            "Epoch: 10, Mini-Batches Completed: 50, Loss: 0.362, Test Accuracy = 90.720%\n",
            "Epoch: 10, Mini-Batches Completed: 100, Loss: 0.347, Test Accuracy = 90.800%\n",
            "Epoch: 10, Mini-Batches Completed: 150, Loss: 0.332, Test Accuracy = 90.920%\n",
            "Epoch: 10, Mini-Batches Completed: 200, Loss: 0.323, Test Accuracy = 90.750%\n",
            "Epoch: 10, Mini-Batches Completed: 250, Loss: 0.332, Test Accuracy = 90.850%\n",
            "Epoch: 10, Mini-Batches Completed: 300, Loss: 0.344, Test Accuracy = 90.960%\n",
            "Epoch: 10, Mini-Batches Completed: 350, Loss: 0.341, Test Accuracy = 90.960%\n",
            "Epoch: 10, Mini-Batches Completed: 400, Loss: 0.324, Test Accuracy = 91.100%\n",
            "Epoch: 10, Mini-Batches Completed: 450, Loss: 0.332, Test Accuracy = 91.010%\n",
            "Starting Epoch: 11...\n",
            "Epoch: 11, Mini-Batches Completed: 50, Loss: 0.342, Test Accuracy = 90.990%\n",
            "Epoch: 11, Mini-Batches Completed: 100, Loss: 0.333, Test Accuracy = 91.060%\n",
            "Epoch: 11, Mini-Batches Completed: 150, Loss: 0.331, Test Accuracy = 91.100%\n",
            "Epoch: 11, Mini-Batches Completed: 200, Loss: 0.317, Test Accuracy = 91.180%\n",
            "Epoch: 11, Mini-Batches Completed: 250, Loss: 0.320, Test Accuracy = 91.290%\n",
            "Epoch: 11, Mini-Batches Completed: 300, Loss: 0.332, Test Accuracy = 91.390%\n",
            "Epoch: 11, Mini-Batches Completed: 350, Loss: 0.313, Test Accuracy = 91.220%\n",
            "Epoch: 11, Mini-Batches Completed: 400, Loss: 0.321, Test Accuracy = 91.400%\n",
            "Epoch: 11, Mini-Batches Completed: 450, Loss: 0.305, Test Accuracy = 91.290%\n",
            "Starting Epoch: 12...\n",
            "Epoch: 12, Mini-Batches Completed: 50, Loss: 0.314, Test Accuracy = 91.450%\n",
            "Epoch: 12, Mini-Batches Completed: 100, Loss: 0.306, Test Accuracy = 91.490%\n",
            "Epoch: 12, Mini-Batches Completed: 150, Loss: 0.320, Test Accuracy = 91.390%\n",
            "Epoch: 12, Mini-Batches Completed: 200, Loss: 0.312, Test Accuracy = 91.440%\n",
            "Epoch: 12, Mini-Batches Completed: 250, Loss: 0.310, Test Accuracy = 91.560%\n",
            "Epoch: 12, Mini-Batches Completed: 300, Loss: 0.309, Test Accuracy = 91.580%\n",
            "Epoch: 12, Mini-Batches Completed: 350, Loss: 0.304, Test Accuracy = 91.560%\n",
            "Epoch: 12, Mini-Batches Completed: 400, Loss: 0.317, Test Accuracy = 91.600%\n",
            "Epoch: 12, Mini-Batches Completed: 450, Loss: 0.309, Test Accuracy = 91.660%\n",
            "Starting Epoch: 13...\n",
            "Epoch: 13, Mini-Batches Completed: 50, Loss: 0.313, Test Accuracy = 91.750%\n",
            "Epoch: 13, Mini-Batches Completed: 100, Loss: 0.292, Test Accuracy = 91.650%\n",
            "Epoch: 13, Mini-Batches Completed: 150, Loss: 0.319, Test Accuracy = 91.690%\n",
            "Epoch: 13, Mini-Batches Completed: 200, Loss: 0.287, Test Accuracy = 91.790%\n",
            "Epoch: 13, Mini-Batches Completed: 250, Loss: 0.301, Test Accuracy = 91.730%\n",
            "Epoch: 13, Mini-Batches Completed: 300, Loss: 0.283, Test Accuracy = 91.930%\n",
            "Epoch: 13, Mini-Batches Completed: 350, Loss: 0.306, Test Accuracy = 91.900%\n",
            "Epoch: 13, Mini-Batches Completed: 400, Loss: 0.286, Test Accuracy = 91.820%\n",
            "Epoch: 13, Mini-Batches Completed: 450, Loss: 0.306, Test Accuracy = 91.980%\n",
            "Starting Epoch: 14...\n",
            "Epoch: 14, Mini-Batches Completed: 50, Loss: 0.295, Test Accuracy = 92.050%\n",
            "Epoch: 14, Mini-Batches Completed: 100, Loss: 0.318, Test Accuracy = 92.060%\n",
            "Epoch: 14, Mini-Batches Completed: 150, Loss: 0.274, Test Accuracy = 91.960%\n",
            "Epoch: 14, Mini-Batches Completed: 200, Loss: 0.279, Test Accuracy = 92.090%\n",
            "Epoch: 14, Mini-Batches Completed: 250, Loss: 0.281, Test Accuracy = 92.020%\n",
            "Epoch: 14, Mini-Batches Completed: 300, Loss: 0.294, Test Accuracy = 92.130%\n",
            "Epoch: 14, Mini-Batches Completed: 350, Loss: 0.282, Test Accuracy = 92.000%\n",
            "Epoch: 14, Mini-Batches Completed: 400, Loss: 0.285, Test Accuracy = 92.160%\n",
            "Epoch: 14, Mini-Batches Completed: 450, Loss: 0.298, Test Accuracy = 92.250%\n",
            "Starting Epoch: 15...\n",
            "Epoch: 15, Mini-Batches Completed: 50, Loss: 0.273, Test Accuracy = 92.200%\n",
            "Epoch: 15, Mini-Batches Completed: 100, Loss: 0.290, Test Accuracy = 92.210%\n",
            "Epoch: 15, Mini-Batches Completed: 150, Loss: 0.283, Test Accuracy = 92.220%\n",
            "Epoch: 15, Mini-Batches Completed: 200, Loss: 0.295, Test Accuracy = 92.420%\n",
            "Epoch: 15, Mini-Batches Completed: 250, Loss: 0.286, Test Accuracy = 92.360%\n",
            "Epoch: 15, Mini-Batches Completed: 300, Loss: 0.280, Test Accuracy = 92.310%\n",
            "Epoch: 15, Mini-Batches Completed: 350, Loss: 0.269, Test Accuracy = 92.400%\n",
            "Epoch: 15, Mini-Batches Completed: 400, Loss: 0.278, Test Accuracy = 92.380%\n",
            "Epoch: 15, Mini-Batches Completed: 450, Loss: 0.267, Test Accuracy = 92.370%\n",
            "Starting Epoch: 16...\n",
            "Epoch: 16, Mini-Batches Completed: 50, Loss: 0.279, Test Accuracy = 92.400%\n",
            "Epoch: 16, Mini-Batches Completed: 100, Loss: 0.279, Test Accuracy = 92.550%\n",
            "Epoch: 16, Mini-Batches Completed: 150, Loss: 0.284, Test Accuracy = 92.490%\n",
            "Epoch: 16, Mini-Batches Completed: 200, Loss: 0.286, Test Accuracy = 92.560%\n",
            "Epoch: 16, Mini-Batches Completed: 250, Loss: 0.269, Test Accuracy = 92.610%\n",
            "Epoch: 16, Mini-Batches Completed: 300, Loss: 0.265, Test Accuracy = 92.690%\n",
            "Epoch: 16, Mini-Batches Completed: 350, Loss: 0.265, Test Accuracy = 92.740%\n",
            "Epoch: 16, Mini-Batches Completed: 400, Loss: 0.265, Test Accuracy = 92.650%\n",
            "Epoch: 16, Mini-Batches Completed: 450, Loss: 0.262, Test Accuracy = 92.660%\n",
            "Starting Epoch: 17...\n",
            "Epoch: 17, Mini-Batches Completed: 50, Loss: 0.257, Test Accuracy = 92.730%\n",
            "Epoch: 17, Mini-Batches Completed: 100, Loss: 0.261, Test Accuracy = 92.830%\n",
            "Epoch: 17, Mini-Batches Completed: 150, Loss: 0.266, Test Accuracy = 92.760%\n",
            "Epoch: 17, Mini-Batches Completed: 200, Loss: 0.267, Test Accuracy = 92.780%\n",
            "Epoch: 17, Mini-Batches Completed: 250, Loss: 0.275, Test Accuracy = 92.810%\n",
            "Epoch: 17, Mini-Batches Completed: 300, Loss: 0.262, Test Accuracy = 92.710%\n",
            "Epoch: 17, Mini-Batches Completed: 350, Loss: 0.253, Test Accuracy = 92.880%\n",
            "Epoch: 17, Mini-Batches Completed: 400, Loss: 0.261, Test Accuracy = 92.930%\n",
            "Epoch: 17, Mini-Batches Completed: 450, Loss: 0.276, Test Accuracy = 92.800%\n",
            "Starting Epoch: 18...\n",
            "Epoch: 18, Mini-Batches Completed: 50, Loss: 0.259, Test Accuracy = 92.990%\n",
            "Epoch: 18, Mini-Batches Completed: 100, Loss: 0.262, Test Accuracy = 92.960%\n",
            "Epoch: 18, Mini-Batches Completed: 150, Loss: 0.256, Test Accuracy = 93.010%\n",
            "Epoch: 18, Mini-Batches Completed: 200, Loss: 0.246, Test Accuracy = 93.080%\n",
            "Epoch: 18, Mini-Batches Completed: 250, Loss: 0.261, Test Accuracy = 93.150%\n",
            "Epoch: 18, Mini-Batches Completed: 300, Loss: 0.258, Test Accuracy = 93.020%\n",
            "Epoch: 18, Mini-Batches Completed: 350, Loss: 0.243, Test Accuracy = 93.050%\n",
            "Epoch: 18, Mini-Batches Completed: 400, Loss: 0.272, Test Accuracy = 93.170%\n",
            "Epoch: 18, Mini-Batches Completed: 450, Loss: 0.259, Test Accuracy = 93.110%\n",
            "Starting Epoch: 19...\n",
            "Epoch: 19, Mini-Batches Completed: 50, Loss: 0.242, Test Accuracy = 93.120%\n",
            "Epoch: 19, Mini-Batches Completed: 100, Loss: 0.252, Test Accuracy = 93.150%\n",
            "Epoch: 19, Mini-Batches Completed: 150, Loss: 0.258, Test Accuracy = 93.210%\n",
            "Epoch: 19, Mini-Batches Completed: 200, Loss: 0.239, Test Accuracy = 93.070%\n",
            "Epoch: 19, Mini-Batches Completed: 250, Loss: 0.243, Test Accuracy = 93.220%\n",
            "Epoch: 19, Mini-Batches Completed: 300, Loss: 0.239, Test Accuracy = 93.370%\n",
            "Epoch: 19, Mini-Batches Completed: 350, Loss: 0.253, Test Accuracy = 93.400%\n",
            "Epoch: 19, Mini-Batches Completed: 400, Loss: 0.252, Test Accuracy = 93.240%\n",
            "Epoch: 19, Mini-Batches Completed: 450, Loss: 0.262, Test Accuracy = 93.230%\n",
            "Starting Epoch: 20...\n",
            "Epoch: 20, Mini-Batches Completed: 50, Loss: 0.252, Test Accuracy = 93.470%\n",
            "Epoch: 20, Mini-Batches Completed: 100, Loss: 0.240, Test Accuracy = 93.400%\n",
            "Epoch: 20, Mini-Batches Completed: 150, Loss: 0.239, Test Accuracy = 93.460%\n",
            "Epoch: 20, Mini-Batches Completed: 200, Loss: 0.230, Test Accuracy = 93.490%\n",
            "Epoch: 20, Mini-Batches Completed: 250, Loss: 0.234, Test Accuracy = 93.390%\n",
            "Epoch: 20, Mini-Batches Completed: 300, Loss: 0.250, Test Accuracy = 93.480%\n",
            "Epoch: 20, Mini-Batches Completed: 350, Loss: 0.241, Test Accuracy = 93.450%\n",
            "Epoch: 20, Mini-Batches Completed: 400, Loss: 0.238, Test Accuracy = 93.650%\n",
            "Epoch: 20, Mini-Batches Completed: 450, Loss: 0.257, Test Accuracy = 93.560%\n",
            "Starting Epoch: 21...\n",
            "Epoch: 21, Mini-Batches Completed: 50, Loss: 0.237, Test Accuracy = 93.430%\n",
            "Epoch: 21, Mini-Batches Completed: 100, Loss: 0.230, Test Accuracy = 93.680%\n",
            "Epoch: 21, Mini-Batches Completed: 150, Loss: 0.243, Test Accuracy = 93.680%\n",
            "Epoch: 21, Mini-Batches Completed: 200, Loss: 0.250, Test Accuracy = 93.660%\n",
            "Epoch: 21, Mini-Batches Completed: 250, Loss: 0.224, Test Accuracy = 93.700%\n",
            "Epoch: 21, Mini-Batches Completed: 300, Loss: 0.225, Test Accuracy = 93.690%\n",
            "Epoch: 21, Mini-Batches Completed: 350, Loss: 0.246, Test Accuracy = 93.660%\n",
            "Epoch: 21, Mini-Batches Completed: 400, Loss: 0.230, Test Accuracy = 93.750%\n",
            "Epoch: 21, Mini-Batches Completed: 450, Loss: 0.229, Test Accuracy = 93.860%\n",
            "Starting Epoch: 22...\n",
            "Epoch: 22, Mini-Batches Completed: 50, Loss: 0.218, Test Accuracy = 93.750%\n",
            "Epoch: 22, Mini-Batches Completed: 100, Loss: 0.225, Test Accuracy = 93.760%\n",
            "Epoch: 22, Mini-Batches Completed: 150, Loss: 0.226, Test Accuracy = 93.550%\n",
            "Epoch: 22, Mini-Batches Completed: 200, Loss: 0.239, Test Accuracy = 93.710%\n",
            "Epoch: 22, Mini-Batches Completed: 250, Loss: 0.225, Test Accuracy = 93.820%\n",
            "Epoch: 22, Mini-Batches Completed: 300, Loss: 0.229, Test Accuracy = 93.860%\n",
            "Epoch: 22, Mini-Batches Completed: 350, Loss: 0.240, Test Accuracy = 93.600%\n",
            "Epoch: 22, Mini-Batches Completed: 400, Loss: 0.222, Test Accuracy = 93.850%\n",
            "Epoch: 22, Mini-Batches Completed: 450, Loss: 0.226, Test Accuracy = 93.920%\n",
            "Starting Epoch: 23...\n",
            "Epoch: 23, Mini-Batches Completed: 50, Loss: 0.215, Test Accuracy = 93.900%\n",
            "Epoch: 23, Mini-Batches Completed: 100, Loss: 0.228, Test Accuracy = 93.950%\n",
            "Epoch: 23, Mini-Batches Completed: 150, Loss: 0.221, Test Accuracy = 93.990%\n",
            "Epoch: 23, Mini-Batches Completed: 200, Loss: 0.228, Test Accuracy = 94.020%\n",
            "Epoch: 23, Mini-Batches Completed: 250, Loss: 0.223, Test Accuracy = 94.080%\n",
            "Epoch: 23, Mini-Batches Completed: 300, Loss: 0.210, Test Accuracy = 93.960%\n",
            "Epoch: 23, Mini-Batches Completed: 350, Loss: 0.228, Test Accuracy = 94.140%\n",
            "Epoch: 23, Mini-Batches Completed: 400, Loss: 0.217, Test Accuracy = 94.160%\n",
            "Epoch: 23, Mini-Batches Completed: 450, Loss: 0.218, Test Accuracy = 94.140%\n",
            "Starting Epoch: 24...\n",
            "Epoch: 24, Mini-Batches Completed: 50, Loss: 0.218, Test Accuracy = 94.190%\n",
            "Epoch: 24, Mini-Batches Completed: 100, Loss: 0.220, Test Accuracy = 94.120%\n",
            "Epoch: 24, Mini-Batches Completed: 150, Loss: 0.216, Test Accuracy = 94.190%\n",
            "Epoch: 24, Mini-Batches Completed: 200, Loss: 0.219, Test Accuracy = 94.130%\n",
            "Epoch: 24, Mini-Batches Completed: 250, Loss: 0.209, Test Accuracy = 94.150%\n",
            "Epoch: 24, Mini-Batches Completed: 300, Loss: 0.212, Test Accuracy = 94.230%\n",
            "Epoch: 24, Mini-Batches Completed: 350, Loss: 0.204, Test Accuracy = 94.290%\n",
            "Epoch: 24, Mini-Batches Completed: 400, Loss: 0.225, Test Accuracy = 94.120%\n",
            "Epoch: 24, Mini-Batches Completed: 450, Loss: 0.220, Test Accuracy = 94.180%\n",
            "Starting Epoch: 25...\n",
            "Epoch: 25, Mini-Batches Completed: 50, Loss: 0.209, Test Accuracy = 94.370%\n",
            "Epoch: 25, Mini-Batches Completed: 100, Loss: 0.204, Test Accuracy = 94.400%\n",
            "Epoch: 25, Mini-Batches Completed: 150, Loss: 0.216, Test Accuracy = 94.360%\n",
            "Epoch: 25, Mini-Batches Completed: 200, Loss: 0.208, Test Accuracy = 94.330%\n",
            "Epoch: 25, Mini-Batches Completed: 250, Loss: 0.207, Test Accuracy = 94.400%\n",
            "Epoch: 25, Mini-Batches Completed: 300, Loss: 0.204, Test Accuracy = 94.330%\n",
            "Epoch: 25, Mini-Batches Completed: 350, Loss: 0.217, Test Accuracy = 94.500%\n",
            "Epoch: 25, Mini-Batches Completed: 400, Loss: 0.203, Test Accuracy = 94.350%\n",
            "Epoch: 25, Mini-Batches Completed: 450, Loss: 0.211, Test Accuracy = 94.380%\n",
            "Finished Training\n",
            "Total time:  751.837837934494 seconds\n"
          ]
        }
      ]
    },
    {
      "cell_type": "markdown",
      "source": [
        "# 7) Plotting Training Logs "
      ],
      "metadata": {
        "id": "Zc22Q9_F2nLa"
      }
    },
    {
      "cell_type": "code",
      "source": [
        "# To create a plot with secondary y-axis we need to create a subplot\n",
        "fig, ax1 = plt.subplots()\n",
        "\n",
        "# Set title and x-axis label rotation\n",
        "plt.title(\"Accuracy & Loss vs Epoch\")\n",
        "plt.xticks(rotation=45)\n",
        "\n",
        "# We use twinx to create a plot a secondary y axis\n",
        "ax2 = ax1.twinx()\n",
        "\n",
        "# Create plot for loss_log and accuracy_log\n",
        "ax1.plot(epoch_log, loss_log, 'g-')\n",
        "ax2.plot(epoch_log, accuracy_log, 'b-')\n",
        "\n",
        "# Set labels\n",
        "ax1.set_xlabel('Epochs')\n",
        "ax1.set_ylabel('Loss', color='g')\n",
        "ax2.set_ylabel('Test Accuracy', color='b')\n",
        "\n",
        "plt.show()"
      ],
      "metadata": {
        "colab": {
          "base_uri": "https://localhost:8080/",
          "height": 301
        },
        "id": "eIJ6n6DGzRIF",
        "outputId": "d51ef9ad-9493-4eb0-9770-8d59608b9e7f"
      },
      "execution_count": 15,
      "outputs": [
        {
          "output_type": "display_data",
          "data": {
            "text/plain": [
              "<Figure size 432x288 with 2 Axes>"
            ],
            "image/png": "[encoded data removed]"
          },
          "metadata": {
            "needs_background": "light"
          }
        }
      ]
    },
    {
      "cell_type": "markdown",
      "source": [
        "# 8) Plotting Confusion Matrix "
      ],
      "metadata": {
        "id": "Aceo7RIH2ulR"
      }
    },
    {
      "cell_type": "code",
      "source": [
        "nb_classes = 10\n",
        "\n",
        "confusion_matrix = torch.zeros(nb_classes, nb_classes)\n",
        "\n",
        "with torch.no_grad():\n",
        "    for i, (inputs, classes) in enumerate(testLoader):\n",
        "        inputs = inputs.to(device)\n",
        "        classes = classes.to(device)\n",
        "        outputs = net(inputs)\n",
        "        _, preds = torch.max(outputs, 1)\n",
        "        for t, p in zip(classes.view(-1), preds.view(-1)):\n",
        "                confusion_matrix[t.long(), p.long()] += 1"
      ],
      "metadata": {
        "id": "ITBvCluk0yqj"
      },
      "execution_count": 16,
      "outputs": []
    },
    {
      "cell_type": "code",
      "source": [
        "from sklearn.metrics import confusion_matrix\n",
        "import matplotlib.pyplot as plt \n",
        "import seaborn as sns \n",
        "\n",
        "nb_classes = 10\n",
        "\n",
        "# Initialize the prediction and label lists(tensors)\n",
        "predlist=torch.zeros(0,dtype=torch.long, device='cpu')\n",
        "lbllist=torch.zeros(0,dtype=torch.long, device='cpu')\n",
        "\n",
        "with torch.no_grad():\n",
        "    for i, (inputs, classes) in enumerate(testLoader):\n",
        "        inputs = inputs.to(device)\n",
        "        classes = classes.to(device)\n",
        "        outputs = net(inputs)\n",
        "        _, preds = torch.max(outputs, 1)\n",
        "\n",
        "        # Append batch prediction results\n",
        "        predlist=torch.cat([predlist,preds.view(-1).cpu()])\n",
        "        lbllist=torch.cat([lbllist,classes.view(-1).cpu()])\n",
        "\n",
        "# Confusion matrix\n",
        "conf_mat=confusion_matrix(lbllist.numpy(), predlist.numpy())\n",
        "print(conf_mat)\n",
        "\n",
        "# Per-class accuracy\n",
        "class_accuracy=100*conf_mat.diagonal()/conf_mat.sum(1)\n",
        "print(class_accuracy)"
      ],
      "metadata": {
        "colab": {
          "base_uri": "https://localhost:8080/"
        },
        "id": "kDZycH56z75M",
        "outputId": "b6e464df-f517-4f40-e915-90fca3df0e02"
      },
      "execution_count": 17,
      "outputs": [
        {
          "output_type": "stream",
          "name": "stdout",
          "text": [
            "[[ 963    0    2    1    0    3    7    1    3    0]\n",
            " [   0 1116    2    2    0    1    4    0   10    0]\n",
            " [   8    3  948   16   10    0    8   13   23    3]\n",
            " [   1    1   17  951    0    7    2   13   14    4]\n",
            " [   1    3    2    0  951    0    9    1    4   11]\n",
            " [   8    3    3   29    4  801   13    4   21    6]\n",
            " [  11    3    3    0   10    6  921    0    4    0]\n",
            " [   2    9   24    5    6    0    0  961    3   18]\n",
            " [   7    3    3   17    8    8    8    9  907    4]\n",
            " [   9    7    1   11   36    5    1   16    8  915]]\n",
            "[98.26530612 98.32599119 91.86046512 94.15841584 96.84317719 89.79820628\n",
            " 96.13778706 93.48249027 93.1211499  90.68384539]\n"
          ]
        }
      ]
    },
    {
      "cell_type": "code",
      "source": [],
      "metadata": {
        "id": "XQmJx8Hs2cMm"
      },
      "execution_count": 17,
      "outputs": []
    }
  ]
}