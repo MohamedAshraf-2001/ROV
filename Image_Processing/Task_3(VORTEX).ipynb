{
 "cells": [
  {
   "cell_type": "markdown",
   "id": "d72313cd",
   "metadata": {},
   "source": [
    "## a code script that can save a video stream from webcame"
   ]
  },
  {
   "cell_type": "code",
   "execution_count": 5,
   "id": "55e6b638",
   "metadata": {},
   "outputs": [],
   "source": [
    "# Python program to illustrate\n",
    "# saving an operated video\n",
    "\n",
    "# organize imports\n",
    "import numpy as np\n",
    "import cv2\n",
    "\n",
    "cap = cv2.VideoCapture(0)\n",
    "\n",
    "# Define the codec and create VideoWriter object\n",
    "fourcc = cv2.VideoWriter_fourcc('m', 'p', '4', 'v')\n",
    "out = cv2.VideoWriter('saving.mp4', fourcc, 20.0, (640, 480))\n",
    "\n",
    "while(True):\n",
    "\tret, frame = cap.read()\n",
    "\n",
    "\tcv2.imshow('Original', frame)\n",
    "\n",
    "\tif cv2.waitKey(1) & 0xFF == ord('q'):\n",
    "\t\tbreak\n",
    "\n",
    "cap.release()\n",
    "out.release()\n",
    "\n",
    "cv2.destroyAllWindows()"
   ]
  },
  {
   "cell_type": "code",
   "execution_count": null,
   "id": "423b41b6",
   "metadata": {},
   "outputs": [],
   "source": []
  }
 ],
 "metadata": {
  "kernelspec": {
   "display_name": "Python 3 (ipykernel)",
   "language": "python",
   "name": "python3"
  },
  "language_info": {
   "codemirror_mode": {
    "name": "ipython",
    "version": 3
   },
   "file_extension": ".py",
   "mimetype": "text/x-python",
   "name": "python",
   "nbconvert_exporter": "python",
   "pygments_lexer": "ipython3",
   "version": "3.7.8"
  }
 },
 "nbformat": 4,
 "nbformat_minor": 5
}
