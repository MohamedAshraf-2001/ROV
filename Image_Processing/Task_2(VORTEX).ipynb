{
 "cells": [
  {
   "cell_type": "code",
   "execution_count": 2,
   "id": "ecf0fa2e",
   "metadata": {},
   "outputs": [],
   "source": [
    "import numpy as np \n",
    "import cv2 \n",
    "import matplotlib.pyplot as plt \n",
    "\n",
    "# Define our imshow function \n",
    "def imshow(title = \"Image\", image = None, size = 10):\n",
    "    w, h = image.shape[0], image.shape[1]\n",
    "    aspect_ratio = w/h\n",
    "    plt.figure(figsize=(size * aspect_ratio,size))\n",
    "    plt.imshow(cv2.cvtColor(image, cv2.COLOR_BGR2RGB))\n",
    "    plt.title(title)\n",
    "    plt.show()"
   ]
  },
  {
   "cell_type": "markdown",
   "id": "f7756479",
   "metadata": {},
   "source": [
    "Read frames from any camera. Press **Q** to terminate the code, **R** to rotate the frame **90** degrees, **C** to save the frame on your device, **G** to convert the frame to grayscale, **H** to convert the frame to HSV space, **X** to show (grayscale, HSV, rotated and original frames) together, **Z** to show only the original frame."
   ]
  },
  {
   "cell_type": "code",
   "execution_count": 3,
   "id": "ec02a0b7",
   "metadata": {},
   "outputs": [],
   "source": [
    "options = np.zeros((240, 640, 3), np.uint8)\n",
    "cv2.putText(options, 'Press R to rotate the frame 90 degrees',                        (0,30), cv2.FONT_HERSHEY_SIMPLEX, 0.9,    (40,200,0), 2)\n",
    "cv2.putText(options, 'Press G to convert the frame to grayscale',                     (0,60), cv2.FONT_HERSHEY_SIMPLEX, 0.9,    (40,200,0), 2)\n",
    "cv2.putText(options, 'H to convert the frame to HSV space',                           (0,90), cv2.FONT_HERSHEY_SIMPLEX, 0.9,    (40,200,0), 2)\n",
    "cv2.putText(options, 'Press X to show (grayscale, HSV, rotated and original frames)', (0,120), cv2.FONT_HERSHEY_SIMPLEX,  0.9,   (40,200,0), 2)\n",
    "cv2.putText(options, 'Press Z to show only the original frame',                      (0,150), cv2.FONT_HERSHEY_SIMPLEX,  0.9,    (40,200,0), 2)\n",
    "cv2.putText(options, 'Press C to save the frame on your device',                      (0,180), cv2.FONT_HERSHEY_SIMPLEX,  0.9,    (40,200,0), 2)\n",
    "cv2.putText(options, 'Press Q to terminate the code',                                 (0,210), cv2.FONT_HERSHEY_SIMPLEX,   0.9,    (40,200,0), 2)\n",
    "cv2.imshow('options widow', options)\n",
    "cv2.waitKey(0)\n",
    "cv2.destroyAllWindows()"
   ]
  },
  {
   "cell_type": "code",
   "execution_count": 8,
   "id": "504b6fc4",
   "metadata": {},
   "outputs": [],
   "source": [
    "Width = 720\n",
    "Height = 1080\n",
    "cap = cv2.VideoCapture(0)\n",
    "cap.set(3, Width)\n",
    "cap.set(4, Height)\n",
    "cap.set(10, 150)\n",
    "\n",
    "i = 0\n",
    "    \n",
    "while True:\n",
    "    _, img = cap.read()\n",
    "    stacked = cv2.vconcat([img,options])\n",
    "    \n",
    "    hsv  = cv2.cvtColor(img, cv2.COLOR_BGR2HSV) \n",
    "    gray = cv2.cvtColor(img, cv2.COLOR_BGR2GRAY)\n",
    "    rotate = cv2.rotate(img, cv2.ROTATE_90_CLOCKWISE)\n",
    "    \n",
    "    cv2.imshow('Original Image', stacked)\n",
    "    \n",
    "    k = cv2.waitKey(1) & 0xFF\n",
    "    \n",
    "    if k == ord('c'):\n",
    "        cv2.imwrite('frame'+str(i)+'.jpg',img)\n",
    "        i = i + 1\n",
    "    \n",
    "    elif k == ord('z'):\n",
    "        cv2.destroyAllWindows()\n",
    "        cv2.imshow('Original Image', img)\n",
    "          \n",
    "    elif k == ord('g'):\n",
    "        cv2.destroyAllWindows()\n",
    "        cv2.imshow('GRAY image', gray)\n",
    "        \n",
    "    elif k == ord('h'):\n",
    "        cv2.destroyAllWindows()\n",
    "        cv2.imshow('HSV Image',hsv)\n",
    "        \n",
    "    elif k == ord('r'):\n",
    "        cv2.destroyAllWindows()\n",
    "        cv2.imshow('rotate', rotate)\n",
    "    \n",
    "    elif k == ord('x'):\n",
    "        cv2.destroyAllWindows()\n",
    "        cv2.imshow('HSV Image',hsv)\n",
    "        cv2.imshow('Original', img)\n",
    "        cv2.imshow('Gray Image', gray)\n",
    "        cv2.imshow('rotate', rotate)\n",
    "            \n",
    "    elif k == ord('q'):\n",
    "        break\n",
    "        \n",
    "cv2.destroyAllWindows()"
   ]
  },
  {
   "cell_type": "code",
   "execution_count": 5,
   "id": "22647a42",
   "metadata": {},
   "outputs": [],
   "source": [
    "\n"
   ]
  }
 ],
 "metadata": {
  "kernelspec": {
   "display_name": "Python 3 (ipykernel)",
   "language": "python",
   "name": "python3"
  },
  "language_info": {
   "codemirror_mode": {
    "name": "ipython",
    "version": 3
   },
   "file_extension": ".py",
   "mimetype": "text/x-python",
   "name": "python",
   "nbconvert_exporter": "python",
   "pygments_lexer": "ipython3",
   "version": "3.7.8"
  }
 },
 "nbformat": 4,
 "nbformat_minor": 5
}
